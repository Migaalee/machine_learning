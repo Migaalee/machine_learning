{
  "nbformat": 4,
  "nbformat_minor": 0,
  "metadata": {
    "colab": {
      "name": "Assigment2_AA.ipynb",
      "provenance": [],
      "collapsed_sections": [
        "Q5AiJ1MofdF1",
        "MlG3DcGFhLL5",
        "CfKDa3g1hODk",
        "qDfCT3-_hN2k",
        "EorpwaL_iHVB",
        "mJKdrArPiXah",
        "U4GS-XRFizag",
        "05DzsbinjA9a"
      ],
      "include_colab_link": true
    },
    "kernelspec": {
      "name": "python3",
      "display_name": "Python 3"
    },
    "language_info": {
      "name": "python"
    }
  },
  "cells": [
    {
      "cell_type": "markdown",
      "metadata": {
        "id": "view-in-github",
        "colab_type": "text"
      },
      "source": [
        "<a href=\"https://colab.research.google.com/github/Migaalee/machine_learning/blob/main/Assigment2_AA.ipynb\" target=\"_parent\"><img src=\"https://colab.research.google.com/assets/colab-badge.svg\" alt=\"Open In Colab\"/></a>"
      ]
    },
    {
      "cell_type": "markdown",
      "source": [
        "# 1. Project description\n",
        "## Objective\n",
        "The goal of this assignment is to examine a set of bacterial cell images using machine learning techniques, including feature extraction, features selection and clustering, in order to help the biologists organize similar images. \n",
        "You will load all images, extract features, examine them and select a subset for clustering with the goal of reaching some conclusion about the best way of grouping these images.\n",
        "\n",
        "## Dataset \n",
        "Images: bacteria; size: 50x50 pixels, with a black background and the segmented region centered in the image."
      ],
      "metadata": {
        "id": "Q5AiJ1MofdF1"
      }
    },
    {
      "cell_type": "markdown",
      "source": [
        "# Import all packages that will be used"
      ],
      "metadata": {
        "id": "UyAEW3SMgDi4"
      }
    },
    {
      "cell_type": "code",
      "source": [
        "#import numpy as np\n",
        "import matplotlib.pyplot as plt\n",
        "import pandas as pd\n",
        "from pandas.plotting import parallel_coordinates,radviz, scatter_matrix\n",
        "import seaborn as sns\n",
        "import numpy as np\n",
        "\n",
        "from sklearn.decomposition import PCA\n",
        "from sklearn.manifold import TSNE, Isomap\n",
        "#from sklearn.preprocessing import StandardScaler -penso que nao devemos fazer standardizacao da data pq muda a sua forma\n",
        "\n",
        "from sklearn.feature_selection import f_classif #for the anova\n",
        "from sklearn.feature_selection import SelectKBest\n",
        "\n",
        "from sklearn.svm import SVC\n",
        "from sklearn.model_selection import StratifiedKFold\n",
        "from sklearn.feature_selection import RFECV\n",
        "from sklearn.cluster import DBSCAN, KMeans, AgglomerativeClustering\n",
        "\n",
        "from sklearn.neighbors import KNeighborsClassifier #NAO USEI AINDA\n",
        "from sklearn.neighbors import NearestNeighbors\n",
        "\n",
        "from sklearn.metrics.cluster import adjusted_rand_score\n",
        "from sklearn.metrics import silhouette_score\n",
        "from sklearn.feature_selection import mutual_info_classif\n",
        "\n",
        "#from metrics import conf,accuracy,precision,recall,F1\n",
        "\n",
        "#Add documents below\n",
        "#from tp2_aux import report_clusters,images_as_matrix\n",
        "\n",
        "#Only for google collabs\n",
        "from google.colab import files #this is to load files from your local disk"
      ],
      "metadata": {
        "id": "innOYIZMgxLi"
      },
      "execution_count": 1,
      "outputs": []
    },
    {
      "cell_type": "markdown",
      "source": [
        "# Upload data"
      ],
      "metadata": {
        "id": "mm9Xv65ngw0T"
      }
    },
    {
      "cell_type": "markdown",
      "source": [
        "Auxiliary document upload"
      ],
      "metadata": {
        "id": "RlP98sw-lSkX"
      }
    },
    {
      "cell_type": "code",
      "source": [
        "TP2_aux = files.upload() "
      ],
      "metadata": {
        "colab": {
          "resources": {
            "http://localhost:8080/nbextensions/google.colab/files.js": {
              "data": "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",
              "ok": true,
              "headers": [
                [
                  "content-type",
                  "application/javascript"
                ]
              ],
              "status": 200,
              "status_text": ""
            }
          },
          "base_uri": "https://localhost:8080/",
          "height": 74
        },
        "id": "pEcinFFUg5yz",
        "outputId": "d9b6c9d0-9a3c-4c27-cdc1-ea8ab679ee06"
      },
      "execution_count": 2,
      "outputs": [
        {
          "output_type": "display_data",
          "data": {
            "text/html": [
              "\n",
              "     <input type=\"file\" id=\"files-f5131cef-f77b-43ac-8731-bad46cec3f0f\" name=\"files[]\" multiple disabled\n",
              "        style=\"border:none\" />\n",
              "     <output id=\"result-f5131cef-f77b-43ac-8731-bad46cec3f0f\">\n",
              "      Upload widget is only available when the cell has been executed in the\n",
              "      current browser session. Please rerun this cell to enable.\n",
              "      </output>\n",
              "      <script src=\"/nbextensions/google.colab/files.js\"></script> "
            ],
            "text/plain": [
              "<IPython.core.display.HTML object>"
            ]
          },
          "metadata": {}
        },
        {
          "output_type": "stream",
          "name": "stdout",
          "text": [
            "Saving tp2_aux.py to tp2_aux.py\n"
          ]
        }
      ]
    },
    {
      "cell_type": "markdown",
      "source": [
        "Data set"
      ],
      "metadata": {
        "id": "iggcU9oIbRNM"
      }
    },
    {
      "cell_type": "code",
      "source": [
        "data = files.upload()"
      ],
      "metadata": {
        "colab": {
          "resources": {
            "http://localhost:8080/nbextensions/google.colab/files.js": {
              "data": "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",
              "ok": true,
              "headers": [
                [
                  "content-type",
                  "application/javascript"
                ]
              ],
              "status": 200,
              "status_text": ""
            }
          },
          "base_uri": "https://localhost:8080/",
          "height": 74
        },
        "id": "nv2A2ckfa4tJ",
        "outputId": "3c646b69-dfc1-4d97-8a52-489a67f9095e"
      },
      "execution_count": 3,
      "outputs": [
        {
          "output_type": "display_data",
          "data": {
            "text/html": [
              "\n",
              "     <input type=\"file\" id=\"files-6c0c6131-928e-4f41-acdd-9e928def8b3b\" name=\"files[]\" multiple disabled\n",
              "        style=\"border:none\" />\n",
              "     <output id=\"result-6c0c6131-928e-4f41-acdd-9e928def8b3b\">\n",
              "      Upload widget is only available when the cell has been executed in the\n",
              "      current browser session. Please rerun this cell to enable.\n",
              "      </output>\n",
              "      <script src=\"/nbextensions/google.colab/files.js\"></script> "
            ],
            "text/plain": [
              "<IPython.core.display.HTML object>"
            ]
          },
          "metadata": {}
        },
        {
          "output_type": "stream",
          "name": "stdout",
          "text": [
            "Saving images.zip to images.zip\n"
          ]
        }
      ]
    },
    {
      "cell_type": "code",
      "source": [
        "import zipfile\n",
        "import io\n",
        "images = zipfile.ZipFile(io.BytesIO(data['images.zip']), \"r\")\n",
        "images.extractall()"
      ],
      "metadata": {
        "id": "5ZWNnjSYa0Hq"
      },
      "execution_count": 4,
      "outputs": []
    },
    {
      "cell_type": "markdown",
      "source": [
        "Import labels"
      ],
      "metadata": {
        "id": "LqmdMOq96EUz"
      }
    },
    {
      "cell_type": "code",
      "source": [
        "y = files.upload()"
      ],
      "metadata": {
        "colab": {
          "resources": {
            "http://localhost:8080/nbextensions/google.colab/files.js": {
              "data": "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",
              "ok": true,
              "headers": [
                [
                  "content-type",
                  "application/javascript"
                ]
              ],
              "status": 200,
              "status_text": ""
            }
          },
          "base_uri": "https://localhost:8080/",
          "height": 74
        },
        "id": "Yo1eH07J6EqU",
        "outputId": "7b3fd0ab-2da4-4880-a9ef-9c6c8dbdf567"
      },
      "execution_count": 5,
      "outputs": [
        {
          "output_type": "display_data",
          "data": {
            "text/html": [
              "\n",
              "     <input type=\"file\" id=\"files-be8365c3-b331-4400-b59e-e6cca281879c\" name=\"files[]\" multiple disabled\n",
              "        style=\"border:none\" />\n",
              "     <output id=\"result-be8365c3-b331-4400-b59e-e6cca281879c\">\n",
              "      Upload widget is only available when the cell has been executed in the\n",
              "      current browser session. Please rerun this cell to enable.\n",
              "      </output>\n",
              "      <script src=\"/nbextensions/google.colab/files.js\"></script> "
            ],
            "text/plain": [
              "<IPython.core.display.HTML object>"
            ]
          },
          "metadata": {}
        },
        {
          "output_type": "stream",
          "name": "stdout",
          "text": [
            "Saving labels.txt to labels.txt\n"
          ]
        }
      ]
    },
    {
      "cell_type": "markdown",
      "source": [
        "# Data preparation"
      ],
      "metadata": {
        "id": "xuZpGkxngDv8"
      }
    },
    {
      "cell_type": "markdown",
      "source": [
        "Use the images_as_matrix function to return a 2D numpy array with one image per row (563 rows) and one pixel per column (50x50=2500 columns) from the images in the images folder."
      ],
      "metadata": {
        "id": "Xew_3oupnibu"
      }
    },
    {
      "cell_type": "code",
      "source": [
        "from tp2_aux import images_as_matrix\n",
        "X = images_as_matrix(N=563)"
      ],
      "metadata": {
        "id": "EMe_90Yog4_T"
      },
      "execution_count": 6,
      "outputs": []
    },
    {
      "cell_type": "markdown",
      "source": [
        "#Features Extraction\n",
        "\n",
        "With each method, extract six features from the data set, for a total of 18 features."
      ],
      "metadata": {
        "id": "A1BqvygehBFk"
      }
    },
    {
      "cell_type": "markdown",
      "source": [
        "###Principal Component Analysis (PCA)\n",
        "This is a method of dimensionality reduction that computes new features maximizing the preserved variance of the original data set. It transforms the data into an orthogonal set of coordinates so that the values along each coordinate are not correlated. \n",
        "\n",
        "In this case, we should not standardize or normalize the data because doing so will distort its shape.\n"
      ],
      "metadata": {
        "id": "MlG3DcGFhLL5"
      }
    },
    {
      "cell_type": "code",
      "source": [
        "pca = PCA(n_components = 6) #number of features we want to extract that correspond to the principal components\n",
        "X_pca = pca.fit_transform(X) #create a new matrix X, X_pca, with the new six features \n",
        "#intrepretation: prints the first 6 PC for each image"
      ],
      "metadata": {
        "id": "K-MD9iJjhY9i"
      },
      "execution_count": 7,
      "outputs": []
    },
    {
      "cell_type": "code",
      "source": [
        "#Dataframe with the values of the first 6 PCA for all examples \n",
        "df_pca = pd.DataFrame(X_pca, columns = ['pca1','pca2','pca3','pca4','pca5','pca6'])\n",
        "print(df_pca) "
      ],
      "metadata": {
        "colab": {
          "base_uri": "https://localhost:8080/"
        },
        "id": "SoGo5qzU-KxR",
        "outputId": "43b56b75-e7b8-455e-bf3f-aa43d1972a0e"
      },
      "execution_count": 8,
      "outputs": [
        {
          "output_type": "stream",
          "name": "stdout",
          "text": [
            "            pca1        pca2         pca3        pca4        pca5         pca6\n",
            "0   -1566.769060  256.972337   134.894364    0.425208  -78.219198    42.333352\n",
            "1   -1096.790534 -259.430895   281.108142  140.740915  486.231125   337.659370\n",
            "2   -1899.446655  -88.053971   188.662028   18.246523   11.080490  -351.756228\n",
            "3   -1102.846546 -258.014858  -215.959222 -175.719591 -118.139082   -17.893588\n",
            "4   -1713.854832 -441.738626   -58.189256  111.578309   86.092546   105.252692\n",
            "..           ...         ...          ...         ...         ...          ...\n",
            "558   766.613222 -693.642374  1191.752013   43.696428  195.631255  -181.280955\n",
            "559 -1446.305757  440.791998   555.953480  349.496895 -388.072796  1224.650278\n",
            "560 -1607.762033 -339.039526   471.903450  266.075340   42.667614   243.060169\n",
            "561   200.021657 -567.829973   950.199758  125.973008 -700.379139  -788.107848\n",
            "562  -320.936427  914.236160   623.763268  320.711009  536.389024  -289.588068\n",
            "\n",
            "[563 rows x 6 columns]\n"
          ]
        }
      ]
    },
    {
      "cell_type": "markdown",
      "source": [
        "###t-Distributed Stochastic Neighbor Embedding (t-SNE)"
      ],
      "metadata": {
        "id": "CfKDa3g1hODk"
      }
    },
    {
      "cell_type": "code",
      "source": [
        "tsne = TSNE(n_components = 6, method = 'exact') #method = ’barnes_hut’ is the default. method = 'exact' runs a slower, but exact, algorithm in O(N^2) time. The exact algorithm should be used when nearest-neighbor errors need to be better than 3%. However, the exact method cannot scale to millions of examples.\n",
        "X_tsne = tsne.fit_transform(X)"
      ],
      "metadata": {
        "id": "MhKpXT3vhZ6y",
        "colab": {
          "base_uri": "https://localhost:8080/"
        },
        "outputId": "5cc3586b-d5de-4307-c43c-199939ea6e10"
      },
      "execution_count": 9,
      "outputs": [
        {
          "output_type": "stream",
          "name": "stderr",
          "text": [
            "/usr/local/lib/python3.7/dist-packages/sklearn/manifold/_t_sne.py:783: FutureWarning: The default initialization in TSNE will change from 'random' to 'pca' in 1.2.\n",
            "  FutureWarning,\n",
            "/usr/local/lib/python3.7/dist-packages/sklearn/manifold/_t_sne.py:793: FutureWarning: The default learning rate in TSNE will change from 200.0 to 'auto' in 1.2.\n",
            "  FutureWarning,\n"
          ]
        }
      ]
    },
    {
      "cell_type": "code",
      "source": [
        "#Dataframe\n",
        "df_tsne = pd.DataFrame(X_tsne,columns = ['tsne1','tsne2','tsne3','tsne4','tsne5','tsne6'])\n",
        "print(df_tsne)\n"
      ],
      "metadata": {
        "colab": {
          "base_uri": "https://localhost:8080/"
        },
        "id": "kE1GZkw-TEI6",
        "outputId": "7b5c972e-c738-4854-df70-5dc9a07f52fd"
      },
      "execution_count": 10,
      "outputs": [
        {
          "output_type": "stream",
          "name": "stdout",
          "text": [
            "         tsne1      tsne2       tsne3      tsne4      tsne5      tsne6\n",
            "0   -22.123669  -7.523289  112.893478 -33.810749  79.094429 -43.348598\n",
            "1     8.590239  -2.837514   21.074429   7.780875 -10.220387  -1.464918\n",
            "2    21.174490  -3.150915   -4.682674  11.233221   1.014544 -10.661259\n",
            "3     1.202043  -9.395641   18.051624  -3.064868   9.723572  -6.642215\n",
            "4    20.108747  -3.355578    9.654712  -0.526560  -1.585870  -2.341228\n",
            "..         ...        ...         ...        ...        ...        ...\n",
            "558  -6.814653  -4.059627   -6.341681 -18.004782 -13.551891  -0.368724\n",
            "559   7.855708   1.117169    9.577238  -5.162953  -3.910253 -20.433830\n",
            "560  26.702772   3.156291    6.506842   0.478717  -4.261222 -11.171874\n",
            "561 -13.352359  -7.673076    8.633200  -2.066080 -13.096975  -4.968789\n",
            "562  -2.806542 -13.933256   -3.882554 -13.591160   1.823316 -15.519993\n",
            "\n",
            "[563 rows x 6 columns]\n"
          ]
        }
      ]
    },
    {
      "cell_type": "markdown",
      "source": [
        "###Isometric mapping with Isomap"
      ],
      "metadata": {
        "id": "qDfCT3-_hN2k"
      }
    },
    {
      "cell_type": "code",
      "source": [
        "isomap = Isomap(n_components = 6, n_neighbors=5) #5 é o numero de neighbours por default\n",
        "X_isomap = isomap.fit_transform(X)"
      ],
      "metadata": {
        "id": "UibQSXUphdRC"
      },
      "execution_count": 11,
      "outputs": []
    },
    {
      "cell_type": "code",
      "source": [
        "#Dataframe\n",
        "df_isomap = pd.DataFrame(X_isomap,columns = ['im1','im2','im3','im4','im5','im6'])\n",
        "print(df_isomap)"
      ],
      "metadata": {
        "colab": {
          "base_uri": "https://localhost:8080/"
        },
        "id": "ln7PS9qTWY3w",
        "outputId": "5be72b46-20a6-4cca-cbc0-dd4c9c02f685"
      },
      "execution_count": 12,
      "outputs": [
        {
          "output_type": "stream",
          "name": "stdout",
          "text": [
            "             im1          im2  ...         im5          im6\n",
            "0   -3542.154360   985.098659  ...   15.216278  1308.514337\n",
            "1   -3150.522163  -585.940269  ...  655.008573   813.251967\n",
            "2   -4943.865828    85.856124  ... -407.711430  1107.826303\n",
            "3   -2305.977768  -639.373716  ... -606.680737    76.015657\n",
            "4   -3927.758208  -839.460439  ...  613.825335   994.550631\n",
            "..           ...          ...  ...         ...          ...\n",
            "558  2725.343066   720.793744  ...  961.556475  -839.706573\n",
            "559 -4475.871424  1152.987403  ...  371.217944   588.210993\n",
            "560 -4567.669782    36.818054  ...  423.216752  1478.428098\n",
            "561  3365.305026  -210.677432  ... -544.573532  -313.341049\n",
            "562  -896.830004  3109.392351  ...  782.954261   634.254161\n",
            "\n",
            "[563 rows x 6 columns]\n"
          ]
        }
      ]
    },
    {
      "cell_type": "markdown",
      "source": [
        "##After extracting features, select the best for clustering."
      ],
      "metadata": {
        "id": "NYFAztv8hcNy"
      }
    },
    {
      "cell_type": "code",
      "source": [
        "#Transform the labels document into a pandas dataframe \n",
        "\n",
        "labels = np.loadtxt('labels.txt', delimiter=',')\n",
        "y = labels[:,1].reshape(-1,1)\n",
        "y = pd.DataFrame(y, columns = ['y'])\n",
        "\n",
        "print(y)\n",
        "#y.iloc[105] #test that will concatenate well later"
      ],
      "metadata": {
        "colab": {
          "base_uri": "https://localhost:8080/"
        },
        "id": "xEqknzCwa1hL",
        "outputId": "c9293088-dfa2-438b-fa32-0149033b8cf8"
      },
      "execution_count": 13,
      "outputs": [
        {
          "output_type": "stream",
          "name": "stdout",
          "text": [
            "       y\n",
            "0    0.0\n",
            "1    0.0\n",
            "2    0.0\n",
            "3    0.0\n",
            "4    0.0\n",
            "..   ...\n",
            "558  0.0\n",
            "559  0.0\n",
            "560  0.0\n",
            "561  0.0\n",
            "562  0.0\n",
            "\n",
            "[563 rows x 1 columns]\n"
          ]
        }
      ]
    },
    {
      "cell_type": "code",
      "source": [
        "#Create a dataframe with the 18 features and the y values\n",
        "df_total = pd.concat((df_pca, df_tsne, df_isomap, y), axis=1)\n",
        "print(df_total) "
      ],
      "metadata": {
        "id": "DXmV5etghzup",
        "colab": {
          "base_uri": "https://localhost:8080/"
        },
        "outputId": "cf60aa1e-b55f-4192-fb20-31392630d36c"
      },
      "execution_count": 14,
      "outputs": [
        {
          "output_type": "stream",
          "name": "stdout",
          "text": [
            "            pca1        pca2         pca3  ...         im5          im6    y\n",
            "0   -1566.769060  256.972337   134.894364  ...   15.216278  1308.514337  0.0\n",
            "1   -1096.790534 -259.430895   281.108142  ...  655.008573   813.251967  0.0\n",
            "2   -1899.446655  -88.053971   188.662028  ... -407.711430  1107.826303  0.0\n",
            "3   -1102.846546 -258.014858  -215.959222  ... -606.680737    76.015657  0.0\n",
            "4   -1713.854832 -441.738626   -58.189256  ...  613.825335   994.550631  0.0\n",
            "..           ...         ...          ...  ...         ...          ...  ...\n",
            "558   766.613222 -693.642374  1191.752013  ...  961.556475  -839.706573  0.0\n",
            "559 -1446.305757  440.791998   555.953480  ...  371.217944   588.210993  0.0\n",
            "560 -1607.762033 -339.039526   471.903450  ...  423.216752  1478.428098  0.0\n",
            "561   200.021657 -567.829973   950.199758  ... -544.573532  -313.341049  0.0\n",
            "562  -320.936427  914.236160   623.763268  ...  782.954261   634.254161  0.0\n",
            "\n",
            "[563 rows x 19 columns]\n"
          ]
        }
      ]
    },
    {
      "cell_type": "code",
      "source": [
        "#Select only the rows when y != 0\n",
        "df_evaluated = df_total[df_total['y'] > 0]\n",
        "df_evaluated.pop(\"y\")\n",
        "#print(df_evaluated)\n",
        "#with pd.option_context('display.max_columns', None):  # more options can be specified also\n",
        "#    print(df_evaluated)\n",
        "\n",
        "\n",
        "#Create y dataframe only when y != 0\n",
        "y_evaluated = y[y['y'] > 0]\n",
        "#print(y_evaluated)\n",
        "#print(len(y_evaluated))"
      ],
      "metadata": {
        "id": "q7KcpEicy7_K",
        "colab": {
          "base_uri": "https://localhost:8080/"
        },
        "outputId": "c9a8ebba-9d64-4ca1-9b26-6ff12904b729"
      },
      "execution_count": 22,
      "outputs": [
        {
          "output_type": "stream",
          "name": "stdout",
          "text": [
            "            pca1        pca2  ...          im5          im6\n",
            "25  -1007.021989 -876.523109  ... -1378.728959  -347.821222\n",
            "87   -262.402063  282.057743  ... -1177.406395  -666.221777\n",
            "98   -739.410824 -473.283368  ...   764.380039  -995.161705\n",
            "105  -331.781583  142.332327  ...  -425.202603   261.101615\n",
            "106  -325.975269 -995.149488  ...  -751.416200 -1595.292817\n",
            "..           ...         ...  ...          ...          ...\n",
            "536  1345.042235 -277.597473  ...  1234.409313 -1050.394546\n",
            "538  1138.372606 -624.778405  ...  3834.150524 -1186.939050\n",
            "544  1436.337613   11.491711  ...  4682.447190 -1777.386303\n",
            "554  1455.684831  713.092487  ...  -741.036332   565.616736\n",
            "556   956.572423  383.429459  ...  4982.070445 -1401.360697\n",
            "\n",
            "[81 rows x 18 columns]\n"
          ]
        }
      ]
    },
    {
      "cell_type": "markdown",
      "source": [
        "### Choose features to maintain"
      ],
      "metadata": {
        "id": "XT7xx4-VYbVt"
      }
    },
    {
      "cell_type": "code",
      "source": [
        "#Evaluate the most usefull features with ANOVA\n",
        "f, prob = f_classif(df_evaluated,y_evaluated) \n",
        "print(f) # check highest value here\n",
        "print(prob) #check smallest value here\n",
        "\n",
        "#maybe 2, 14, 13, 3, 1"
      ],
      "metadata": {
        "id": "ECpi-ioWcQz1",
        "colab": {
          "base_uri": "https://localhost:8080/"
        },
        "outputId": "db51696b-b32c-4a6c-a624-8e1e118975c9"
      },
      "execution_count": 51,
      "outputs": [
        {
          "output_type": "stream",
          "name": "stdout",
          "text": [
            "[7.84258393e+00 4.66338816e+01 1.91877840e+01 3.39142653e-01\n",
            " 2.81642143e-01 1.26269975e+00 7.24724199e-01 1.40478378e+00\n",
            " 3.96092856e+00 4.75523492e-03 5.37631665e-01 6.76287063e+00\n",
            " 2.19950442e+01 4.21774934e+01 2.72446618e+00 2.36041578e+00\n",
            " 7.83034618e-01 7.53186913e-01]\n",
            "[7.88001007e-04 4.76804240e-14 1.67139378e-07 7.13426002e-01\n",
            " 7.55307702e-01 2.88607004e-01 4.87691221e-01 2.51559649e-01\n",
            " 2.29957165e-02 9.95256342e-01 5.86278918e-01 1.95660232e-03\n",
            " 2.66092234e-08 3.83292069e-13 7.18255400e-02 1.01090125e-01\n",
            " 4.60575969e-01 4.74256833e-01]\n"
          ]
        },
        {
          "output_type": "stream",
          "name": "stderr",
          "text": [
            "/usr/local/lib/python3.7/dist-packages/sklearn/utils/validation.py:985: DataConversionWarning: A column-vector y was passed when a 1d array was expected. Please change the shape of y to (n_samples, ), for example using ravel().\n",
            "  y = column_or_1d(y, warn=True)\n"
          ]
        }
      ]
    },
    {
      "cell_type": "code",
      "source": [
        "#Evaluate the most usefull features with Select K Best - Lecture 15\n",
        "selector = SelectKBest(f_classif, k=5)\n",
        "X_final = selector.fit_transform(df_evaluated, y_evaluated)\n",
        "\n",
        "#print(X_final)\n",
        "\n",
        "#Dataframe\n",
        "#df_X_final = pd.DataFrame(X_final,columns = ['ft1','ft2','ft3', 'ft4', 'ft5'])\n",
        "\n",
        "#print(df_X_final)\n",
        "\n",
        "cols = selector.get_support(indices=True)\n",
        "features_df_new = df_evaluated.iloc[:,cols]\n",
        "\n",
        "features_df_new"
      ],
      "metadata": {
        "id": "Ar1ynvMrcnYJ",
        "colab": {
          "base_uri": "https://localhost:8080/",
          "height": 478
        },
        "outputId": "9d555eed-bf46-4501-fdc9-6d7cf3c2d93a"
      },
      "execution_count": 53,
      "outputs": [
        {
          "output_type": "stream",
          "name": "stderr",
          "text": [
            "/usr/local/lib/python3.7/dist-packages/sklearn/utils/validation.py:985: DataConversionWarning: A column-vector y was passed when a 1d array was expected. Please change the shape of y to (n_samples, ), for example using ravel().\n",
            "  y = column_or_1d(y, warn=True)\n"
          ]
        },
        {
          "output_type": "execute_result",
          "data": {
            "text/html": [
              "\n",
              "  <div id=\"df-5f682f83-ac16-4709-99fd-314e5e39aea5\">\n",
              "    <div class=\"colab-df-container\">\n",
              "      <div>\n",
              "<style scoped>\n",
              "    .dataframe tbody tr th:only-of-type {\n",
              "        vertical-align: middle;\n",
              "    }\n",
              "\n",
              "    .dataframe tbody tr th {\n",
              "        vertical-align: top;\n",
              "    }\n",
              "\n",
              "    .dataframe thead th {\n",
              "        text-align: right;\n",
              "    }\n",
              "</style>\n",
              "<table border=\"1\" class=\"dataframe\">\n",
              "  <thead>\n",
              "    <tr style=\"text-align: right;\">\n",
              "      <th></th>\n",
              "      <th>pca1</th>\n",
              "      <th>pca2</th>\n",
              "      <th>pca3</th>\n",
              "      <th>im1</th>\n",
              "      <th>im2</th>\n",
              "    </tr>\n",
              "  </thead>\n",
              "  <tbody>\n",
              "    <tr>\n",
              "      <th>25</th>\n",
              "      <td>-1007.021989</td>\n",
              "      <td>-876.523109</td>\n",
              "      <td>-459.409490</td>\n",
              "      <td>-1909.045836</td>\n",
              "      <td>-1467.993748</td>\n",
              "    </tr>\n",
              "    <tr>\n",
              "      <th>87</th>\n",
              "      <td>-262.402063</td>\n",
              "      <td>282.057743</td>\n",
              "      <td>-1283.710929</td>\n",
              "      <td>-769.569393</td>\n",
              "      <td>-1750.049802</td>\n",
              "    </tr>\n",
              "    <tr>\n",
              "      <th>98</th>\n",
              "      <td>-739.410824</td>\n",
              "      <td>-473.283368</td>\n",
              "      <td>-515.608773</td>\n",
              "      <td>-1523.531888</td>\n",
              "      <td>-1807.478902</td>\n",
              "    </tr>\n",
              "    <tr>\n",
              "      <th>105</th>\n",
              "      <td>-331.781583</td>\n",
              "      <td>142.332327</td>\n",
              "      <td>-835.238111</td>\n",
              "      <td>-1505.950785</td>\n",
              "      <td>-832.815079</td>\n",
              "    </tr>\n",
              "    <tr>\n",
              "      <th>106</th>\n",
              "      <td>-325.975269</td>\n",
              "      <td>-995.149488</td>\n",
              "      <td>-595.658688</td>\n",
              "      <td>-25.219991</td>\n",
              "      <td>-2453.627865</td>\n",
              "    </tr>\n",
              "    <tr>\n",
              "      <th>...</th>\n",
              "      <td>...</td>\n",
              "      <td>...</td>\n",
              "      <td>...</td>\n",
              "      <td>...</td>\n",
              "      <td>...</td>\n",
              "    </tr>\n",
              "    <tr>\n",
              "      <th>536</th>\n",
              "      <td>1345.042235</td>\n",
              "      <td>-277.597473</td>\n",
              "      <td>907.638509</td>\n",
              "      <td>3528.325142</td>\n",
              "      <td>1789.316091</td>\n",
              "    </tr>\n",
              "    <tr>\n",
              "      <th>538</th>\n",
              "      <td>1138.372606</td>\n",
              "      <td>-624.778405</td>\n",
              "      <td>1109.604140</td>\n",
              "      <td>3513.514033</td>\n",
              "      <td>1128.573788</td>\n",
              "    </tr>\n",
              "    <tr>\n",
              "      <th>544</th>\n",
              "      <td>1436.337613</td>\n",
              "      <td>11.491711</td>\n",
              "      <td>849.700344</td>\n",
              "      <td>3925.080065</td>\n",
              "      <td>1743.520992</td>\n",
              "    </tr>\n",
              "    <tr>\n",
              "      <th>554</th>\n",
              "      <td>1455.684831</td>\n",
              "      <td>713.092487</td>\n",
              "      <td>1394.046127</td>\n",
              "      <td>3814.904133</td>\n",
              "      <td>4498.864941</td>\n",
              "    </tr>\n",
              "    <tr>\n",
              "      <th>556</th>\n",
              "      <td>956.572423</td>\n",
              "      <td>383.429459</td>\n",
              "      <td>444.583988</td>\n",
              "      <td>3079.572385</td>\n",
              "      <td>1922.107884</td>\n",
              "    </tr>\n",
              "  </tbody>\n",
              "</table>\n",
              "<p>81 rows × 5 columns</p>\n",
              "</div>\n",
              "      <button class=\"colab-df-convert\" onclick=\"convertToInteractive('df-5f682f83-ac16-4709-99fd-314e5e39aea5')\"\n",
              "              title=\"Convert this dataframe to an interactive table.\"\n",
              "              style=\"display:none;\">\n",
              "        \n",
              "  <svg xmlns=\"http://www.w3.org/2000/svg\" height=\"24px\"viewBox=\"0 0 24 24\"\n",
              "       width=\"24px\">\n",
              "    <path d=\"M0 0h24v24H0V0z\" fill=\"none\"/>\n",
              "    <path d=\"M18.56 5.44l.94 2.06.94-2.06 2.06-.94-2.06-.94-.94-2.06-.94 2.06-2.06.94zm-11 1L8.5 8.5l.94-2.06 2.06-.94-2.06-.94L8.5 2.5l-.94 2.06-2.06.94zm10 10l.94 2.06.94-2.06 2.06-.94-2.06-.94-.94-2.06-.94 2.06-2.06.94z\"/><path d=\"M17.41 7.96l-1.37-1.37c-.4-.4-.92-.59-1.43-.59-.52 0-1.04.2-1.43.59L10.3 9.45l-7.72 7.72c-.78.78-.78 2.05 0 2.83L4 21.41c.39.39.9.59 1.41.59.51 0 1.02-.2 1.41-.59l7.78-7.78 2.81-2.81c.8-.78.8-2.07 0-2.86zM5.41 20L4 18.59l7.72-7.72 1.47 1.35L5.41 20z\"/>\n",
              "  </svg>\n",
              "      </button>\n",
              "      \n",
              "  <style>\n",
              "    .colab-df-container {\n",
              "      display:flex;\n",
              "      flex-wrap:wrap;\n",
              "      gap: 12px;\n",
              "    }\n",
              "\n",
              "    .colab-df-convert {\n",
              "      background-color: #E8F0FE;\n",
              "      border: none;\n",
              "      border-radius: 50%;\n",
              "      cursor: pointer;\n",
              "      display: none;\n",
              "      fill: #1967D2;\n",
              "      height: 32px;\n",
              "      padding: 0 0 0 0;\n",
              "      width: 32px;\n",
              "    }\n",
              "\n",
              "    .colab-df-convert:hover {\n",
              "      background-color: #E2EBFA;\n",
              "      box-shadow: 0px 1px 2px rgba(60, 64, 67, 0.3), 0px 1px 3px 1px rgba(60, 64, 67, 0.15);\n",
              "      fill: #174EA6;\n",
              "    }\n",
              "\n",
              "    [theme=dark] .colab-df-convert {\n",
              "      background-color: #3B4455;\n",
              "      fill: #D2E3FC;\n",
              "    }\n",
              "\n",
              "    [theme=dark] .colab-df-convert:hover {\n",
              "      background-color: #434B5C;\n",
              "      box-shadow: 0px 1px 3px 1px rgba(0, 0, 0, 0.15);\n",
              "      filter: drop-shadow(0px 1px 2px rgba(0, 0, 0, 0.3));\n",
              "      fill: #FFFFFF;\n",
              "    }\n",
              "  </style>\n",
              "\n",
              "      <script>\n",
              "        const buttonEl =\n",
              "          document.querySelector('#df-5f682f83-ac16-4709-99fd-314e5e39aea5 button.colab-df-convert');\n",
              "        buttonEl.style.display =\n",
              "          google.colab.kernel.accessAllowed ? 'block' : 'none';\n",
              "\n",
              "        async function convertToInteractive(key) {\n",
              "          const element = document.querySelector('#df-5f682f83-ac16-4709-99fd-314e5e39aea5');\n",
              "          const dataTable =\n",
              "            await google.colab.kernel.invokeFunction('convertToInteractive',\n",
              "                                                     [key], {});\n",
              "          if (!dataTable) return;\n",
              "\n",
              "          const docLinkHtml = 'Like what you see? Visit the ' +\n",
              "            '<a target=\"_blank\" href=https://colab.research.google.com/notebooks/data_table.ipynb>data table notebook</a>'\n",
              "            + ' to learn more about interactive tables.';\n",
              "          element.innerHTML = '';\n",
              "          dataTable['output_type'] = 'display_data';\n",
              "          await google.colab.output.renderOutput(dataTable, element);\n",
              "          const docLink = document.createElement('div');\n",
              "          docLink.innerHTML = docLinkHtml;\n",
              "          element.appendChild(docLink);\n",
              "        }\n",
              "      </script>\n",
              "    </div>\n",
              "  </div>\n",
              "  "
            ],
            "text/plain": [
              "            pca1        pca2         pca3          im1          im2\n",
              "25  -1007.021989 -876.523109  -459.409490 -1909.045836 -1467.993748\n",
              "87   -262.402063  282.057743 -1283.710929  -769.569393 -1750.049802\n",
              "98   -739.410824 -473.283368  -515.608773 -1523.531888 -1807.478902\n",
              "105  -331.781583  142.332327  -835.238111 -1505.950785  -832.815079\n",
              "106  -325.975269 -995.149488  -595.658688   -25.219991 -2453.627865\n",
              "..           ...         ...          ...          ...          ...\n",
              "536  1345.042235 -277.597473   907.638509  3528.325142  1789.316091\n",
              "538  1138.372606 -624.778405  1109.604140  3513.514033  1128.573788\n",
              "544  1436.337613   11.491711   849.700344  3925.080065  1743.520992\n",
              "554  1455.684831  713.092487  1394.046127  3814.904133  4498.864941\n",
              "556   956.572423  383.429459   444.583988  3079.572385  1922.107884\n",
              "\n",
              "[81 rows x 5 columns]"
            ]
          },
          "metadata": {},
          "execution_count": 53
        }
      ]
    },
    {
      "cell_type": "code",
      "source": [
        "for i in range(len(selector.scores_)):\n",
        "\tprint('Feature %d: %f' % (i, selector.scores_[i]))"
      ],
      "metadata": {
        "colab": {
          "base_uri": "https://localhost:8080/"
        },
        "id": "FRaxkISZ7LWk",
        "outputId": "7906ffd1-7a90-4783-bdbb-0df5f5ffa2c0"
      },
      "execution_count": 54,
      "outputs": [
        {
          "output_type": "stream",
          "name": "stdout",
          "text": [
            "Feature 0: 7.842584\n",
            "Feature 1: 46.633882\n",
            "Feature 2: 19.187784\n",
            "Feature 3: 0.339143\n",
            "Feature 4: 0.281642\n",
            "Feature 5: 1.262700\n",
            "Feature 6: 0.724724\n",
            "Feature 7: 1.404784\n",
            "Feature 8: 3.960929\n",
            "Feature 9: 0.004755\n",
            "Feature 10: 0.537632\n",
            "Feature 11: 6.762871\n",
            "Feature 12: 21.995044\n",
            "Feature 13: 42.177493\n",
            "Feature 14: 2.724466\n",
            "Feature 15: 2.360416\n",
            "Feature 16: 0.783035\n",
            "Feature 17: 0.753187\n"
          ]
        }
      ]
    },
    {
      "cell_type": "markdown",
      "source": [
        "### Plot the scores from SelectKbest"
      ],
      "metadata": {
        "id": "z5eiIihZ9TBe"
      }
    },
    {
      "cell_type": "code",
      "source": [
        "\n",
        "from matplotlib import pyplot\n",
        "plt.xticks(range(0, 19))\n",
        "pyplot.bar([i for i in range(len(selector.scores_))], selector.scores_)\n",
        "pyplot.show()"
      ],
      "metadata": {
        "colab": {
          "base_uri": "https://localhost:8080/",
          "height": 265
        },
        "id": "J-6d5pVd1GAJ",
        "outputId": "b2010b14-b1d3-4b69-d0f2-8d7eb2696a37"
      },
      "execution_count": 58,
      "outputs": [
        {
          "output_type": "display_data",
          "data": {
            "image/png": "[encoded data removed]",
            "text/plain": [
              "<Figure size 432x288 with 1 Axes>"
            ]
          },
          "metadata": {
            "needs_background": "light"
          }
        }
      ]
    },
    {
      "cell_type": "markdown",
      "source": [
        "Scatter matrix\n"
      ],
      "metadata": {
        "id": "UKF9dIhmiWBB"
      }
    },
    {
      "cell_type": "code",
      "source": [
        "#scatter_matrix(df_evaluated, alpha=0.5, figsize=(10,7), diagonal='kde')"
      ],
      "metadata": {
        "id": "wh7GQR_Hib2J"
      },
      "execution_count": 18,
      "outputs": []
    },
    {
      "cell_type": "markdown",
      "source": [
        "### Check which features correlate with each other"
      ],
      "metadata": {
        "id": "4Kv1S1-Wxo4S"
      }
    },
    {
      "cell_type": "code",
      "source": [
        "import numpy as np\n",
        "import pandas as pd\n",
        "import matplotlib.pyplot as plt\n",
        "\n",
        "\n",
        "data = features_df_new\n",
        "corr = data.corr()\n",
        "fig = plt.figure()\n",
        "ax = fig.add_subplot(111)\n",
        "cax = ax.matshow(corr,cmap='coolwarm', vmin=-1, vmax=1)\n",
        "fig.colorbar(cax)\n",
        "ticks = np.arange(0,len(data.columns),1)\n",
        "ax.set_xticks(ticks)\n",
        "plt.xticks(rotation=90)\n",
        "ax.set_yticks(ticks)\n",
        "ax.set_xticklabels(data.columns)\n",
        "ax.set_yticklabels(data.columns)\n",
        "plt.show()\n",
        "\n",
        "#Here we can see that pca1 and im1 is very correlated, so we should choose one of them. Pca1 had a lower score in Kbest and also lower F value, so im1 is a better feature."
      ],
      "metadata": {
        "id": "zGuADdUS76ZV",
        "colab": {
          "base_uri": "https://localhost:8080/",
          "height": 286
        },
        "outputId": "38654931-9113-4ddd-e5b6-4ce4cd24454e"
      },
      "execution_count": 29,
      "outputs": [
        {
          "output_type": "display_data",
          "data": {
            "image/png": "[encoded data removed]",
            "text/plain": [
              "<Figure size 432x288 with 2 Axes>"
            ]
          },
          "metadata": {
            "needs_background": "light"
          }
        }
      ]
    },
    {
      "cell_type": "markdown",
      "source": [
        "### Mutual information criteria"
      ],
      "metadata": {
        "id": "lq0vVBVRCNNR"
      }
    },
    {
      "cell_type": "markdown",
      "source": [
        "Mutual information (MI) between two random variables is a non-negative value, which measures the dependency between the variables. It is equal to zero if and only if two random variables are independent, and higher values mean higher dependency."
      ],
      "metadata": {
        "id": "oMBYfoc-4Vk9"
      }
    },
    {
      "cell_type": "code",
      "source": [
        "MI = mutual_info_classif(features_df_new, y_evaluated)\n",
        "print(MI) #Estimated mutual information between each feature and the target.\n",
        "#we can see that some of the features have a modestly low score, such as pca1, suggesting that perhaps they can be removed. \n",
        "# We can choose 4 features: PCA2 (col1), PCA3(col2), IM1 (col12), IM2 (col13). Or 3 features: PCA2 (col1), IM1 (col12), IM2 (col13)."
      ],
      "metadata": {
        "colab": {
          "base_uri": "https://localhost:8080/"
        },
        "id": "bklwE7bgxxp2",
        "outputId": "4868fa14-3091-4001-dfd2-1995d3041ba6"
      },
      "execution_count": 34,
      "outputs": [
        {
          "output_type": "stream",
          "name": "stdout",
          "text": [
            "[0.0952472  0.41003468 0.17753745 0.34146965 0.33181999]\n"
          ]
        },
        {
          "output_type": "stream",
          "name": "stderr",
          "text": [
            "/usr/local/lib/python3.7/dist-packages/sklearn/utils/validation.py:985: DataConversionWarning: A column-vector y was passed when a 1d array was expected. Please change the shape of y to (n_samples, ), for example using ravel().\n",
            "  y = column_or_1d(y, warn=True)\n"
          ]
        }
      ]
    },
    {
      "cell_type": "markdown",
      "source": [
        "#Clustering algorithms\n",
        "For this assignment, you will parametrize and compare at least two clustering algorithms: DBSCAN and K-Means. "
      ],
      "metadata": {
        "id": "GBxUIE7nh0dR"
      }
    },
    {
      "cell_type": "code",
      "source": [
        "#HERE WE USE ALL DATA, INCLUDING THE UNLABELED!!\n"
      ],
      "metadata": {
        "id": "v-qkrIGH5w9_"
      },
      "execution_count": null,
      "outputs": []
    },
    {
      "cell_type": "markdown",
      "source": [
        "##DBSCAN \n",
        "(you should use a value of 5 neighbouring points as this is the default value in the Scikit-Learn implementation of DBSCAN)"
      ],
      "metadata": {
        "id": "aW5tuILeiDji"
      }
    },
    {
      "cell_type": "code",
      "source": [
        "clustering = DBSCAN(eps=1500).fit(X_final)\n",
        "clustering.labels_"
      ],
      "metadata": {
        "id": "NGo0ELeNiGid",
        "colab": {
          "base_uri": "https://localhost:8080/"
        },
        "outputId": "0a7db7b9-1f5f-42fc-c71e-bfd954f91f58"
      },
      "execution_count": null,
      "outputs": [
        {
          "output_type": "execute_result",
          "data": {
            "text/plain": [
              "array([ 0,  0,  0,  0,  0,  0,  0, -1,  0,  0,  0,  0,  0,  0,  0,  0,  0,\n",
              "        0,  0,  0,  0,  0,  0, -1,  0,  0,  0,  0,  0,  0,  0,  0,  0,  0,\n",
              "        0,  0,  0,  0,  0,  0,  0,  0,  0, -1,  0,  0,  0,  0,  0,  0,  0,\n",
              "        0, -1,  0,  0,  0,  0,  0,  0,  0,  0,  0,  0, -1,  0,  0,  0,  0,\n",
              "       -1,  0,  0,  0,  0,  0, -1,  0,  0,  0,  0, -1,  0])"
            ]
          },
          "metadata": {},
          "execution_count": 66
        }
      ]
    },
    {
      "cell_type": "markdown",
      "source": [
        "Find the best epsilon"
      ],
      "metadata": {
        "id": "PL_6P7uuIcVz"
      }
    },
    {
      "cell_type": "code",
      "source": [
        "#Calculate the distances of each point to its 5 (default) nearest neighbours\n",
        "nn5 = NearestNeighbors(n_neighbors = 6) #we need to exclude the point itself!!!!\n",
        "nn5_X = nn5.fit(X_final)\n",
        "distances, indices = nn5_X.kneighbors(X_final)\n",
        "print(distances) #prints distances o a point to each of its 5 nearest neighbours\n",
        "\n",
        "#Plot this distances\n",
        "distances = np.sort(distances, axis=0) #sort in ascending order\n",
        "distances = distances[:,-1] #we want the distance to the fifth neighbor#\n",
        "plt.plot(distances)"
      ],
      "metadata": {
        "colab": {
          "base_uri": "https://localhost:8080/",
          "height": 1000
        },
        "id": "F7FTc3y4CYAm",
        "outputId": "ee400e1e-6c8f-4989-846b-395944736c5e"
      },
      "execution_count": null,
      "outputs": [
        {
          "output_type": "stream",
          "name": "stdout",
          "text": [
            "[[   0.          653.04935717  797.29451696  899.47710095 1203.92719282\n",
            "  1266.49278136]\n",
            " [   0.          750.5810684  1068.78330023 1184.52534122 1239.02877649\n",
            "  1265.69409638]\n",
            " [   0.          390.421239    653.04935717  918.78850149  996.83512887\n",
            "  1052.11674113]\n",
            " [   0.          895.32811846 1152.93596915 1184.52534122 1266.49278136\n",
            "  1435.37819333]\n",
            " [   0.          376.64241573  495.80900135  775.53141331  815.20713045\n",
            "   895.06887268]\n",
            " [   0.          495.80900135  631.43460212  753.29766279 1073.93112036\n",
            "  1078.53723921]\n",
            " [   0.          411.61372318  489.01705851  555.85214635  815.20713045\n",
            "  1052.11674113]\n",
            " [   0.         1583.25944328 2036.06357349 2148.60700306 2317.09575185\n",
            "  2567.60656612]\n",
            " [   0.          376.64241573  489.01705851  605.33354428  631.43460212\n",
            "   673.82772204]\n",
            " [   0.          264.25130004  555.85214635  605.33354428  775.53141331\n",
            "  1106.48229872]\n",
            " [   0.          390.421239    750.5810684   895.32811846  899.47710095\n",
            "  1137.62532926]\n",
            " [   0.          627.67413531  797.29451696  918.78850149 1190.1315342\n",
            "  1453.33702633]\n",
            " [   0.         1224.24278548 1253.43204496 1340.33027126 1357.53111256\n",
            "  1782.70267006]\n",
            " [   0.          264.25130004  411.61372318  673.82772204  906.3968151\n",
            "   996.83512887]\n",
            " [   0.         1274.8724428  1310.30150131 1386.39406846 1420.41708282\n",
            "  1435.37819333]\n",
            " [   0.          711.61042285 1188.22337535 1298.68972523 1357.53111256\n",
            "  1480.91940325]\n",
            " [   0.          538.55733528  551.88802046 1073.93112036 1113.20395144\n",
            "  1310.30150131]\n",
            " [   0.          538.55733528  753.29766279  895.06887268  941.4798029\n",
            "   955.03503163]\n",
            " [   0.          963.40870454 1058.9517738  1078.53723921 1113.20395144\n",
            "  1178.73335076]\n",
            " [   0.          948.78570366 1050.13626463 1070.88449419 1147.93258706\n",
            "  1315.31492227]\n",
            " [   0.          527.97672353  782.74521103 1215.00036729 1554.05635004\n",
            "  1639.25156743]\n",
            " [   0.          180.91999999  659.74102446  915.87266671 1104.30093554\n",
            "  1253.43204496]\n",
            " [   0.         1001.47521105 1082.1326053  1480.91940325 1514.32042885\n",
            "  1545.78192056]\n",
            " [   0.          258.50326696  782.74521103 1545.65277338 1555.69559798\n",
            "  1715.46241026]\n",
            " [   0.          180.91999999  544.15347875  964.79132926 1188.22337535\n",
            "  1224.24278548]\n",
            " [   0.          737.37887663  847.93486907  872.44034921 1157.9621992\n",
            "  1158.79831073]\n",
            " [   0.          627.67413531 1203.92719282 1514.00118236 1583.25944328\n",
            "  1751.95994962]\n",
            " [   0.          948.78570366  961.12075051  979.71047338 1066.13041639\n",
            "  1112.76248087]\n",
            " [   0.          551.88802046  955.03503163 1147.81146108 1178.73335076\n",
            "  1281.21361082]\n",
            " [   0.          343.78789649  732.63876598  921.36594401 1405.09366947\n",
            "  1518.93386112]\n",
            " [   0.          810.27220636 1205.70402544 1375.1818046  1515.50138775\n",
            "  1524.53026295]\n",
            " [   0.          560.70321894  585.29307694  627.58299591  647.72376134\n",
            "   947.27786592]\n",
            " [   0.          827.00843507 1042.56217673 1086.96516912 1315.31492227\n",
            "  1323.26342845]\n",
            " [   0.          156.39089147  608.14502676  706.09867345  872.44034921\n",
            "  1021.92165623]\n",
            " [   0.          827.00843507  931.66582666 1333.02989963 1335.09615203\n",
            "  1400.6183831 ]\n",
            " [   0.          356.98887346  927.587715   1082.1326053  1464.77896644\n",
            "  1544.97679817]\n",
            " [   0.          583.03633523  862.76947759  921.36594401 1198.99466691\n",
            "  1479.04962374]\n",
            " [   0.          585.29307694  686.28703386  706.09867345  724.93324179\n",
            "   834.61418638]\n",
            " [   0.          300.11854235  535.62641032  595.99240794  891.48137064\n",
            "   925.00806087]\n",
            " [   0.          747.37115486  760.84894278  959.84996389 1031.35532603\n",
            "  1117.50591491]\n",
            " [   0.          879.76165199 1281.21361082 1397.15871488 1446.87403923\n",
            "  1484.27720279]\n",
            " [   0.          356.98887346  736.07980132 1001.47521105 1440.74406858\n",
            "  1454.54985202]\n",
            " [   0.          736.07980132  927.587715   1438.84161964 1453.0634733\n",
            "  1642.88004488]\n",
            " [   0.          258.50326696  527.97672353 1550.29764368 1711.87488065\n",
            "  1733.06549932]\n",
            " [   0.          578.04797055  608.14502676  741.99850427  847.93486907\n",
            "  1042.56217673]\n",
            " [   0.          807.23747186 1094.87212754 1194.31487316 2095.32358567\n",
            "  2115.85336201]\n",
            " [   0.          287.10358905 1440.74406858 1453.0634733  1464.77896644\n",
            "  1497.86615334]\n",
            " [   0.          915.87266671  964.79132926 1111.15915937 1198.99466691\n",
            "  1438.17974549]\n",
            " [   0.          961.12075051 1104.30093554 1215.00036729 1255.53869746\n",
            "  1438.17974549]\n",
            " [   0.          362.97572608  492.71911585  638.21956769  647.72376134\n",
            "   724.93324179]\n",
            " [   0.          738.82480065  842.8005105   999.82276723 1026.11390473\n",
            "  1201.52301264]\n",
            " [   0.         1021.92165623 1078.54208512 1198.80642776 1272.75506303\n",
            "  1273.86095275]\n",
            " [   0.         1827.56187667 2203.4930813  2253.53685802 2388.29260061\n",
            "  2579.52304697]\n",
            " [   0.          343.78789649  583.03633523  642.16866617 1343.98856067\n",
            "  1497.86615334]\n",
            " [   0.          300.11854235  314.89133521  577.93567645  747.37115486\n",
            "   767.1350606 ]\n",
            " [   0.          544.15347875  659.74102446  711.61042285 1111.15915937\n",
            "  1340.33027126]\n",
            " [   0.          120.77295337  924.69441581 1024.09839322 1118.25085996\n",
            "  1194.31487316]\n",
            " [   0.          560.70321894  668.14328391  834.61418638  880.54669917\n",
            "  1117.22469543]\n",
            " [   0.          632.51167895  738.82480065  814.32287388 1045.79518733\n",
            "  1076.19783017]\n",
            " [   0.          741.99850427  879.76165199  931.66582666 1086.96516912\n",
            "  1158.79831073]\n",
            " [   0.          406.15722283  480.67467456  638.21956769  790.37662685\n",
            "   814.32287388]\n",
            " [   0.          668.14328391  698.17703718  852.4300772   947.27786592\n",
            "   985.12634647]\n",
            " [   0.          511.02153281 1066.13041639 1070.88449419 1329.53780257\n",
            "  1367.94113122]\n",
            " [   0.          567.39802002  904.60916528 1555.69559798 1693.02073591\n",
            "  1743.00436998]\n",
            " [   0.          314.89133521  406.38028684  535.62641032  678.84591197\n",
            "   685.62796554]\n",
            " [   0.          156.39089147  578.04797055  686.28703386  737.37887663\n",
            "  1078.54208512]\n",
            " [   0.          511.02153281  979.71047338 1004.02311021 1050.13626463\n",
            "  1422.24450047]\n",
            " [   0.          642.16866617  732.63876598  862.76947759 1954.57751168\n",
            "  1985.53098326]\n",
            " [   0.          461.90701382  567.39802002 1545.65277338 1711.87488065\n",
            "  2099.28629522]\n",
            " [   0.          810.27220636 1004.02311021 1112.76248087 1466.72949452\n",
            "  1502.98858599]\n",
            " [   0.          406.15722283  492.71911585  598.25182483  627.58299591\n",
            "   878.23690417]\n",
            " [   0.          219.85657422  852.4300772  1026.11390473 1463.2821954\n",
            "  1470.95688211]\n",
            " [   0.          219.85657422  698.17703718  842.8005105  1276.61179831\n",
            "  1315.01930156]\n",
            " [   0.          120.77295337 1037.92473961 1094.87212754 1117.29624209\n",
            "  1208.79846552]\n",
            " [   0.          461.90701382  904.60916528 1909.56167403 2040.39717662\n",
            "  2047.09880113]\n",
            " [   0.          287.10358905 1343.98856067 1405.09366947 1438.84161964\n",
            "  1454.54985202]\n",
            " [   0.          406.38028684  493.03571617  577.93567645  595.99240794\n",
            "   746.5482968 ]\n",
            " [   0.          362.97572608  480.67467456  598.25182483  678.84591197\n",
            "   746.5482968 ]\n",
            " [   0.          493.03571617  632.51167895  747.30306321  790.37662685\n",
            "   924.69441581]\n",
            " [   0.          807.23747186 1693.02073591 1828.51575269 1930.4971976\n",
            "  2191.46128377]\n",
            " [   0.          685.62796554  767.1350606   809.91931695  891.48137064\n",
            "   940.80508077]]\n"
          ]
        },
        {
          "output_type": "execute_result",
          "data": {
            "text/plain": [
              "[<matplotlib.lines.Line2D at 0x7f0404e2ca90>]"
            ]
          },
          "metadata": {},
          "execution_count": 64
        },
        {
          "output_type": "display_data",
          "data": {
            "image/png": "[encoded data removed]",
            "text/plain": [
              "<Figure size 432x288 with 1 Axes>"
            ]
          },
          "metadata": {
            "needs_background": "light"
          }
        }
      ]
    },
    {
      "cell_type": "code",
      "source": [
        ""
      ],
      "metadata": {
        "id": "BNjqdLyM7VBJ"
      },
      "execution_count": null,
      "outputs": []
    },
    {
      "cell_type": "markdown",
      "source": [
        "##K-Means"
      ],
      "metadata": {
        "id": "EorpwaL_iHVB"
      }
    },
    {
      "cell_type": "code",
      "source": [
        ""
      ],
      "metadata": {
        "id": "_hSSmB24iIJo"
      },
      "execution_count": null,
      "outputs": []
    },
    {
      "cell_type": "markdown",
      "source": [
        "##Examine the performance\n",
        "In addition, examine the performance of each algorithm (K-Means and DBSCAN) by varying the main parameter of each one (neighbourhood distance ε and number of clusters k; you can leave the other parameters with their default values)"
      ],
      "metadata": {
        "id": "mJKdrArPiXah"
      }
    },
    {
      "cell_type": "markdown",
      "source": [
        ""
      ],
      "metadata": {
        "id": "C6j2ArLoztvh"
      }
    },
    {
      "cell_type": "code",
      "source": [
        ""
      ],
      "metadata": {
        "id": "4UFO5WWVjE_4"
      },
      "execution_count": null,
      "outputs": []
    },
    {
      "cell_type": "markdown",
      "source": [
        ""
      ],
      "metadata": {
        "id": "ST6q3-nczOwX"
      }
    },
    {
      "cell_type": "markdown",
      "source": [
        "##Select some parameter values\n",
        "Finally, select some parameter values for closer examination by visually inspecting the clusters generated. For this you can use the report_clusters(ids, labels, report_file) function in the tp2_aux.py module."
      ],
      "metadata": {
        "id": "U4GS-XRFizag"
      }
    },
    {
      "cell_type": "code",
      "source": [
        ""
      ],
      "metadata": {
        "id": "kWJdJrqYi8tw"
      },
      "execution_count": null,
      "outputs": []
    },
    {
      "cell_type": "markdown",
      "source": [
        "Considering all the information gathered at this stage, recommend a procedure for the biologists that will help them process the segmented images, both for cell classification and to help discard segmentation errors."
      ],
      "metadata": {
        "id": "uDZlryRYi9r5"
      }
    },
    {
      "cell_type": "markdown",
      "source": [
        "##Optional exercise (2/20) - Bissecting K-Means hierarchical clustering (lecture 19)\n",
        "\n",
        "Example of hierarchical divisive clustering. The possibility of stopping at any desired level makes this process less time-consuming, although it is a divisive cluster (usually O(2^n)). "
      ],
      "metadata": {
        "id": "05DzsbinjA9a"
      }
    },
    {
      "cell_type": "code",
      "source": [
        ""
      ],
      "metadata": {
        "id": "vrJPBFmXjxJ3"
      },
      "execution_count": null,
      "outputs": []
    }
  ]
}