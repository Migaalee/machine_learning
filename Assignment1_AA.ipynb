{
  "nbformat": 4,
  "nbformat_minor": 0,
  "metadata": {
    "colab": {
      "name": "Assignment1_AA.ipynb",
      "provenance": [],
      "collapsed_sections": [],
      "include_colab_link": true
    },
    "kernelspec": {
      "display_name": "Python 3",
      "name": "python3"
    },
    "language_info": {
      "name": "python"
    }
  },
  "cells": [
    {
      "cell_type": "markdown",
      "metadata": {
        "id": "view-in-github",
        "colab_type": "text"
      },
      "source": [
        "<a href=\"https://colab.research.google.com/github/Migaalee/machine_learning/blob/main/Assignment1_AA.ipynb\" target=\"_parent\"><img src=\"https://colab.research.google.com/assets/colab-badge.svg\" alt=\"Open In Colab\"/></a>"
      ]
    },
    {
      "cell_type": "markdown",
      "metadata": {
        "id": "a4UX_KoNojez"
      },
      "source": [
        "# 1. Project description\n",
        "## Dataset \n",
        "The data set is inspired on the banknote authentication problem in the UCI machine learning repository, but the data was adapted for this assignment. The data are available on .tsv files where each line corresponds to a bank note and the five values, separated by commas, are, in order, the four features (variance, skewness and curtosis of Wavelet Transformed image and the entropy of the bank note image) and the class label, an integer with values 0 for real bank notes and 1 for fake bank notes.\n",
        "\n",
        "## Objective\n",
        "Parametrize, fit and compare Naive Bayes and Support Vector Machine classifiers using described dataset."
      ]
    },
    {
      "cell_type": "markdown",
      "metadata": {
        "id": "OZBjnTqfot15"
      },
      "source": [
        "# Import all packages that will be used"
      ]
    },
    {
      "cell_type": "code",
      "metadata": {
        "id": "RXqLP1mJoebY"
      },
      "source": [
        "# Numpy for data management\n",
        "import numpy as np\n",
        "\n",
        "# Pandas also for data management\n",
        "import pandas as pd\n",
        "\n",
        "# Matplotlib for additional customization\n",
        "from matplotlib import pyplot as plt\n",
        "%matplotlib inline\n",
        "\n",
        "import math\n",
        "\n",
        "#ScikitLearn\n",
        "\n",
        "from sklearn.model_selection import train_test_split\n",
        "\n",
        "from sklearn.model_selection import KFold\n",
        "\n",
        "from sklearn.neighbors import KernelDensity\n",
        "\n",
        "from sklearn.model_selection import StratifiedKFold\n",
        "\n",
        "from sklearn.utils import shuffle\n",
        "\n",
        "from sklearn.naive_bayes import GaussianNB\n",
        "\n",
        "from google.colab import files #this is to load files from your local disk\n",
        "\n",
        "from sklearn.svm import SVC\n",
        "\n",
        "from sklearn import metrics\n",
        "\n",
        "#from sklearn.svm import SVC #penso q faltava este??\n",
        "\n",
        "#import McNemar\n",
        "\n"
      ],
      "execution_count": 1,
      "outputs": []
    },
    {
      "cell_type": "markdown",
      "metadata": {
        "id": "VJSY67l-PKy3"
      },
      "source": [
        "# Upload data"
      ]
    },
    {
      "cell_type": "markdown",
      "metadata": {
        "id": "TziBUv2rNKxn"
      },
      "source": [
        "Import training dataset"
      ]
    },
    {
      "cell_type": "code",
      "metadata": {
        "colab": {
          "resources": {
            "http://localhost:8080/nbextensions/google.colab/files.js": {
              "data": "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",
              "ok": true,
              "headers": [
                [
                  "content-type",
                  "application/javascript"
                ]
              ],
              "status": 200,
              "status_text": ""
            }
          },
          "base_uri": "https://localhost:8080/",
          "height": 73
        },
        "id": "5OZWKMKToekh",
        "outputId": "b5963877-cf9e-451c-81a0-c4bf5c276928"
      },
      "source": [
        "TP1_train = files.upload() \n",
        " "
      ],
      "execution_count": 2,
      "outputs": [
        {
          "output_type": "display_data",
          "data": {
            "text/html": [
              "\n",
              "     <input type=\"file\" id=\"files-ef5642a8-b8ad-4976-9252-e20f42537e29\" name=\"files[]\" multiple disabled\n",
              "        style=\"border:none\" />\n",
              "     <output id=\"result-ef5642a8-b8ad-4976-9252-e20f42537e29\">\n",
              "      Upload widget is only available when the cell has been executed in the\n",
              "      current browser session. Please rerun this cell to enable.\n",
              "      </output>\n",
              "      <script src=\"/nbextensions/google.colab/files.js\"></script> "
            ],
            "text/plain": [
              "<IPython.core.display.HTML object>"
            ]
          },
          "metadata": {}
        },
        {
          "output_type": "stream",
          "name": "stdout",
          "text": [
            "Saving TP1_train.tsv to TP1_train.tsv\n"
          ]
        }
      ]
    },
    {
      "cell_type": "markdown",
      "metadata": {
        "id": "u3jvhtWeNO16"
      },
      "source": [
        "Import testing dataset"
      ]
    },
    {
      "cell_type": "code",
      "metadata": {
        "id": "D5Nj-c5vNN56",
        "colab": {
          "resources": {
            "http://localhost:8080/nbextensions/google.colab/files.js": {
              "data": "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",
              "ok": true,
              "headers": [
                [
                  "content-type",
                  "application/javascript"
                ]
              ],
              "status": 200,
              "status_text": ""
            }
          },
          "base_uri": "https://localhost:8080/",
          "height": 73
        },
        "outputId": "e3488376-ce15-4e07-91ca-002832c0b80d"
      },
      "source": [
        "TP1_test = files.upload()"
      ],
      "execution_count": 3,
      "outputs": [
        {
          "output_type": "display_data",
          "data": {
            "text/html": [
              "\n",
              "     <input type=\"file\" id=\"files-9b3b547b-b1a2-4be7-92ec-b98d123abdc6\" name=\"files[]\" multiple disabled\n",
              "        style=\"border:none\" />\n",
              "     <output id=\"result-9b3b547b-b1a2-4be7-92ec-b98d123abdc6\">\n",
              "      Upload widget is only available when the cell has been executed in the\n",
              "      current browser session. Please rerun this cell to enable.\n",
              "      </output>\n",
              "      <script src=\"/nbextensions/google.colab/files.js\"></script> "
            ],
            "text/plain": [
              "<IPython.core.display.HTML object>"
            ]
          },
          "metadata": {}
        },
        {
          "output_type": "stream",
          "name": "stdout",
          "text": [
            "Saving TP1_test.tsv to TP1_test.tsv\n"
          ]
        }
      ]
    },
    {
      "cell_type": "markdown",
      "metadata": {
        "id": "MmdEgzURPYET"
      },
      "source": [
        "# Data preparation"
      ]
    },
    {
      "cell_type": "markdown",
      "metadata": {
        "id": "azMjfBQ_Pd8b"
      },
      "source": [
        "Read data, shuffle, standardize"
      ]
    },
    {
      "cell_type": "code",
      "metadata": {
        "id": "vodSdixnPdIU"
      },
      "source": [
        "# Read data\n",
        "mat_train = np.loadtxt(\"TP1_train.tsv\", delimiter=\"\\t\")\n",
        "mat_test = np.loadtxt(\"TP1_test.tsv\", delimiter=\"\\t\")\n",
        "#print(mat_test)\n",
        "\n",
        "# Shuffle data\n",
        "data_train = shuffle(mat_train)\n",
        "data_test = shuffle(mat_test)\n",
        "\n",
        "\n",
        "# Standardize training dataset\n",
        "Y_r = data_train[:,4] #classes\n",
        "X_r = data_train[:,:4] #features\n",
        "means_r = np.mean(X_r, axis = 0)\n",
        "stdvs_r = np.std(X_r,axis = 0)\n",
        "X_r = (X_r-means_r)/stdvs_r\n",
        "\n",
        "# Standardize testing dataset\n",
        "Y_t = data_test[:,4]\n",
        "X_t = data_test[:,:4]\n",
        "means_t = np.mean(X_t, axis = 0)\n",
        "stdvs_t = np.std(X_t,axis = 0)\n",
        "X_t = (X_t-means_t)/stdvs_t"
      ],
      "execution_count": 4,
      "outputs": []
    },
    {
      "cell_type": "markdown",
      "metadata": {
        "id": "fyj2G5TJNnpl"
      },
      "source": [
        " Naive Bayes\n",
        "\n"
      ]
    },
    {
      "cell_type": "markdown",
      "metadata": {
        "id": "DYMZPdIZPmW7"
      },
      "source": [
        "# Bayes classifiers"
      ]
    },
    {
      "cell_type": "markdown",
      "metadata": {
        "id": "RJesefkINTj4"
      },
      "source": [
        "You must implement your own Naïve Bayes classifier using Kernel Density Estimation for the probability distributions of the feature values. For this, you can use any code from the lectures, lecture notes and tutorials that you find useful. Also, use the KernelDensity class from sklearn.neighbors.kde for the density estimation.\n",
        "\n",
        "Use the same bandwidth value for all the Kernel Density Estimators in each instance of your Naïve Bayes classifier, and try values from 0.02 to 0.6 with a step of 0.02 for the bandwidth.\n",
        "Use the default kernel ('gaussian') for the Kernel Density Estimators."
      ]
    },
    {
      "cell_type": "markdown",
      "metadata": {
        "id": "TA8ngQ13N891"
      },
      "source": [
        "Funcao que calcula a prob de cada classe"
      ]
    },
    {
      "cell_type": "code",
      "metadata": {
        "id": "YS7bpsdrN6PL"
      },
      "source": [
        "def log_prob_classe(data): #equivale ao prior #data é o data set com as classes, para podermos calc as prob de cada classe\n",
        "    classe1 = 0\n",
        "    for value in data:\n",
        "        value = int(value)\n",
        "        if value == 1:\n",
        "            classe1 += 1\n",
        "    log_classe1 =  math.log( classe1 / len(data) )\n",
        "    log_classe0 = math.log( 1 - classe1 / len(data) )\n",
        "    return log_classe0, log_classe1 #retorna prob classe = 0, prob classe = 1\n",
        "\n",
        "log_prob_r0, log_prob_r1 = log_prob_classe(Y_r)\n",
        "log_prob_t0, log_prob_t1 = log_prob_classe(Y_t)"
      ],
      "execution_count": 5,
      "outputs": []
    },
    {
      "cell_type": "markdown",
      "metadata": {
        "id": "NDmYrZcOftrV"
      },
      "source": [
        "Funcao que separa os data sets por classe "
      ]
    },
    {
      "cell_type": "code",
      "metadata": {
        "id": "djM9y2rZfwor"
      },
      "source": [
        "def sep_class(data_X, data_Y): #change to array?\n",
        "    X0 = []\n",
        "    X1 = []\n",
        " \n",
        "    for i, value in enumerate(data_Y):\n",
        "        value = int(value)\n",
        "        if value == 0:\n",
        "            X0 += [[data_X[i,0], data_X[i,1], data_X[i,2], data_X[i,3]]] #posso tentar fazer isto de uma forma mais bonitinha mas estava a dar arrays de outra forma portanto deixei assim por agora\n",
        "        elif value == 1:\n",
        "            X1 += [[data_X[i,0], data_X[i,1], data_X[i,2], data_X[i,3]]]\n",
        "    return X0, X1\n",
        "\n",
        "Xr_0, Xr_1 = sep_class(X_r, Y_r)\n",
        "Xt_0, Xt_1 = sep_class(X_t, Y_t)"
      ],
      "execution_count": 6,
      "outputs": []
    },
    {
      "cell_type": "code",
      "metadata": {
        "colab": {
          "base_uri": "https://localhost:8080/"
        },
        "id": "SvYdABBLVrsN",
        "outputId": "18f33b84-01d5-41c7-95ff-379a1f065366"
      },
      "source": [
        "# Esta tudo bem ate aqui\n",
        "print(X_r)\n",
        "print(Xr_0, Xr_1)"
      ],
      "execution_count": null,
      "outputs": [
        {
          "output_type": "stream",
          "name": "stdout",
          "text": [
            "[[ 0.19274711 -0.60278663  0.49965436  0.53814392]\n",
            " [ 0.37388957 -0.40069342 -0.05874801  0.34621851]\n",
            " [-1.2911229   1.07690174 -0.72277378 -1.56438117]\n",
            " ...\n",
            " [-1.40348571 -1.41513897  1.22725441 -0.05137764]\n",
            " [ 1.98782804 -0.79380351  0.55108945  1.91165789]\n",
            " [ 0.84989927 -1.07840539  0.518176    1.14650166]]\n",
            "[[-1.291122903700539, 1.0769017357263992, -0.7227737786785283, -1.5643811702625154], [-1.0371148657902012, 0.8578292515162206, -0.3465842826965223, -1.1418398084310335], [0.6170018207626419, 1.5501991160848108, 0.9544356774594768, 0.5055624167336359], [0.5815905125284929, 0.3897715702957454, -3.7106394528536417, -1.4803819838743293], [1.0521523200245877, 0.7906417170006557, 0.09242860882206601, 0.5997433226840265], [-1.1855699656949026, 1.043274805815845, -0.08615502749407582, -1.1708577091833159], [-0.7415666393744195, 0.6364353816120196, -0.7261527262472289, -1.0542770201960758], [-0.7170511182892394, 0.8295746713546899, -0.4841199633632637, -0.9692596618516691], [-0.03197850129781902, 0.4056233183206417, -1.1607855005471313, -0.6912987178034894], [-0.009505940303070635, 0.6430015868608261, -1.5646323081099833, -0.9331145574058435], [-0.6155841004644664, 0.9562560049427737, -1.1013410525792495, -1.2283844247097708], [0.28672327280952165, 1.1147071598861937, 1.6587585262241906, 0.7214148714523689], [-1.474308325142579, 0.9610314269419057, -0.566466167074561, -1.5908536411242469], [1.0092501581255227, 0.60327272884027, 0.15825551330860482, 0.649633748538828], [-0.34591336852748583, 0.6704602633558349, -1.1829363790530578, -0.9982775626039516], [-0.8995555530344688, 0.9904798626032194, -1.2168510009463125, -1.4981999931081869], [0.774990734422691, 0.6331854416403883, -0.08753163576280562, 0.35283662330057014], [1.1924355795675625, 1.0167446835984453, 0.0006964396421558654, 0.5982160647496959], [-0.5243318830918517, 0.8123964172189235, -1.207089596858955, -1.175948568964418], [1.1372756571259073, 0.5967065235914635, -0.21004977167976643, 0.5656345621506419], [-0.8450766172896241, 0.7512444855078171, -0.3438310661590625, -0.9733323496765509], [0.9738388498913737, -0.03729707209884728, -0.24296322392303574, 0.596179720837255], [-1.7303593231433483, 1.3257542821256088, 0.8230321608988957, -1.1978392660231576], [1.082796721381063, -0.25205841144869834, -0.6548193886857707, 0.5315258016172572], [-0.2689618717878929, 0.30248746820050015, -2.0980054391396936, -1.2904929140392174], [0.6095109670977258, 1.0260965516800786, 1.8805176036959521, 1.0854113458011756], [-1.8148016735478576, 1.3271471135420223, -0.19528251934248206, -1.7532520681414068], [0.81040204265684, 0.03864540274845953, -0.1960333965799711, 0.48061720380623524], [-1.632978225499439, 1.1703540912371897, 0.22182978608267626, -1.3785647882522853], [-1.0262190786412324, 0.9236239546153721, -1.4448673887304824, -1.6829982031621966], [0.20159993570820203, 1.3486365125381163, 1.0792064450889045, 0.31821877678907523], [-0.2478512841867656, 0.5556511594600374, -1.3411211837507475, -0.9743505216327714], [1.4185231629086676, 0.47267820222511964, 1.2674263392861558, 1.5176253412167517], [0.5489031510815863, 0.45603055053370123, -0.07676906202546276, 0.24083770811632196], [0.12669139905904075, 1.4312115179397729, 1.0726988423639996, 0.2393104501819913], [1.3150131849934628, 0.25791686287526855, -0.008939818238953396, 0.879231524666537], [0.6830575303532659, 0.7915702712782647, 0.6623444320762427, 0.6094159562681206], [0.8866725526996224, 0.22296342685384435, 0.03335959947292874, 0.5992342367059164], [-0.9458626484175867, 0.6899599031856237, -1.5780229521785378, -1.6285260035044031], [1.4954746596482607, 0.8480794316013262, -0.11556438596239624, 0.8049049718624448], [-0.11369690491508587, 0.6829294207980128, -2.2112627557942894, -1.3322379642442557], [-0.15319413333009818, 1.8176227480362004, 0.3676251163617971, -0.40570148408365647], [0.7736287610290701, 0.9424603413897258, 0.06727422136618354, 0.3467275915632475], [0.19070414855923315, 1.2277254805323168, 0.07678533304104447, -0.144540377313114], [0.5148538162410583, 1.1094011354427138, -1.0345129784427254, -0.41791954755830174], [-1.3592215733815949, 0.9750260664115841, -1.0723071327296734, -1.7568156699881783], [-0.2975633130539363, 0.45443874320065725, -1.3446252775256964, -0.9855504131511962], [1.31160825150941, 0.3685474725218255, 0.31018300769388585, 1.00293941734732], [-1.778709378616898, 1.0409534201218225, 0.5540929636715737, -1.288965656104887], [-0.9765070497740617, 1.0565398669245447, -0.3980193734645212, -1.1744213110300876], [1.1556622979397926, 0.3869859074629184, -0.43493750430773204, 0.5243985979237141], [0.8805436724283273, 1.0944779416954264, 0.7640882977560066, 0.7224330434085894], [0.2547168980594255, 0.3544865077466037, -2.224653399862844, -0.9870776710855268], [1.6984086952978066, 0.6274814653636472, -0.8044942513585848, 0.6750880474443389], [-0.03197850129781902, 0.12141938406674678, -1.831694312243583, -0.9427871909899377], [-0.3445513951338647, 0.34805295310888423, -0.8153819713021758, -0.7350801119209682], [0.8437703908005574, 1.0660907109228088, 0.31105903113762323, 0.48316263369678625], [0.5686517652890923, 1.7526239486035708, -0.7300322586409222, -0.3990833663682236], [0.8165309229281351, 1.3374275359012648, 0.48250933369761917, 0.47654451598135344], [0.23496828385191937, 2.0028030011136506, 1.0108766164774026, 0.13902051249427808], [0.055187795893932294, 1.3147442814053878, -1.5360989730854002, -1.0471498165025328], [1.1692820318760038, 0.7842744876684797, 0.8217806988364144, 1.040102693749366], [-1.96461874684618, 1.1066817979154302, 7.070861091490607e-05, -1.7089615880458178], [-0.3499992887083492, 0.6286089955578867, -1.2518919386958007, -1.0237318615094626], [-1.733764256627401, 1.0650958313396561, 0.029480067079235547, -1.5170361742982652], [0.05927371607479563, 0.8317634064376254, -2.122033510739343, -1.2024210398261495], [-1.520615420525697, 1.0466573963985635, -0.18239246009892032, -1.4605276307280306], [-0.3254837676231691, 0.6595165879411574, -1.2705387234267784, -1.0232227755313523], [0.25063097787856214, 1.1779815013746924, 1.0039935751337532, 0.36149108492844395], [0.5672897918954712, 1.2538576509164554, -0.8161328485396647, -0.3120296641113761], [-0.8968316062472266, 0.7883866566121768, -0.8037433741210958, -1.2436570040530772], [0.008880700510814403, 0.6957302047679081, -1.5835293852534573, -0.9422781050118274], [0.41951567868758033, 1.3434631387057232, 0.8385502904736695, 0.3604729129722235], [-1.091593801535046, 1.295907894631034, -0.15385912507433708, -1.2014028678699291], [0.8607950582208213, 0.93211359372494, 0.20556077927041397, 0.4795990318500148], [-0.40379723775638315, 0.6841232762977957, -1.150398365428533, -1.0278045493343444], [-0.1770286677184677, 0.6522871296369159, -0.9889597593683908, -0.7778433340822266], [-0.07419967650007356, 0.5847679685936337, -2.192615971063312, -1.2691113029585883], [-1.0228141451571797, 0.755621955673688, -0.7732076997965417, -1.3113654391417364], [-0.9908077704070835, 0.8096107543860965, -1.271665039283012, -1.5440177311381067], [0.2594838049370994, 0.7318774962891152, 0.3190683883375063, 0.15174766194703357], [-0.24240339061228117, 0.8333552137706693, -1.177429945978138, -0.9631506301143465], [-1.3558166398975422, 1.2682502422193949, -1.3090837549512155, -1.9451774818889593], [1.2121841937750688, 0.8129270196632715, 1.0915959195074736, 1.1948648310948726], [0.10421883806429239, 1.7799499744874927, 0.8400520449486476, 0.019385307638376578], [-1.91558770467582, 1.2439088550849307, 0.19091867313937771, -1.616817026007868], [0.37252759660765195, 0.5023919391086074, -2.468563355840532, -1.0583497080209574], [0.7484322532470793, 0.5118101324957842, 0.9619444498343674, 0.8746497508635448], [0.1900231618624226, 1.5950350226322165, 0.24585785768232535, -0.15879478470020014], [0.7709048142418278, 0.8537170825725237, 0.8610766075983405, 0.7529782020952025], [0.4651417873738877, 1.6324424949587502, 0.9684520525592724, 0.3808363520966323], [0.6592229959648964, 0.8764003370684005, -0.538808855493715, -0.012687108982567233], [0.7709048142418278, 0.33691030177757636, 0.16639001671473597, 0.5503619828073353], [1.1352326970354758, 0.1629390253369774, 0.8001304051554803, 1.1663560163207005], [-0.6979834907785438, 1.0205915513199681, 0.05238182282265106, -0.7447527455050624], [0.5223446699059745, 0.269656441956468, 0.18428592420822448, 0.3971271033961593], [-0.22129280301115392, 0.37272596677106606, -1.9326873006858583, -1.194275664176386], [0.9207218875401504, 0.5670591120135192, -0.012569058220150383, 0.5121805344490689], [-0.4936874817353767, 0.5941861619808105, -1.9409469502982375, -1.4528913410563773], [1.1651961116951404, 0.814054549857511, 0.4976520246536481, 0.8721043209729937], [0.3289444480117762, 0.5644724250973228, -2.3324042834425205, -1.0400226128089896], [-0.7327138123158824, 0.6294048992244087, -1.4792825954487299, -1.4111462908513395], [0.6857814771405082, 0.29313560011886675, 0.11207656320302906, 0.47399908609080244], [-1.200551673024735, 0.6223744168367978, -0.4957585605443437, -1.2711476468710292], [1.2435095818283544, 0.429964705455106, 0.09906135775321924, 0.835450130549058], [-1.4402589903020508, 0.8957673262871023, -0.5709714304994953, -1.55165402080976], [1.846863795202508, 0.3790268707976985, 0.1351034651526929, 1.302791058454239], [-0.9853598768325991, 0.7932947292223957, -0.048360873207127834, -0.9427871909899377], [0.6769286500819709, 1.1098654125815184, 0.5602251277777343, 0.4724718281564717], [-0.29960627314436794, 0.6991127953506266, -1.9215492883297707, -1.3307107063099248], [-1.8883482368033977, 1.040356492371931, 0.1517479105836997, -1.5628539123281848], [2.015748496011526, 0.1420465540907751, 0.6518321507513962, 1.7370413977822563], [-1.1855699656949026, 1.2356181918919933, -0.792980800383753, -1.5638720842844052], [-0.1293595989417287, 1.0761721573654206, -0.3727398398023903, -0.5548636756699507], [1.1263798699769385, 0.9181852795608051, -0.019201807151303617, 0.5666527341068622], [0.6326645147892848, 0.8837624459837289, 1.5257281089823835, 0.9673033988796049], [-1.026900065338043, 0.8348806957981698, -0.6645807927731282, -1.282347538389454], [-0.5359086569376312, 0.5591664006538428, -0.40027200517698824, -0.7274438222493149], [0.6851004904436976, -0.0774238819526644, 0.825284792611363, 0.9158857150904728], [-1.7453410304731807, 1.1232631243013051, -0.7700790446403374, -1.927868558633212], [-0.22742168328244888, 0.5489523036001439, -1.3980627075936658, -0.9850413271730859], [-0.5345466835440101, 0.7667646070049959, -1.449622944567913, -1.288965656104887], [1.2891356905146616, 1.4585375438236947, 1.0725736961577519, 1.0726841963484202], [0.5305165102677012, 0.5046469994970864, 0.16951867187094033, 0.3350186140667125], [-2.3160078824004273, 1.4334002530227083, 1.0447912383706575, -1.5414723012475557], [-1.8284214074840686, 1.5917187573550415, -0.006311747907741901, -1.740015832710541], [-0.9969366506783784, 0.7437497259814017, -1.9997656672348783, -1.8845962504938434], [1.4355478303289315, 0.151066795644691, 0.5115432535471951, 1.2467916008621152], [0.635388461576527, 0.31873716805865754, 0.8770953219981065, 0.8018504559937836], [0.8648809784016847, 0.6788835771598591, -0.4624696696823299, 0.22505604279490515], [0.6088299804009152, 0.5472278456560129, -0.05449303731328821, 0.2713828668029351], [-0.8512054975609192, 0.6855824330197526, -1.4653913665551825, -1.5043090248455095], [0.827426710077104, 1.3753656106721464, -0.06988602068181332, 0.20672894758293725], [1.6786600810903003, 0.2392131267120017, 1.2559128883113242, 1.7604593527753263], [-0.945181661720776, 0.8079526217475091, -0.7934813852087456, -1.2782748505645722], [0.03475819498961557, 1.5984176132149348, 0.015088253360695707, -0.383810787024917], [-1.1603734579129121, 1.1238600520511965, -1.0810673671670454, -1.6565257323004652], [-0.837585763624708, 0.6776233963545328, -1.3213480831635362, -1.4228552683478746], [-1.678604334185746, 1.1311558356609817, -0.26861819620391103, -1.6392168090447177], [0.04973990231944783, 0.5083612166075223, -2.6121060544071852, -1.3627831229308687], [-1.1413058304022166, 1.193368972260784, -0.24796907217296252, -1.2563841535058329], [-1.5635175824247618, 1.0160151052374666, -0.9799492325185223, -1.8708509290848674], [1.06713402735442, -0.048771349957872676, -0.182267313892672, 0.695960572546858], [-1.6608986800686716, 1.0894372184741206, -0.713888398034908, -1.8311422227922705], [1.2353377414666278, 1.2559137353883039, 0.9996134579150671, 1.0507934992896806], [1.1107171759502956, 0.6888323729913841, -0.6816006768228795, 0.29378264983978475], [-0.3404654749530014, 0.7261735200123743, -1.6221995629841426, -1.2217663069943379], [-2.2656148668364464, 1.2183072871451397, 0.7325514537814674, -1.6005262747083409], [-0.5542952977515162, 0.5191722414111126, -1.0674264306859946, -1.0537679342179656], [-0.7095602646243234, 0.5297179649925291, -2.1929914096820564, -1.7145615338050302], [0.3153247140755651, 0.7917029218893517, 1.1689362749688443, 0.589052517143712], [-0.4514663065331222, 0.5324373025198125, -1.3063305384137558, -1.0985675002916648], [0.4392642928950865, 1.2655309046921115, -0.8364065339518687, -0.4169013756020813], [-0.10075815767568529, 0.7336682795387898, -2.0222919843595495, -1.2446751760092978], [1.6010275976538968, 0.2656105983183145, 1.7451094085354295, 1.9350758432671313], [-1.1392628703117849, 1.2897396412154887, -1.0237504047053825, -1.6565257323004652], [1.0807537612906313, 0.7497190034803166, -0.12695269073097984, 0.5249076839018243], [-0.10143914437249585, 0.4635253100601167, -0.7544357688593158, -0.5599545354510529], [-1.5696464626960571, 1.418477059275421, 0.02885433604799459, -1.4905637034365338], [0.057911742681174515, 0.3005640343397387, -2.1922405324445675, -1.0990765862697751], [-0.5468044440866001, 0.7363876170660733, -0.8895936716073419, -1.0186410017283605], [1.2632581960358604, 0.39182765476759385, 1.725086015535722, 1.6484604375910779], [0.5332404570549434, 0.7781062342529343, 0.6077806861520396, 0.4775626879375739], [1.1890306460835098, 0.7942896088055481, 0.3688765784242788, 0.8323956146803967], [0.8131259894440822, 0.6487055631375671, 0.6514567121326518, 0.7351601928613448], [1.8604835291387192, 0.24544770543309063, 1.593682498975141, 2.0547110481230333], [0.965667009529647, 0.42936777770521445, 1.2460263380177186, 1.1907921432699908], [1.388559748249003, 0.531973025381008, -0.61652464957383, 0.5666527341068622], [-1.2863559968228653, 0.6650215883012678, -0.6637047693293909, -1.4248916122603155], [0.799506255507871, 1.967783239786683, 0.11695726524670796, 0.12272976119475111], [1.056238240205451, 1.3437284399278973, -0.34958779164647846, 0.2444013099630935], [0.41474877180990644, 0.6434658639996306, -1.642723540808843, -0.6638080749855375], [-1.803224899702078, 1.3706565139785578, 0.0011970244671484994, -1.660598420125347], [1.6779790943934898, 0.1728214958629588, 0.7115268911317745, 1.51355265339187], [0.5802285391348718, 1.0767690851153122, 0.9704543918592429, 0.6099250422462309], [-0.17226176084079378, 1.0065969118502898, -1.6447258801088136, -1.1846030305922919], [0.47058968094837217, 1.3692636825621445, -0.977446308393559, -0.4902097564499528], [-0.3874535570329298, 0.8835634700670983, -1.7571071733196721, -1.3622740369527584], [0.7198308119810359, -0.44526402649691205, 0.017090592660666464, 0.6445428887577258], [1.0031212778542278, 0.12393974567739977, 0.3280789151873746, 0.8522499678266953], [1.0664530406576096, 0.1848927014718757, -3.591500264505382, -1.0181319157502502], [0.42155863877801203, 0.35727217057943067, -3.3031634053095926, -1.3897646797707104], [-1.5498978484885506, 1.1354669805213091, -0.11856789491235248, -1.4742729521370066], [0.45152205343767654, 1.3780186228938864, 0.46836781239157577, 0.19501997008640218], [0.4188346919907698, 0.6015482708961389, 0.4413362318419704, 0.3599638269941132], [-1.5989288906589108, 1.468420014349676, -1.025502451592857, -2.0363038719706887], [0.8117640160504611, 0.6299355016687567, 0.49001810607250956, 0.6608336400572529], [-0.8552914177417826, 0.7095921936264995, -1.1247433931476576, -1.3490378015218927], [-1.4123385357328182, 1.1287681246614156, -0.503267332919234, -1.5597993964595236], [0.8975683398485914, 1.3526823561762698, 0.47537599994147334, 0.5274531137923755], [-0.9261140342100805, 0.929858533336461, -0.8512989324954011, -1.3246016745726021], [-0.020401727452039553, 0.6728479743554008, -1.7015422577454837, -1.0145683139034787], [0.6428793152414431, -0.09214809978332128, -2.594585585532441, -0.769188872454353], [-0.40720217124043595, 0.9478326911387494, -1.6444755876963173, -1.3383469959815781], [0.47058968094837217, 1.139711800076093, 1.025769015020935, 0.5411984352013514], [1.0215079186681126, 1.0000970319070268, -0.3719889625649013, 0.2983644236427767], [-1.7153776158135163, 1.4429510970209722, -0.5751012553056849, -1.895287056034158], [-0.6012833798314448, 0.9424603413897258, -1.0600428045173527, -1.194275664176386], [-0.8069413622682331, 0.9510826311103808, -0.881709460613707, -1.2589295833963838], [0.7899724417525232, 1.1129163766365193, 0.30905669183765244, 0.4317449499076541], [0.024543394537457217, 0.4056233183206417, -2.311004282174083, -1.2085300715634721], [1.4185231629086676, 0.76039737767282, 1.0644391927516204, 1.344536108659277], [-0.2675998983942718, 0.6075838737005974, -1.3113363866636825, -0.9875867570636371], [0.6769286500819709, 0.8099423809138141, 0.5442064133779682, 0.5427256931356819], [0.19547105543690704, 1.513720198035886, 0.32182160487496586, -0.09668629537075339], [0.5815905125284929, 0.6572615275526784, -0.8978533212197213, -0.18577634154004175], [-0.23491253694736502, 0.8983540132032988, -2.1902381931445967, -1.465618490509133], [0.9901825306148271, 0.6354405020288671, 2.3801012590386557, 1.7049689811613122], [0.7252787055555203, 0.8062944891089217, -0.22356556195456886, 0.20621986160482703], [-0.1559180801173404, 0.5039837464416513, -2.210136439938056, -1.3154381269666182], [-0.6789158632678481, 0.6288742967800607, -0.9168755445694435, -1.0990765862697751], [-0.7259039453477768, 0.6108338136722288, -1.1610357929596278, -1.2472206058998487], [0.8750957788538429, 0.3911644017121588, 0.12271399073412381, 0.5905797750780426], [-1.128367083162816, 0.871425939152638, -0.9823270104372376, -1.519072518210706], [0.8832676192155696, 1.1367271613266356, 0.7444403433750436, 0.7035968622185113], [0.37525154339489414, 0.8168402126903379, 0.8643304089607929, 0.47807177391568406], [0.45492698692172934, 1.1125184248032582, 0.30755493736267436, 0.1884018523709694], [0.7538801468215638, 0.3894399437680279, 1.1479117123191511, 1.000393987456769], [-0.6993454641721649, 0.8797166023455754, -1.0139890006180252, -1.22685716677544], [-0.02584962102652401, 1.3910183827804123, 0.8668333330857563, 0.03923966078467515], [-0.8913837126727421, 0.8512630462674141, -0.8598088745202769, -1.2833657103456746], [1.288454703817851, 0.8611455167933956, 0.5575970574465225, 0.9785032903980296], [0.9377465549604143, 1.3429988615669188, 1.9384602971888556, 1.2686822979208543], [-0.44533742626182715, 0.6170020670877743, -1.2895609467765006, -1.1082401338757588], [-0.1593230136013932, 1.124987582245436, -0.07739479305670371, -0.4459192763543638], [-0.13889341269707647, 0.25393734454265854, -1.4194627088621035, -0.8547153167768697], [0.3813804236661892, 0.9477000405276623, 0.004701118242097383, 0.03160337111302185], [-0.47121492074062826, 0.017089678446822226, 0.546333898884187, -0.08039554407122637], [-1.3170003981793403, 0.9811279945215859, -1.193949245202897, -1.7868517426966812], [1.3381667326850217, 0.44349506778597986, -0.3120439297720268, 0.7010514323279602], [-0.5617861514164324, 0.7877234035567416, -1.2242346271149547, -1.2049664697167008], [-0.4739388675278705, 0.5685182687354762, -1.1033433918792204, -1.0257682054219035], [0.6762476633851604, 0.39341946210063783, 0.8473105249110415, 0.7972686821907915], [-1.0738881474179713, 1.2254704201438378, -0.45195738835748334, -1.314929040988508], [-0.4882395881608922, 1.025764925152361, -1.1426393006411464, -1.1739122250519771], [1.002440291157417, 0.870497384875029, -0.22281468471707983, 0.3905089856807264], [0.9683909563168892, 0.8894000969549264, 0.7812333280120063, 0.8476681940237033], [-0.49096353494813444, 0.6017472468127695, -1.5969200293220118, -1.2859111402362255], [0.6020201134328097, 0.8515946727951317, 0.3891502638364826, 0.40272704915537166], [0.7981442821142499, 0.7560862328124925, 0.4738742454664952, 0.6099250422462309], [-1.413019522429629, 1.0886413148075986, -0.0328427436323544, -1.3215471587039407], [-0.2083540557717533, 0.6702612874392043, -2.0426908159780015, -1.3154381269666182], [-1.4654554980840417, 1.4436143500764074, 0.01108357476075419, -1.4304915580195279], [-0.6441855417305098, 1.1027022795828203, -1.8442089328684004, -1.646853098716371], [-1.2659263959185485, 0.6441291170550656, -0.38337726733348504, -1.2691113029585883], [-0.5141170826396934, 0.545636038322969, -1.2836790750828364, -1.136239862671821], [1.047385413146914, 0.3916286788509633, -0.09040999850651354, 0.6119613861586718], [0.5815905125284929, 0.13415384273109865, -2.1428077809765393, -0.653117269445223], [-1.3721603206209956, 1.0266271541244265, 0.025350242273045706, -1.247729691877959], [0.9200409008433397, 0.8943744948706888, 1.171188906681311, 1.000393987456769], [0.8866725526996224, -0.2982208241069739, -0.022956193338748706, 0.7081786360215032], [1.7310960567447131, 0.016094798863669737, 1.782528124203633, 2.112237763649488], [-0.23014563006969113, 0.7393722558155307, -1.5866580404096617, -1.1280944870220575], [-1.8883482368033977, 1.40216103411172, 0.43295143602334285, -1.521108862123147], [0.9690719430136998, 0.980862693299412, 0.9161409383475364, 0.8899223302068515], [0.6878244372309398, 0.45510199625609227, 1.267676631698652, 0.993775869741336], [-0.5692770050813485, 0.6648889376901809, -1.5850311397284356, -1.3536195753248847], [1.6384818659784774, 1.2023892138146999, 0.3567373964182059, 1.0451935535304684], [-2.272424733804552, 1.3790798277825824, 0.6020239606646237, -1.7109979319582584], [1.5308859678824096, -0.25106353186554586, -0.3527164468026828, 1.0019212453910995], [1.8809131300430357, -0.030531890933410338, 0.6590906307137903, 1.6881691438836752], [-1.349687759626247, 0.7609943054227115, -0.6735913196229966, -1.5012545089768483], [0.4072579181449903, 0.6230376698922327, 1.2766871585485204, 0.7514509441608719], [-0.3159499538678213, 1.2317713241704702, -0.05899830073822236, -0.5777725446849105], [-1.9455511193354846, 1.0063979359336592, 0.24861107421978518, -1.5491085909192088], [0.6428793152414431, 0.5760793535674352, -0.4474521249325492, 0.09829363424546057], [-0.4106071047244887, 0.44661235714652436, -1.1237422234976722, -0.9580597703332443], [0.7280026523427626, 1.212603310868399, 0.3300812544873453, 0.37116371851253804], [0.9765627966786159, 1.4007682026953066, 1.304719908748111, 0.9744306025731478], [0.2567598581498572, 1.9421153465413488, 0.4800064095726558, -0.08701366178665923], [-1.2577545555568217, 0.7537648471184701, -1.249764453189582, -1.712016103914479], [1.261215235945429, 0.2865693948700603, -0.2818836940662173, 0.7010514323279602], [0.6142778739753997, 1.423252481274553, 1.75875034501648, 0.9265765206307873], [-1.2965707972750236, 0.9482969682775538, -0.33069071450300436, -1.344965113697011], [-0.32139784744230576, 0.5984973068411379, -2.009527071322236, -1.3627831229308687], [-0.32344080753273746, 0.8975581095367767, -1.9259294055484566, -1.4014736572672453], [0.2737845255701211, 0.014237690308451753, -0.052365551807069345, 0.16905658520278105], [1.07939178789701, 0.3516345196082332, 0.24122744805114288, 0.8064322297967754], [-0.5325037234535784, 0.4298983801495625, -0.8614357752015032, -0.9147874621938756], [-0.3275267277136008, 0.34957843513638476, -2.1667107063699405, -1.3785647882522853], [1.1447665107908236, 0.39050114865672386, -0.3443316509840552, 0.5595255304133192], [-1.437535043514809, 1.0009592608790923, 0.10281574394066433, -1.2507842077466205], [-0.23286957685693335, 0.33041042183431335, -1.7370837803199648, -1.0970402423573342], [-0.8689111516779937, 0.9195781109772185, -0.21805912887964946, -0.9738414356546611], [0.16550764077724253, 0.06577245271575079, -1.6428486870150911, -0.6938441476940405], [-1.349687759626247, 1.3814675387821482, -0.5409363409999339, -1.59798084481779], [-0.9615253424442294, 0.8630026253486136, -1.5945422514032965, -1.6931799227244009], [-1.1229191895883315, 1.1821599956239326, -0.49000183505692774, -1.3576922631497665], [-0.6632531692412054, 0.33956331399931633, -1.8552217990182394, -1.4676548344215739], [-1.7473839905636122, 1.3834572979484534, 0.9704543918592429, -1.1535487859275684], [0.646284248725496, 1.9876145061441892, 0.30630347530019264, 0.09829363424546057], [0.6265356345179898, 0.4852800102783845, 0.8051362534054075, 0.7173421836274871], [-0.30777811350609463, 0.5614877863478652, -2.2984896615492656, -1.4834364997429905], [-0.8464385906832452, 1.1408393302703326, -0.9601761319313111, -1.3744921004274036], [-1.0772930809020242, 0.820687080411861, -1.1311258496663146, -1.5414723012475557], [-0.6326087678847303, 0.7940243075833742, -2.1269142127830216, -1.695725352614952], [-2.1096689132668285, 1.4586038691292382, 0.6906274746883295, -1.5704902019998381], [0.9792867434658582, 1.0142243219877922, 0.3687514322180305, 0.6231612776770966], [0.8124450027472717, 0.7066738801825855, 0.43270114361084666, 0.6134886440930024], [0.7620519871832905, 1.0579990236465018, 0.7338029158439493, 0.6313066533268601], [0.3234965544372918, 1.5428370071694824, 1.3167339445479356, 0.4709445702221411], [-1.0704832139339187, 0.6469147798878925, -1.1331281889662852, -1.4920909613708644], [-0.9465436351143972, 0.8208197310229479, -1.4202135860995926, -1.586780953299365], [-0.6217129807357614, 0.7090615911821514, -0.9909620986683615, -1.114858251591192], [-1.4109765623391972, 1.2622146394149365, -0.26523924863521026, -1.4778365539837783], [-0.7272659187413979, 0.44429097145250185, -0.1051772508437979, -0.69282597573782], [-1.8829003432289133, 1.2273938540045992, -0.5335527148312917, -1.9400866221078572], [-0.5645100982036746, 0.5077642888576308, -1.207715327890196, -1.1260581431096166], [-0.026530607723334564, 0.5257384466599191, -2.3635656887983156, -1.3022018915357525], [0.6769286500819709, -0.0339144815161288, 0.11470463353424078, 0.554434670632217], [-0.9050034466089533, 0.8431050336855638, -0.3560953943713834, -1.0466407305244223], [-1.9421461858514315, 1.1290334258835897, -0.5524497919747658, -1.9665590929695886], [0.9792867434658582, 0.8320287076597994, 1.2168672719618943, 1.0818477439544039], [-1.7657706313774975, 1.2559137353883039, -1.1527761433472483, -2.163066280520133], [0.9534092489870569, 1.0186681174592067, 0.38852453280524185, 0.6129795581148922], [-1.3612645334720266, 1.191909815538827, -1.1748018756469267, -1.8642328113694346], [-0.6571242889699104, 0.9390777508070073, -1.2407539263397134, -1.3210380727258306], [-0.9322429144813755, 1.3466467533718112, -0.20892345582353283, -1.1265672290877269], [1.2979885175731989, 0.4021744024323798, 0.2882824216004558, 0.9739215165950377], [0.37729450348532584, 1.112186798275541, 0.9934812938089067, 0.46483553848481846], [-1.2720552761898434, 1.1635889100717527, -0.511276690119117, -1.4712184362683454], [0.8281076967739145, 0.8877419643163389, 1.4684111465207204, 1.079811400041963], [-0.6782348765710376, 0.7139033384868269, -1.7930241345128977, -1.5455449890724375], [1.1393186172163392, 1.0826720373086836, 0.5676087539463763, 0.8176321213152002], [0.2696986053892578, 0.49854507138708437, -0.6819761154416241, -0.26519375412523594], [-0.24580832409633394, 0.6380271889450636, -2.241297845293851, -1.4304915580195279], [1.7862559791863684, 0.1499392654504515, 0.05901457175380407, 1.2819185333517202], [-1.594161983781237, 1.2315060229482961, -0.36448019019001093, -1.6504167005631425], [-0.46100012028846993, 0.7332703277055287, -1.7554802726384462, -1.375510272383624], [0.22815841688381377, 0.2892224070918003, 1.174818146662508, 0.6593063821229221], [-0.9696971828059561, 0.9941277544081119, -0.9584240850438367, -1.4248916122603155], [0.4392642928950865, 1.3764931408663859, 0.1973011296580345, 0.05502132610609192], [-1.1120234024393627, 0.9844442597987609, -0.6311667557048661, -1.3663467247776402], [1.5281620210951674, 0.7321427975112893, -1.0251270129741126, 0.417490542520568], [0.8424084174069363, 1.380340008587909, 1.866125789977412, 1.1551561248022755], [-1.5083576599831068, 1.371585068256167, -0.31892697111567625, -1.6030717045988923], [0.27310353887331057, 0.009395943003776299, -2.511989089408648, -1.0232227755313523], [-0.836223790231087, 0.7858662950015238, -1.098212397423045, -1.3419105978283496], [1.3095652914189784, 0.7288928575396578, 0.7331771848127081, 1.1134110745972376], [0.12056251878774576, 0.3690780749661735, -1.1776802383906346, -0.5798088885973514], [-1.5553457420630352, 1.2449700599736266, -0.53230125276881, -1.707434330111487], [1.2012884066260998, 0.759468823395211, -0.3651059212212518, 0.4943625252152111], [-0.05581303568618851, 0.38187885893606893, -1.2502650380145746, -0.746280003439393], [0.9214028742369608, 0.9898166095477844, -0.27174685136011517, 0.27698281256214746], [-2.2302035586022972, 1.2065677080639403, -0.010191280301435093, -1.932450332436204], [0.6415173418478219, 1.0528256498141089, 1.3415128933850737, 0.8405409903301603], [0.8533042045559052, 0.7739277400036939, -2.8431259511413116, -0.9626415441362363], [1.0235508787585446, 1.1962209603991545, 0.8987456156790401, 0.8644680313013404], [-1.403485708674281, 0.824533948133384, -0.45608721316367307, -1.4508549971439364], [-0.8246470163853076, 1.0325964316233416, -0.7158907373348787, -1.212602759388354], [1.1434045373972024, 0.4002509685716183, -0.858432266251547, 0.3065097992925402], [1.0140170650031968, 0.26388614037418345, -0.5051445260129567, 0.4200359724111191], [1.1570242713334136, 0.0649102237436853, 0.3362134185935057, 0.9830850642010215], [0.29353313977762724, 0.8388602141307798, 7.070861091490607e-05, -0.006068991267134377], [-1.1154283359234154, 1.0351831185395381, -0.693614712622704, -1.41267354878567], [-1.789605165765867, 1.1121204729699972, 0.22545902606387325, -1.4742729521370066], [-0.6169460738580875, 0.4438266943136974, -2.2553142203936463, -1.6555075603442446], [0.4835284281877727, 0.9762862472169105, 0.9704543918592429, 0.5661436481287521], [-0.8505245108641086, 0.5981656803134205, -0.3045351573971364, -0.9183510640406471], [0.6769286500819709, 0.8974254589256898, -0.7307831358784113, -0.09821355330508405], [1.511818340371714, -0.0676077367322265, -0.20429304619235036, 1.012102964953304], [-1.4531977375414515, 0.5058408549968693, -0.04460648701968252, -1.2044573837385903], [0.7743097477258805, 1.45011423001967, 1.0543023500455184, 0.6934151426563068], [0.12532942566541966, 1.115901015385977, 0.7071467739130884, 0.14309320031915984], [0.8172119096249456, 0.3534253028579077, -0.5594579795246634, 0.22811055866356647], [0.582952485922114, 0.937817570001681, 0.32257248211245493, 0.33400044211049207], [-0.4460184129586377, 0.6719194200777918, -1.1521504123160073, -1.0563133641085167], [-0.8729970718588571, 1.1170948708857598, -0.6220310826487495, -1.2238026509067788], [-0.14161735948431872, 1.594836046715586, 1.066441532051591, -0.00046904550792196086], [-1.248220741801474, 1.0528256498141089, -0.8819597530262034, -1.6045989625332227], [0.8464943375877996, 0.47314247936392406, -3.6934944225976425, -1.3022018915357525], [0.9711149031041315, -0.07835243623027341, 0.027352581573016465, 0.735669278839455], [0.37729450348532584, 1.357391452869858, 0.3442227757933887, 0.08607557077081529], [0.32962543470858674, 0.5029225415529553, -2.9158358969714997, -1.3062745793606343], [-0.9043224599121428, 0.7837438852241319, -0.6525667569733036, -1.1744213110300876], [0.8628380183112528, 1.3422692832059404, 0.06276895794124938, 0.3049825413582096], [-1.4777132586266317, 1.1511860779351186, -0.7254018490097399, -1.7201614795642426], [-0.49573044182580833, 0.6126245969219034, -1.9538370095417992, -1.465618490509133], [-0.3568091556764547, 0.25453427229255005, -2.0819867247399273, -1.3342743081566963], [-1.1201952428010893, 1.0721926390328107, -0.3578474412588578, -1.2630022712212656], [0.827426710077104, 1.233363131503514, 0.0010718782609003964, 0.2780009845183679], [-0.6101362068899819, 0.7685553902546703, -1.663247518633543, -1.4478004812752752], [1.1495334176684975, 1.4146965168594416, -0.15373397886808876, 0.3884726417682855], [-0.16136597369182487, 0.5155906749117637, -1.2333703001710712, -0.8491153710176574], [-0.1436603195747504, 0.3042782514501747, -1.289811239188997, -0.80889757874695], [0.4392642928950865, 0.017553955585626724, 0.0518812379976582, 0.338582215913484], [0.911869060481613, 1.1489310175466394, 0.15650346642113028, 0.4363267237106462], [-0.1845195213833838, 0.7921008737226127, -1.6053048251406392, -1.1184218534379633], [1.2945835840891462, 0.37013927985486955, 0.2044344634141804, 0.9393036700835428], [1.0882446149555474, -0.44884559299626103, -0.023081339544997033, 0.8929768460755126], [-1.8645137024150282, 1.379013502477039, -0.3161737545782164, -1.8611782955007732], [-0.47666281431511276, 0.8817726868174239, -1.8254370019311743, -1.4595094587718103], [0.49238125524630993, 0.6397516468891945, -0.5099000818503872, -0.057486675056266506], [-0.16068498699501432, 0.9596385955254921, -1.7732510339256866, -1.2258389948192197], [0.22066756321889766, 0.856569070710894, 1.007372522702454, 0.42512683219222136], [-0.32820771441041136, 0.2196471615766694, -1.5439831840790348, -1.043077128677651], [1.389921721642624, 0.7999272597767456, -0.6911117884977407, 0.46178102261615717], [-0.0592179691702413, 0.4777189254464255, -1.6233258788403762, -0.9539870825083625], [1.2482764887060283, 1.029611792873884, 1.121505862800787, 1.179083165773456], [0.8744147921570324, 0.5845026673714596, 0.8254099388176113, 0.8807587826008674], [1.4246520431799625, 0.8134576221076196, 0.6599666541575274, 1.1383562875246382], [0.9643050361360259, 1.6155958673507012, -1.032010054317762, -0.22344870392019797], [1.8768272098621726, 0.2384835483510232, -0.31216907597827487, 1.1439562332838509], [1.2516814221900812, -0.3555258880965574, 0.037739716691614786, 1.0161756527781858], [0.6796525968692132, 1.229449938476448, 0.22933855845756665, 0.28258275832135993], [-0.8818498989173943, 0.882568590483946, -0.08615502749407582, -0.9091875164346632], [0.08583219725040736, 0.36980765332715204, -2.485207801271539, -1.2390752302500854], [0.9220838609337715, 0.6523534549424596, -0.11481350872490717, 0.44141758349174837], [0.7736287610290701, 1.3368969334569167, 0.7752263101120942, 0.5870161732312711], [-1.0017035575560524, 0.7720043061429325, -1.4202135860995926, -1.6142715961173169], [-1.464774511387231, 1.4596650740179342, -0.5528252305935102, -1.707434330111487], [1.0650910672639884, 0.45596422522815777, 1.1690614211750923, 1.2182827860879428], [-1.0725261740243504, 0.8587578057938297, -0.3846287293959667, -1.1861302885266225], [0.6224497143371264, 0.30102831147854314, -3.066762221706796, -1.115367337569302], [0.672161743204297, 1.161333849683274, 1.4876836622829388, 0.9051949095501579], [0.7504752133375111, 1.1224672206347832, 0.6185432598893824, 0.5503619828073353], [-1.726273402962485, 1.4541600736578237, 0.3310824241373306, -1.4666366624653533], [-0.7633582136723573, 0.8440335879631727, -0.45821469866989206, -0.9942048747790698], [-0.7797018943958107, 0.5665285095691712, -0.8072474678960445, -1.103149274094657], [0.7130209450129303, 2.00393053130789, 1.2784392054359952, 0.6139977300711127], [-0.7081982912307023, 0.6263539351694076, -1.2503901842208227, -1.2818384524113438], [0.22679644349019268, 0.8716249150692684, -3.0646347362005764, -1.5485995049410985], [-0.2233357631015856, 0.5459676648506864, -1.7454685761385922, -1.149985184080797], [0.4140677851130959, 1.165843970460232, 0.7972520424117724, 0.38236361003096286], [0.9922254907052588, 1.2752143993014622, 0.5146719087033994, 0.6348702551736316], [0.6095109670977258, 0.34639482047029674, -0.053366721457054615, 0.32483689450450814], [0.8594330848272002, 0.029359859972369617, 1.461528105177071, 1.3226454116005377], [0.8056351357791661, 1.0666876386727002, -0.7853468818026145, -0.0758137702682344], [0.1069427848515346, 0.5575082680152554, 1.2261280912242587, 0.526434941836155], [0.6251736611243686, 0.9912757662697415, 0.4311993891358685, 0.40323613513348194], [1.0119741049127648, 1.422589228219118, 2.110286038367596, 1.3852629869080946], [-0.16340893378225654, 0.4601427194773982, -1.6204475160966683, -1.0237318615094626], [-0.9438196883271549, 0.7685553902546703, -0.8913457184948164, -1.314929040988508], [0.6646708895393809, 0.44661235714652436, 0.8320426877487646, 0.7677416954603988], [0.8928014329709174, 1.4287574816346635, -0.2926462678035602, 0.13189330880073502], [-0.17089978744717269, 0.642736285638652, -1.522207744191853, -1.028822721290565], [0.19683302883052817, 0.487866697194581, -2.5872019593637994, -1.2390752302500854], [1.2142271538655003, 0.6741081551607273, 0.1188344583404304, 0.7606144917668558], [-0.9029604865185216, 0.8002588863044631, -0.8775796358075174, -1.286929312192446], [-0.2069920823781322, 0.37557795490943646, -1.3257282003822224, -0.8903513352445851], [-0.9485865952048289, 0.9417307630287474, -1.7230674052201695, -1.7664883035722725], [-0.840990697108761, 0.8232074420225138, -0.7043772863600469, -1.1642395914678831], [-1.8849433033193448, 1.4361859158555352, 0.3353373951497685, -1.57507197580283], [-0.5059452422779667, 0.8460896724350212, -1.716935241114009, -1.4182734945448827], [-1.2094045000832723, 0.6244305013086462, -0.37586849495859465, -1.219220877103787], [-1.1685452982746387, 1.264005422664611, -0.6929889815914633, -1.510418056582832], [0.9404705017476565, 0.8903949765380788, 0.9886005917652279, 0.9281037785651178], [-1.3258532252378776, 0.8237380444668619, -0.7464264116594328, -1.535363269510233], [0.16550764077724253, 0.45841826153326726, -0.38988487005838995, -0.18832177143059284], [0.7184688385874148, 0.07061420002042625, -0.5515737685310286, 0.23371050442277888], [0.0374821417768578, 0.376440183881502, -1.8926405146864431, -0.9886049290198574], [1.7692313117661043, 1.3936050696966087, 0.6824929712821987, 1.2478097728183355], [-0.26010904472935564, 0.6325885138904966, -1.9082837904674645, -1.2782748505645722], [-0.5815347656239386, 0.6329864657237577, -2.077856899933738, -1.5928899850366878], [0.959538129258352, 1.5006541128438167, 0.9399187175346888, 0.7590872338325251], [1.2203560341367954, 0.49105031186066894, 0.6650976486137028, 1.077265970151412], [0.9670289829232681, -0.2608133517804403, -0.81851062645838, 0.3706546325344279], [-0.11505887830870698, 0.9094303392290631, 0.5971432586209451, -0.030505118216424893], [-0.056494022382999075, 0.27177885173385996, -1.943449874423201, -1.0537679342179656], [0.05246384910669006, 0.45729073133902776, -1.47790598718, -0.7976976872285252], [0.7518371867311322, 0.5063714574412173, 0.5250590438219978, 0.6669426717945753], [-0.9955746772847573, 0.9076395559793887, -0.35083925370896013, -1.1265672290877269], [1.5029655133131765, 0.05204311446824641, -0.9188778838694143, 0.6282521374581989], [0.6360694482733376, 0.5846353179825465, 0.15838065951485295, 0.38439995394340376], [1.7944278195480952, 0.19106095488742114, -0.3907608935021271, 1.0589388749394442], [-0.8191991228108231, 0.4611375990605507, -1.0034767192931788, -1.1993665239574882], [0.5550320313528813, 1.1457474028805514, -0.23958427635433494, -0.012687108982567233], [-0.1906484016546788, 0.6063900182008144, -2.0650919868964244, -1.29660194577654], [-0.8845738457046365, 0.8548446127667632, -0.28401117957243616, -1.0003139065163924], [1.359277320286149, 0.20737698005112198, 0.07553387097856278, 0.9657761409452742], [-0.7762969609117579, 0.7454741839255327, -1.6442252952838208, -1.5526721927659803], [0.6707997698106759, 0.9742964880506055, 1.4481374611085165, 0.9337037243243302], [-1.9693856537238539, 1.3919469370580213, 0.0266017043355274, -1.7741245932439258], [-1.511081606770349, 1.2533270484721075, 0.2509888521385005, -1.2971110317546504], [-1.9625757867557485, 1.3068515700457115, 0.19767656827677904, -1.6641620219721183], [1.0228698920617338, -0.10793352250267413, -3.797240627577377, -1.0731132013861537], [1.0112931182159544, 1.3329837404298504, 0.36962745566176786, 0.563598218238201], [-0.5822157523207491, 0.8775941925681834, -1.0217480654054119, -1.1448943242996947], [-0.5079882023683984, 0.6303997788075612, -1.606556287203121, -1.310347267185516], [-1.3013377041526974, 0.9870972720205009, -0.5871152911055094, -1.4829274137648805], [0.8349175637420201, 0.4619998280326162, -3.128584447593393, -1.0334044950935568], [-0.24376536400590226, 0.7891825602786987, -1.9057808663425009, -1.3057654933825242], [1.1985644598388576, 1.4155587458315069, -0.12607666728724265, 0.43734489566686663], [-1.0984036685031515, 1.0991207130834715, -0.9143726204444801, -1.524163377991808], [1.9115575313995108, -0.25119618247663283, -0.892597180557298, 1.0151574808219654], [-0.2464893107931445, 0.5496155566555788, -0.8176346030146429, -0.7177711886652208], [0.7504752133375111, 0.5663295336525408, 1.070821649270277, 0.9148675431342522], [-0.10348210446292752, 0.46843338267033563, -1.9744861335727477, -1.1540578719056789], [0.6810145702628342, 1.2903365689653803, -0.09328836125022169, 0.11102078369821607], [-0.8777639787365309, 1.0483155290371509, -0.881709460613707, -1.3352924801129167], [-0.9839979034389779, 1.0759068561432465, -1.2692872613642967, -1.607144392423774], [0.7926963885397655, 0.5726967629847167, -0.17500883393027802, 0.33909130189159425], [-1.2209812739290518, 0.7867948492791328, -0.8489211545766859, -1.4997272510425175], [0.47058968094837217, 0.698383216989648, -0.1831433373364094, 0.0697848194712883], [1.4021794821852143, 0.9171240746721091, 0.38376897696781126, 0.9617034531203924], [-0.6925355972040593, 0.8306358762433859, -0.9924638531433395, -1.1983483520012677], [-1.033028945609338, 1.1050236652768428, -1.0679270155109877, -1.5526721927659803], [-2.5618440799490387, 1.6219630966828773, 1.1570473853752676, -1.71405244782692], [-1.3101905312112347, 0.8424417806301288, 0.037739716691614786, -1.1489670121245765], [-1.3067855977271818, 0.6596492385522444, 0.057012232453833314, -1.089403952685681], [1.2632581960358604, 0.6085787532837499, 0.21156779717032603, 0.8578499135859076], [-1.8801763964416711, 0.9766841990501715, 0.05150579937891367, -1.5893263831899163], [0.5877193927997879, 1.1928383698164362, 1.1675596667001142, 0.6806879932035513], [-0.8655062181939409, 0.6627002026072454, -0.6486872245796103, -1.1133309936568612], [-0.6938975705976805, 0.7918355725004388, -0.6220310826487495, -1.0094774541223763], [1.0664530406576096, 1.695252559308444, 1.67728016474892, 1.1434471473057404], [-0.8961506195504161, 1.1550329456566415, -1.4471200204429495, -1.6509257865412528], [1.0106121315191439, 0.8606812396545911, 2.0146743367939925, 1.484025666661477], [-0.27849568554324067, 0.7259745440957438, -1.8274393412311452, -1.2762385066521313], [-0.574724898655833, 0.646052550915827, -0.7142638366536525, -0.9300600415371821], [0.7184688385874148, 0.978209681077672, 1.1549198998690489, 0.8252684109868537], [1.1175270429184012, 0.26786565870679346, 0.47850465509767764, 0.970357914748266], [-0.3465943552242964, 0.24955987437678762, -1.5596264598600564, -1.0720950294299334], [0.3718466099108414, 0.16008703719860692, -2.4192557505787518, -0.9453326208804887], [1.4062654023660774, 0.5381412787965535, -0.30053047879719486, 0.731087505036463], [1.3259089721424318, 0.48156579316794856, 0.12534206106533552, 0.8945041040098434], [0.1947900687400965, 0.981923898188108, 0.5820005676649161, 0.16752932726845038], [0.129415345846283, -0.31175118643784777, -0.7352883993033454, -0.18170365371515998], [0.9772437833754265, 1.129763004244568, -0.22932228744198493, 0.3019280254895483], [0.2628887384211522, 1.1229314977735876, 0.15362510367742235, -0.027959688325873793], [0.7375364660981104, 1.2844999420775522, -0.5276708431376277, -0.05646850310004608], [-1.2557115954663902, 1.2675206638584164, -0.34057726479661005, -1.4030009152015759], [-0.8062603755714224, 0.552003267655145, -0.38625563007719294, -0.9142783762157654], [0.7082540381352564, 1.2011953583149169, 1.4243596819213642, 0.8904314161849617], [0.982691676949911, -0.9679074341796873, 0.1985525917205162, 1.0589388749394442], [-1.1413058304022166, 0.7915039459727212, -0.5219141176502117, -1.2848929682800052], [-1.6384261190739233, 0.9397410038624424, -0.08127432545039713, -1.4691820923559045], [1.157705258030224, 0.06981829635390426, 0.45710465382924026, 1.0411208657055866], [0.9357035948699826, 0.2953906605073457, 1.0864649250512985, 1.1266473100281031], [1.3429336395626956, 0.6945363492681251, 0.28202511128804714, 0.9270856066088975], [1.0507903466309667, 0.7180155074305239, -1.3445001313194482, -0.07886828613689571], [-0.09667223749482194, 0.6154102597547303, 0.7430637351063137, 0.13036605086640435], [-0.9111323268802483, 0.8954356997593848, -1.4084498427122643, -1.57507197580283], [1.061005147083125, 0.5622173647088439, -0.42279832230165926, 0.41647237056434755], [0.6728427299011076, 1.0392289621776916, 0.19567422897680828, 0.310582487117422], [-1.2761411963707068, 1.365217838923991, -0.8297737850207155, -1.6804527732716454], [0.10830475824515573, 1.0828046879197706, -0.027211164351186652, -0.2168305862047651], [0.15597382702189472, 1.1852772849844773, 0.1715210111709111, -0.11246796069217019], [-0.19337234844192105, 0.7566831605623839, -1.261653342783158, -0.9488962227272604], [0.43654034610784426, 0.7720043061429325, 0.9463011740533459, 0.5737799378004054], [1.2523624088868917, 0.7253776163458523, -0.16875152361786955, 0.6353793411517419], [-1.5512598218821718, 1.1408393302703326, -0.03797373808852951, -1.4371096757349606], [-0.7177321049860501, 0.821350333467296, -1.0912042098731474, -1.261984099265045], [-1.0412007859710646, -1.1357104572047407, 0.43107424292962043, -0.2483939168475987], [1.2012884066260998, 0.9208382917825451, 0.3627444143181182, 0.8049049718624448], [0.9418324751412775, 0.46929561164240113, -0.10805561358750583, 0.5070896746679666], [-1.0153232914922634, 0.924817810115155, -1.7297001541513226, -1.8138332995365227], [-0.502540308793914, 0.8056312360534866, -1.5945422514032965, -1.3459832856532314], [-2.6292617629332837, 1.6303864104869015, 1.942464975788797, -1.3841647340114978], [-1.5825852099354574, 1.2790612670229853, 0.11157597837803643, -1.4233643543259846], [0.81040204265684, 1.6975739450024665, 0.2663818355070256, 0.273419210715376], [0.1403111329952519, 0.5833088118716766, -2.3023691939429587, -1.166275935380324], [-1.9530419730004005, 1.1455484269639211, 0.21044148131409265, -1.6086716503581044], [-1.092955774928667, 0.9644140175246242, -1.0577901728048855, -1.5541994507003112], [1.3102462781157889, 0.6013492949795085, 0.2972929484503241, 0.935230982258661], [-2.0075209087452452, 1.2942497619924467, 0.13485317274019648, -1.7237250814110139], [-0.162727947085446, 0.7233878571795473, -2.040313038059286, -1.2950746878422097], [0.5931672863742724, 0.3518334955248637, -0.132834562424644, 0.273419210715376], [0.9942684507956904, 0.48222904622338353, 1.5562637833069375, 1.3480997105060486], [1.2339757680730066, 0.1307712521483802, -0.24609187907923985, 0.7392328806862266], [0.6306215546988531, 0.8153147306628374, 1.643866127680658, 1.0411208657055866], [0.41815370529395923, 0.6268182123082122, -0.3968930576082876, -0.05341398723138476], [0.9254887944178242, 1.7255632239418233, 0.053007553853891796, 0.24592856789742415], [0.39159522411834746, 0.9080375078126496, -0.524291895568927, -0.20715795262067097], [-0.6387376481560253, 0.9549294988319037, -1.0651737989735275, -1.22685716677544], [0.6442412886350642, 0.256921983292116, -2.0439422780404835, -0.5920269520719966], [-0.2798576589368618, 0.3337266871114884, -0.7544357688593158, -0.6551536133576639], [0.6510511556031697, 1.2417201200019952, 0.5006555336036042, 0.3905089856807264], [-0.06330388935110463, 1.377554345755082, -0.2360801825793863, -0.5187185712241251], [-0.7088792779275127, 0.6433995386940871, -1.630334066390274, -1.470709350290235], [0.582952485922114, 0.9401389556957033, 0.20255727032045773, 0.27494646864970657], [-0.08032855677136858, 0.7921008737226127, -1.9130393463048951, -1.1922393202639452], [0.49919112221441553, 1.4009008533063936, -1.2153492464713345, -0.5930451240282171], [1.5465486619090523, 1.3524833802596392, 1.458649742433363, 1.4738439470992728], [2.101552819809656, 0.47327512997501114, 0.4041678085862634, 1.5924609799989538], [0.10217587797386073, 0.313895420753982, -1.5626299688100127, -0.7656252706075813], [0.3520979957033352, 1.385646033031389, 0.6300567108642143, 0.19960174388939417], [-1.4906520058660324, 0.9018029290915607, -0.934646305856684, -1.7659792175941622], [1.1508953910621185, 0.9612304028585362, -0.0327175974261063, 0.5666527341068622], [0.24722604439450935, 0.8338194909094738, 0.11520521835923342, 0.0173489637259357], [1.0507903466309667, 0.02153347391823669, 0.8435561387235962, 1.163301500452039], [0.6953152908958559, 1.0415503478717139, -0.5689690911995245, -0.04425043962540081], [0.30715287371383837, 0.6713224923279003, -1.268035799301815, -0.5675908251227062], [0.34188319525117683, 0.9822555247158256, 0.8743421054606465, 0.4154541986081271], [0.6537751023904119, 0.43560235642630346, 0.5885081703898211, 0.645051974735836], [-2.2853634810439525, 1.7392925621893276, 1.5642731405068206, -1.347510543587562], [-1.3149574380889086, 1.098789086555754, -0.8324018553519271, -1.6412531529571586], [0.4120248250226642, 0.59796670439679, -2.8159692243854577, -1.2232935649286687], [0.9602191159551625, 0.42459235570608256, 1.0929725277762035, 1.1139201605753477], [0.9574951691679203, 0.7773103305864123, 0.6509561273076591, 0.805414057840555], [-0.7483765063425251, 0.919644436282762, -2.11264754527073, -1.804669751930539], [-1.534235154461908, 0.9094303392290631, 0.21394557508904133, -1.2426388320968569], [-0.9533535020825027, 1.1040951109992339, -0.7430474640907322, -1.3373288240253576], [0.10626179815472406, 0.11591438370663634, -1.735832318257483, -0.794643171359864], [1.2830068102433667, 1.0796210732536826, 0.10031281981570093, 0.6954514865687477], [0.23020137697424545, 1.092421857223578, -0.2893924664411075, -0.2580665504316929], [0.7368554794012999, 0.9746281145783231, 0.939793571328441, 0.7351601928613448], [-0.49300649503856614, 0.8111362364135971, -1.384922355937608, -1.2395843162281956], [-0.9880838236198413, 0.8987519650365597, -0.8291480539894747, -1.3505650594562235], [-0.8825308856142049, 0.5968391742025505, -1.1799328701031018, -1.36583763879953], [-0.6019643665282552, 1.0013572127123533, -0.4151644037205207, -0.8974785389381282], [0.9963114108861222, 0.9393430520291814, 0.3420952902871699, 0.6419974588671746], [0.31396274068194396, 0.19139258141513862, -2.1959949186320125, -0.887805905354034], [-0.771530054034084, -0.19448804623694088, -0.9509153126689465, -0.9682414898954487], [1.016741011790439, 1.2760766282735279, 1.1574228239940123, 0.9642488830109435], [0.4964671754271733, 0.2490955972379831, -3.4099131192392838, -1.3592195210840972], [0.2594838049370994, 0.5084938672186093, -2.062714208977709, -0.9448235349023786], [0.5516270978688285, 1.0695396268110706, 0.8419292380423702, 0.528980371726706], [0.3902332507247264, 1.4547570014077151, -0.16499713743042424, -0.1766127939340578], [-1.5104006200735385, 1.144752523297399, -0.42817960917033066, -1.5984899307959], [-0.9158992337579221, 0.9437205221950523, -1.1103515794291179, -1.4462732233409445], [0.7525181734279427, 0.4751985638357726, 0.6451994018202433, 0.7336329349270141], [-0.37247184970309755, 0.6042012831178789, -1.6504826055962296, -1.22685716677544], [-0.8784449654333415, 0.8267226832163194, -1.8161761826688096, -1.7313613710826674], [-0.866868191587562, 0.7498516540914035, -1.3810428235439145, -1.491581875392754], [1.0521523200245877, -0.011231227020252013, 0.013211060266973051, 0.7702871253509499], [1.0003973310669856, 1.3271471135420223, 0.13985902099012348, 0.4459993572947403], [0.7245977188587098, 1.0687437231445487, 0.7127783531942564, 0.5910888610561529], [-1.095679721715909, 0.9443174499449438, 0.2803982106068209, -0.9025693987192304], [1.8727412896813092, 0.46432121372663865, 0.4434637173481895, 1.448898734171872], [-1.063673346965813, 1.0877127605299897, -1.255771471089494, -1.661107506103457], [1.5615303692388847, 0.0871292011007576, -0.9151234976819691, 0.6628699839696938], [-1.1685452982746387, 1.03067299776258, -1.2856814143828073, -1.7369613168418798]] [[0.19274710864966482, -0.6027866271627231, 0.49965436395361884, 0.53814391933269], [0.37388957000127304, -0.40069342117168044, -0.05874800832572593, 0.34621850558513734], [-0.6203510073421403, -0.1383105124415969, 1.5862988728064986, 0.35640022514734176], [0.8989303132422125, -0.7739059154649516, 1.0686941637640581, 1.3694813215866777], [-1.491332992562843, -1.4063177038222183, 1.603819341681243, 0.06520304566829632], [0.5502651244752074, -0.4790236070185533, -0.02132929265752248, 0.5121805344490689], [-0.365661982734992, -0.9116635750787999, -0.641929329442209, -0.3379930489949973], [-1.0582254533913287, -1.2355300420477076, 1.033528079808322, 0.05756675599664302], [0.8744147921570324, -0.883674296139443, 0.4133034816423798, 1.0630115627643257], [0.5618418983209867, -0.9973558698410011, 0.3776368128616509, 0.8491954519580339], [1.4294189500576366, -0.8760468860019407, 1.09046960365124, 1.7904954254838292], [-1.091593801535046, -0.9371324924075035, 0.2197023005764574, -0.439301158638931], [-0.6748299430869847, 0.17952035172285224, 2.031819367049992, 0.45007204511962207], [1.624181145345456, -0.5519814431164026, 1.0079982537336947, 1.8067861767833562], [0.9322986613859298, -1.0161259313098114, 0.694632153288271, 1.2758095016143975], [-1.9741525606015278, -2.4267988549145, 1.4289900915525464, -0.10330441308618625], [-1.2230242340194835, -2.149758053659303, -0.9292650189880126, -0.7758069901697857], [0.8390034839228834, -0.8790315247513981, 0.4611093324291818, 1.0589388749394442], [-0.8450766172896241, -1.3014573957579458, -0.7977363562211836, -0.6592263011825457], [-0.22129280301115392, 0.26640650198483645, 0.29391400088162356, -0.08701366178665923], [-0.7170511182892394, -0.7536766972741842, 0.6737327368448265, 0.004112728295070016], [-1.0895508414446142, -1.2523766696557561, 0.2954157553566017, -0.3191568678049192], [1.1338707236418546, -0.6061028924398981, -0.13383573207462948, 0.9128311992218113], [0.965667009529647, -0.895214899304012, -0.009565549270194356, 0.9270856066088975], [0.3446071420384191, -0.9893305078702376, -1.0373913411864333, 0.0036036423169597963], [-0.8546104310449719, -1.0513446685534096, 0.6504555424826665, -0.028977860282094235], [-0.6857257302359538, -0.08365846067375336, 1.2101093768244928, 0.11254804163254672], [1.2557673423709443, -1.1705975679206213, 0.5896344862460546, 1.4987891600266734], [0.08310825046316513, -0.9167706236056493, -0.285387787841166, 0.16040212357490732], [0.08310825046316513, -1.1235729262902803, 0.0004461472296594372, 0.35283662330057014], [-1.2815890899451912, -2.116396424970923, -0.6718392727355221, -0.7014804373656938], [0.1736794811389692, 0.8866144341220994, 0.37688593562416184, 0.07742110914294159], [-0.6428235683368887, -0.07298008648124996, 0.8993713467102813, -0.009632593113905914], [-0.4807487344959761, -0.31082263216023875, 0.8740918130481502, 0.15683852172813578], [1.394688628520298, -0.9151788162726052, 1.0874660947012842, 1.7742046741843023], [2.091338019357498, -0.1370503316362704, 1.9134310559392211, 2.4762342379982947], [-0.6108171935867925, -0.9025770082193404, -0.7672006818966294, -0.5787907166411309], [-0.014953833877555096, -0.9005209237474919, -0.6199035971425306, -0.07683194222445484], [1.4587013780204903, -0.9042351408579279, -0.4905024198819205, 1.0523207572240112], [1.1372756571259073, -0.46051884677191696, 0.47149646754778013, 1.1709377901236924], [-0.9254330475132699, -0.9015158033306444, 1.1879584983185663, 0.14105685640671897], [1.5247570876111143, -0.33198040462861506, 1.0767035209639413, 1.711078012898635], [-1.1910178592693872, -1.456459634813104, 1.025769015020935, 0.0148035338353846], [-0.7817448544862423, -1.2322801020760759, -0.9163749597444508, -0.6892623738910485], [0.8771387389442746, -0.7071826580881913, 0.24823563560104064, 0.9387945841054326], [0.9745198365881843, -0.8954802005261859, 1.0778298368201749, 1.460607711668407], [-0.5740439119590224, -0.8495830890900844, -0.45608721316367307, -0.41486503168964045], [-1.3755652541050483, -1.5492487372684594, 0.4464672262981455, -0.3751563253970433], [0.710296998225688, -0.8934241160543375, -0.47323224341967274, 0.5167623082520607], [2.2071057578152926, -0.8942200197208595, 0.9042520487539597, 2.268018072951215], [1.5547205022707788, -0.9734124345397978, 0.5936391648459962, 1.6657693608468254], [-0.7415666393744195, -0.9157757440224968, 0.510792376309706, -0.050359471362723444], [0.29012820629357444, -0.7404779614710278, 0.5309409155156619, 0.6598154681010324], [1.084158694774684, -1.1877758220563879, 0.4559783379730067, 1.3145000359507741], [-1.64659795943565, -2.5903570583847695, -0.49000183505692774, -0.7544253790891565], [-1.3694363738337532, -2.0894683509202623, -0.15711292643678954, -0.5227912590490069], [1.339528706078643, -0.35293920118036093, 1.0255187226084388, 1.557843133487459], [-1.195784766147061, -1.260070405098802, 0.7947491182868089, -0.15166758100665706], [-0.3009682465379891, -0.5269768029265033, -0.37574334875234644, -0.26264832423468487], [-1.4354920834243772, -2.4099522273064515, -0.42279832230165926, -0.615953993043177], [1.6718502141221947, -0.30365949916154084, 0.9605678415656372, 1.7543503210380036], [0.243140124213646, -0.830415075788013, -0.7638217343279288, 0.021421651550817458], [-1.0568634799977075, -1.1668833508101857, 0.6480777645639512, -0.14657672122555487], [-1.3959948550093648, -1.3389975186955665, 0.8713385965106907, -0.23872128326350453], [-1.2734172495834646, -2.013127924239694, -0.7694533136090965, -0.7696979584324631], [-1.4531977375414515, -1.516616686941058, 1.0698204796202917, -0.13741317361957095], [1.7801270989150733, -0.2572317852810913, 1.011252055096147, 1.8449676251416225], [-0.19541530853235273, 0.10450643115315443, 0.2877818367754632, -0.028977860282094235], [1.368811134041497, -0.5094669222630195, 0.5449572906154573, 1.3872993308205355], [1.5124993270685245, -1.021763582281009, 0.5897596324523028, 1.645915007700527], [1.2094602469878264, -0.6633416311239381, 1.1587994322627424, 1.6097699032547015], [1.8039616333034427, -0.667188498845461, 0.7154064235254677, 1.825113271995324], [0.02658635462788889, 0.40190910121020573, 0.28915844504419297, 0.05502132610609192], [-0.9839979034389779, -0.9521220114603345, 0.5604754201902304, -0.1923944592554746], [-0.3860915836393086, 0.2504884286543966, 0.35986605157441026, -0.16999467621862496], [-0.9050034466089533, -1.2588102242934758, -0.24171176186055401, -0.4443920184200332], [-0.848481550773677, -0.9343468295746766, 0.24060171701990216, -0.2534847766287009], [1.1590672314238453, -0.5682974682801034, 1.1626789646564357, 1.5502068438158059], [0.4426692263791393, -1.0060444848671994, 0.4219385698735038, 0.7870869626285872], [-0.08169053016498969, -0.6000672896354396, -0.3918872093583607, -0.09312269352398185], [-0.8042174154809908, -0.6778668730379644, -0.23470357431065625, -0.5187185712241251], [0.2703795920860683, -0.6480868108489333, 1.0431643376894308, 0.8700679770605528], [0.5727376854699556, -1.2899167925933768, 0.5156730783533849, 0.9998849014786587], [1.5370148481537045, -0.6913309100632948, 1.4986965284327782, 2.018056857699097], [1.095054481923653, -0.5075434884022579, 0.504910504616042, 1.1694105321893618], [0.2390542040327827, -0.8643073069207413, -0.8535515642078684, -0.015741624851228552], [-0.8586963512258353, -0.6531275340702392, 1.7571234443352541, 0.40119979122104105], [-0.01903975405841844, 0.47758627483533855, 0.34409762958714063, 0.02854885524436053], [1.33612377259459, -0.6395971717393654, -0.08515385784409032, 1.091520377538498], [0.7763527078163122, -0.6270616889916439, -0.005185432051508307, 0.7224330434085894], [0.6033820868264308, -1.1977246178879128, 0.12809527760279513, 0.8105049176216572], [0.4835284281877727, -0.3829845645915661, 0.7817339128369991, 0.8288320128336252], [0.9384275416572249, -1.1852554604457348, 0.7960005803492909, 1.3730449234334494], [0.8723718320666006, -0.8448739923964959, 0.7115268911317745, 1.1958830030510932], [1.1468094708812553, -0.6757444632605725, 1.0544274962517663, 1.5166071692605312], [1.028998772333029, -1.0646097296621095, -0.7715807991153154, 0.6470883186482769], [-0.30028725984117854, 0.591466824453527, -1.6285820195027993, -1.1606759896211116], [-0.06670882283515743, 0.5832424865661332, 0.8349210504924724, 0.20469260367049635], [0.792015401842955, 2.2568289213452535, 0.7011397560131764, 0.32534598048261826], [1.975570280899703, -0.24595648333869638, 1.202225165830858, 2.0760926592036624], [1.3259089721424318, -1.1915563644723675, 0.7246672427878327, 1.620969794773126], [-0.16340893378225654, -0.8960108029705339, -0.9998474793119818, -0.3700654656159411], [0.1947900687400965, 0.6849191799643177, 0.5539678174653255, 0.2311650745322278], [-0.69321658390087, -0.5918429517480457, 0.29917014154404675, -0.20206709283956878], [-0.3220788341391163, -0.1117140649186536, 0.2591233555446316, -0.0783592001587855], [1.1018643488917585, -1.1524244342017027, 0.9569386015844402, 1.5608976493561204], [-0.6571242889699104, -0.6258678334918609, -0.13358543966213307, -0.3771926693094842], [1.4416767106002264, -1.0255441246969883, -0.04147783186347817, 1.2900639090014836], [0.44539317316638155, -0.7065857303382997, -0.23032345709197022, 0.39458167350560813], [-0.025168634329713453, 0.7821520778910878, 0.5105420838972098, 0.025494339375699213], [-0.14434130627156094, -0.784584289657455, -0.5272954045188831, -0.15574026883153883], [-0.0387883682659246, -1.1810106408909509, -0.3285632289967855, 0.1196752453260898], [0.24109716412321439, -0.9049647192189064, -0.2404602997980721, 0.2932735638616745], [-0.7660821604595996, -0.6992899467285149, 0.2503631211072595, -0.2504302607600396], [-1.509719633376728, -1.6257881398656577, 1.1395269165005235, -0.11603156253894173], [-1.18216503221085, -1.4016086071286298, 0.116331534215467, -0.4337012128797185], [0.5366453905389962, -0.9601473734310979, 0.22295610193890986, 0.7458509984016594], [0.5332404570549434, -1.223657812355421, 0.8725900585731722, 1.1276654819843237], [0.5087249359697633, -0.6749485595940504, 0.9384169630597108, 0.9983576435443282], [0.2703795920860683, -1.0290593658907938, -0.06850941241308352, 0.43021769197332355], [-1.2570735688600112, -1.6990112771856813, 0.4562286303855029, -0.2458484869570476], [-1.74466004377637, -2.7500683941335162, -0.1644965526054316, -0.6261357126053814], [-0.5502093775706529, -0.3225622112414382, 0.6370648984141118, -0.005050819310913938], [-1.1215572161947105, -1.3683796290513368, 0.2626274493195805, -0.3278113294327929], [0.10489982476110293, 0.9725057048009311, 1.0509234024768177, 0.33196409819805117], [1.2305708345889537, -0.9364029140465251, 1.4406286887336264, 1.832240475688867], [-1.1270051097691949, -1.5589322318778105, 0.2044344634141804, -0.31050240617704544], [1.6105614114092448, -0.7073816340048217, 0.7987537968867505, 1.7365323118041458], [-0.8328188567470343, -1.0509467167201485, -0.18764860076134354, -0.41995589147074264], [-1.1447107638862695, -1.561916870627268, 0.20355843997044323, -0.3227204696516907], [-1.212809433567325, -1.8709927944599751, -1.0980872512167972, -0.9229328378436392], [-0.6046883133154975, -0.989794785009042, -0.880958583376218, -0.6067904454371931], [0.013647607388488303, 0.7560862328124925, 0.6338110970516595, 0.12018433130420002], [-0.9547154754761239, -1.6352726585583781, -0.5857386828367797, -0.5487546439326281], [0.2696986053892578, -0.8637767044763932, -0.20579480066732847, 0.32025512070151607], [0.11239067842601907, 1.1152377623305418, 0.8310415180987788, 0.19400179813018176], [-1.6091436911110693, -1.1431388914256129, -0.5443152885686345, -1.1301308309344984], [-0.1293595989417287, -0.4839980049343157, -1.0128626847617916, -0.45864642580711923], [0.6803335835660237, -0.5204105976776968, 0.36049178260565123, 0.8018504559937836], [1.0392135727851872, -1.2006429313318265, 0.4958999777661735, 1.30482740236668], [2.131516234469321, -1.1112364194591895, 0.8504391800672457, 2.2430728600238146], [0.1532498802346525, -0.9709583982346883, 0.5341947168781144, 0.6226521916989863], [-1.2434538349238002, -2.2979287862434807, -0.7695784598153447, -0.6744988805258522], [-0.29483936626669405, -0.178967924739762, 0.023848487798067582, -0.15472209687531838], [-0.4208219051766471, 0.018482509863235717, 0.5264356520907275, -0.053923073209494986], [-0.7967265618160746, -0.448049689329739, 1.0538017652205256, 0.05094863828121017], [0.6667138496298125, -0.9038371890246669, 0.3379654654809803, 0.8817769545570879], [0.14167310638887304, -0.93839267321283, -0.18877491661757714, 0.25560120148151827], [-0.9029604865185216, -0.6468266300436067, 0.5428298051092382, -0.2214123600077571], [-1.1208762294978998, -0.9087452616348859, 1.595184253450119, 0.19960174388939417], [0.5924862996774618, -1.1853881110568218, -0.7604427867592282, 0.36810920264387675], [0.6054250469168624, -1.0047179787563294, 0.37688593562416184, 0.8822860405351981], [-0.8934266727631738, -1.3509360736933964, -0.7901024376400451, -0.6775533963945134], [1.0964164553172742, -0.12836171661007192, -0.981075548374756, 0.35080027938812924], [-0.3602140891605075, -0.894153694415316, -0.0987947943251411, -0.0758137702682344], [0.3228155677404812, -0.2691703402789211, -0.1604918740054901, 0.22556512877301538], [-0.757910320097873, -1.013937196226876, -0.39026030867713446, -0.4734099191723156], [1.4273759899672047, -1.0812573813535278, 1.3695456435846642, 1.9778390654283895], [1.339528706078643, -0.731192418694938, -0.14997959268064368, 1.0864295177573962], [-0.4412515060809638, 0.20386173885731654, 0.7444403433750436, -0.011159851048236573], [1.7031756021754803, -0.6492143410431727, 0.9837198897215493, 1.8780582137187867], [1.1243369098865068, -0.789094410434413, 1.3524006133286648, 1.6744238224746992], [0.81040204265684, -0.9094748399958643, -0.30566147325336995, 0.6745789614662288], [1.0821157346842523, -1.3045083598129468, 1.1464099578441733, 1.6784965102995808], [-0.5290987899695256, 0.2626922848744005, 1.554636882625711, 0.30294619744576873], [-0.10620605125016976, -1.0226258112530744, 0.02922977466673912, 0.20367443171427593], [-0.8137512292363386, -0.09864797972658422, 2.0420813559623427, 0.4271631761046622], [0.6251736611243686, -0.900388273136405, -0.25597842937284554, 0.5625800462819806], [0.827426710077104, -0.23149756673021352, 0.21306955164530417, 0.7621417497011864], [-0.1497891998460454, 0.15736769967132344, -0.02233046230750797, -0.1603220426345308], [-1.2134904202641357, -1.8348455029387678, -0.045857949082164215, -0.42250132136129365], [-0.4616811069852805, 0.1287151676765317, 1.2679269241111488, 0.24745582583175482], [1.1229749364928858, -0.6900044039524249, -0.10442637360630885, 0.9413400139959837], [-1.5383210746427713, -2.969737806093586, -1.4580077403865406, -1.0466407305244223], [-1.242091861530179, -1.129873830316913, 1.5301082262010697, 0.13749325455994743], [-0.16136597369182487, -0.15442756168866723, -0.35972463435258045, -0.2509393467381498], [-0.3513612621019703, 0.3454662661926878, 1.7807760773161587, 0.5193077381426119], [1.4934316995578287, -0.8661644154759592, 1.2139889092181864, 1.8943489650183138], [1.0153790383968178, -0.7134835621148236, 0.8833526323105152, 1.3486087964841589], [1.1903926194771308, -0.6506071724595862, 0.8635795317233038, 1.448898734171872], [0.7640949472737222, -1.055390512191563, -0.1011725722438564, 0.7784325010007135], [-0.17566669432484658, -0.4654932446876794, -0.9370240837753993, -0.46068276971956007], [-1.1610544446097228, -1.207209136580633, 1.3123538273292494, 0.11102078369821607], [-0.5849396991079914, -0.730927117472764, -0.5932474552116699, -0.520754915136566], [-1.0677592671466765, -1.6850829630215463, -0.7839702735338845, -0.713698500840339], [0.6238116877307475, -0.35778094848503633, -0.60488605239275, 0.25101942767852636], [-1.3755652541050483, -1.9312161718934724, 0.22646019571385873, -0.3822835290905864], [-0.10824901134060143, -0.8338639916762751, -0.6560708507482524, -0.1791582238246089], [-0.5597431913260007, -0.13227490963713842, 0.6271783481205064, -0.06614113668414023], [0.2717415654796894, -1.0283297875298152, 0.2428543487323691, 0.5819253134501688], [0.9145930072688553, -0.8737918256134616, 1.3936988613905619, 1.564970337181002], [-0.39017750382017197, 0.5427840501845984, 1.9303257937827247, 0.512689620427179], [-1.0384768391838224, -1.382904870965363, 1.0066216454649648, 0.09727546228924012], [0.7763527078163122, -1.003723099173177, 0.23409411429499724, 0.9367582401929917], [0.42700653235249647, -1.1997143770542176, -0.05812227729448519, 0.5931252049685937], [-0.3159499538678213, -0.9545097224599004, -0.7844708583588772, -0.36039283203184697], [-1.1317720166468688, -1.4195164396253745, 1.567526941869273, 0.310582487117422], [1.9367540391815012, -0.6760097644827464, 1.123007617275765, 2.1214013112554717], [0.7702238275450172, -1.0894153939353781, 0.6096578792457622, 1.1363199436121976], [-0.5726819385654013, -0.39903528853309295, -0.19515737313623394, -0.404683312127436], [-1.4055286687647128, -1.5719319917643364, 0.9260274886411417, -0.15879478470020014], [0.570694725379524, 1.967650589175596, 1.4515164086772174, 0.6043250964870184], [-0.5059452422779667, -0.1466675009400778, 0.7833608135182256, 0.051966810237430605], [1.3150131849934628, -0.45786583455017693, 0.867459064116997, 1.49064378437691], [-1.0350719056997697, -1.1016855754609256, 0.6570882914138195, -0.14352220535689358], [0.8403654573165046, -1.4169960780147217, 1.1117444587134295, 1.516098083282421], [0.15188790684103137, -1.003988400395351, -0.3019070870659249, 0.22505604279490515], [-0.5835777257143702, 0.20412704007949053, 1.3104766342355274, 0.1598930375967971], [-0.7081982912307023, -0.9145818885227137, 0.05563562418510351, -0.24737574489137826], [1.4083083624565091, -0.4441364963026726, 1.2977117211982137, 1.7635138686439875], [-0.05377007559575684, 0.534360736380574, 0.6008976448083901, 0.11356621358876716], [0.7409413995821632, -0.6392655452116478, -0.539559732731204, 0.4409084975136381], [0.11920054539412465, -0.32912841649024466, -0.2542263824853712, 0.04891229436876929], [1.7195192828989336, -0.6982950671453623, 0.4738742454664952, 1.655587641284621], [-0.8450766172896241, -1.0834461164364633, -0.11393748528117001, -0.3843198730030272], [0.7804386279971754, -0.7339117562222214, 0.37901342113038067, 0.9393036700835428], [-0.8021744553905591, -0.6529285581536086, 0.8025081830741958, -0.020832484632330717], [-0.5011783354002928, -1.2087346186081338, -1.441738733574278, -0.7467890894175033], [0.9111880737848025, -1.5226522897455161, 1.0683187251453137, 1.5736247988088758], [-1.5750943562705415, -1.8261568879125694, 1.0696953334140433, -0.14555854926933445], [-0.7449715728584724, -0.7268812738346104, -0.5200369245564891, -0.6016995856560908], [-1.0943177483222881, -0.7758956746312565, 1.0243924067522052, -0.09312269352398185], [-1.200551673024735, -1.3641348094965529, -0.0064368941139900035, -0.5166822273116842], [-2.353462150725008, -3.257722282763461, 0.4118017271674019, -0.6546445273795536], [-1.200551673024735, -1.3085542034511002, 0.5836274683461424, -0.24483031500082716], [0.7021251578639613, -0.5694913237798864, 0.5193023183345818, 0.9077403394407092], [-0.5195649762141779, -0.33204672993415857, -0.5593328333184152, -0.5604636214291632], [1.0276367989394077, -0.8152265808185517, -0.37086264670866775, 0.7753779851320521], [0.9479613554125725, -1.0254777993914448, 0.47600173097271425, 1.1836649395764478], [-0.5032212954907245, -0.0457203859028717, 0.15762978227736388, -0.2758845596655506], [-1.7732614850424135, -2.6247135666563026, -0.38725679972717836, -0.7875159676663209], [-0.4637240670757121, -0.2904607633583845, 1.061310537595416, 0.2545830295252978], [-0.836223790231087, -1.120588287540823, 0.26563095826953653, -0.1842490836057111], [-0.9288379809973226, -1.1010886477110342, 1.025018137783446, 0.1120389556544365], [-0.3411464616498119, -0.05401104909580912, 0.01721573886691457, -0.2239577898983082], [-1.1474347106735117, -1.2414993195466224, 0.6236742543455576, -0.20410343675200965], [-0.6625721825443949, -0.6236790984089254, 0.6693526196261405, 0.0076763301418415536], [0.4263255456556859, -0.5320175261478093, 0.08567071368466489, 0.48825349347788843], [0.7715858009386383, -1.119792383874301, -0.02170473127626701, 0.8390137323958295], [-0.0653468494415363, -1.0165238831430723, -0.20141468344864244, 0.1196752453260898], [1.1474904575780658, -1.0969101534617938, 0.9629456194843526, 1.5822792604367495], [0.6278976079116109, -0.8257059790944246, -0.179263804942716, 0.5819253134501688], [0.20296190910182316, -1.2071428112750897, -0.2249421702232989, 0.3518184513443497], [1.689555868239269, -1.0110852080885053, 1.0105011778586581, 1.9752936355378385], [-1.4184674160041133, -1.935394666142713, -0.09278777642522883, -0.5675908251227062], [-1.327896185328309, -2.0941774476138506, -1.2537691317895234, -1.0232227755313523], [0.1341822527239569, 0.22760619824188932, -2.4108709547601244, -1.1316580888688292], [-0.034702448085061254, -1.114619010041908, -0.3370731710216613, 0.10134815011412189], [0.5945292597678935, -0.730927117472764, 0.3138122476750828, 0.7723234692633908], [0.10285686467067129, 1.066952939894874, 1.2888263405545932, 0.42156323034544974], [1.8332440612662968, -0.5889909636096753, 1.1942158086309749, 2.0582746499698046], [1.3919646817330558, -0.7536103719686408, 0.7828602286932328, 1.5822792604367495], [-0.2512562176708184, 0.21440746243873293, 0.4741245378789916, -0.007596249201465036], [-1.5076766732862963, -1.916160327535098, 0.13935843616513063, -0.5243185169833375], [-0.7538243999170096, -0.561996564253471, 0.7394344951251168, -0.040177751800519065], [-0.6850447435391434, 0.3832053650469389, 2.4414229001002603, 0.5885434311656017], [-0.30641614011247353, -0.46502896754887485, -0.7322848903533893, -0.4555919099384579], [1.6704882407285735, -0.4767685466300743, 0.6915034981320669, 1.6678057047592663], [-0.08169053016498969, -1.245147211351515, -0.054993622138280844, 0.23829227822577087], [-1.052777559816844, -1.1579294345618132, 0.10606954530311678, -0.40824691397420754], [-0.29143443278264125, -0.3087665476883903, 0.6752344913198046, 0.19705631399884307], [0.2070478292826865, -0.7583857939677727, 0.5314415003406545, 0.6048341824651287], [0.576823605650819, -0.5109260789849764, 0.030731529141717243, 0.5651254761725316], [1.6071564779251917, -0.9622034579029464, 0.9464263202595937, 1.8719491819814642], [-0.5120741225492618, -0.10428563069778167, 0.9724567311592138, 0.12832970695396348], [1.3613202803765807, -0.17598328599030455, 0.11382861009050362, 1.0859204317792857], [0.2002379623145809, -0.6435766900719752, 0.25574440797593107, 0.4363267237106462], [0.5822714992253035, -1.2836158885667444, 0.5960169427647115, 1.0441753815742478], [-1.2638834358281168, -1.4173277045424393, 0.6381912142703455, -0.23617585337295344], [0.20432388249544425, -1.235994319186512, 0.25123914455099666, 0.5910888610561529], [1.7985137397289583, -0.6514030761261081, 0.7231654883128545, 1.8210405841704422], [-0.08032855677136858, -0.6866881386752498, 0.1678917711897141, 0.20214717377994526], [-0.09190533061714805, 0.9708475721623436, 1.9428404144075415, 0.6231612776770966], [1.0555572535086406, -0.7696610959101676, 0.13435258791520382, 1.0289028022309412], [-0.8498435241672981, -1.0199064737257908, -0.02445794781372683, -0.36090191800995713], [0.320091620953239, -0.8602614632825878, 0.36837599359928597, 0.6343611691955214], [-0.5781298321398858, -0.6976318140899272, 0.006953749954564347, -0.23312133750429212], [0.5543510446560707, -0.9728818320954499, 0.11357831767800719, 0.7091968079777237], [-0.3105020602933369, -1.009161774227744, -0.29652580019725333, -0.10534075699862712], [-0.12186874527681256, -0.9312295402141322, -0.11231058459994378, 0.09982089217979123], [1.0623671204767462, -0.6894738015080768, 0.9311584830973167, 1.3990083083170706], [1.97148436071884, -0.8810876092232466, 1.0507982562705693, 2.165182705372951], [-0.038107381569114036, 0.41630169251314514, 0.7291725062127665, 0.21792883910136207], [0.8430894041037468, -0.7390188047490709, 0.6493292266264329, 1.1174837624221194], [0.9765627966786159, -1.5219890366900812, 1.3739257608033504, 1.7686047284250896], [-0.17770965441527825, -0.9925141225363256, 0.14361340717756857, 0.19960174388939417], [2.0484358574584327, -0.8000380858490903, 1.0173842192023075, 2.1830007146068082], [-0.7626772269755467, -1.2204741976893332, 0.3576134198619433, -0.060541190924927824], [-0.07624263659050523, -0.8650368852817197, -0.19640883519871563, 0.0748756792523905], [1.1944785396579942, -1.6229361517272873, 0.2159479143890121, 1.3913720186454173], [-0.49232550834175554, -0.9251939374096737, -0.2868895423161441, -0.2539938626068111], [0.81040204265684, -0.15582039310508072, 1.0507982562705693, 1.1363199436121976], [0.3391592484639346, -0.7217079000022175, 0.49477366190994015, 0.673051703531898], [-0.8736780585556676, -0.9009188755807529, 0.538950272715545, -0.1363950016633505], [-1.0384768391838224, -1.2186834144396586, 0.36962745566176786, -0.25501203456303156], [0.09877094448980794, -0.727080249751241, -0.06075034762569669, 0.2311650745322278], [1.04261850626924, -0.8107827853471372, 0.21707423024524566, 1.0706478524359793], [-0.69321658390087, -0.41011161455885736, -0.2668661493164365, -0.5243185169833375], [-1.5825852099354574, -2.391580117670902, 0.06990229169739502, -0.48817341253751195], [-0.8498435241672981, -0.5784452400282588, 1.1560462157252824, 0.09676637631112991], [0.2036428957986337, -0.8543585110892163, -0.1920287179800296, 0.27698281256214746], [0.4058959447513692, -0.4375039657483226, 1.2026006044496025, 0.9907213538726749], [-1.6486409195260814, -1.9570830410554374, 0.4124274581986426, -0.48308255275640977], [-1.3170003981793403, -1.3925220402691705, 0.18753972557067716, -0.4993733040559368], [-1.5982479039621003, -1.9184153879235772, 0.6363140211766228, -0.3476656825790914], [-0.9485865952048289, -1.3023196247300113, -0.029463796063653618, -0.3614110039880674], [0.4746756011292355, -0.784849590879629, -0.1781374890864824, 0.4612719366380469], [-1.7419360969891278, -2.256143843751077, 1.150414636444115, -0.11501339058272128], [1.414437242727804, -0.5610680099758619, 0.4911444219287432, 1.4071536839668342], [-0.40720217124043595, -0.5015742109033431, -0.7506813826718707, -0.527882118830109], [-0.1845195213833838, -0.18075870798943647, -0.43318545742025755, -0.2962479987899593], [-0.12527367876086534, 0.5248762176878536, 1.0630625844828907, 0.28869179005868256], [-1.4811181921106844, -1.9357262926704306, 1.16580761981264, -0.00199630344225262], [-0.6142221270708453, -1.0858338274360293, -0.5917457007366919, -0.4484647062449148], [0.8682859118857373, -0.8643073069207413, 0.6528333204013818, 1.1694105321893618], [-1.0902318281414247, -0.6432450635442578, 1.5423725544133904, 0.1268024490196328], [-0.7081982912307023, -0.4643657144934399, 1.022139775039738, 0.10440266598278321], [-0.8777639787365309, -0.6882799460082939, 0.5204286341908155, -0.20359435077389942], [-0.9417767282367233, -1.1752403393086663, 0.5475853609466688, -0.10941344482350887], [1.3565533734989068, -0.4918243909884486, 1.3073479790793228, 1.7431504295195788], [1.145447497487634, -0.7926759769337619, 0.895616960522836, 1.4692621732962807], [0.9867775971307744, -1.1317972641776743, -0.24559129425424722, 0.888904158250631], [-0.036064421478682364, -1.0429876800549287, -0.5077725963441683, -0.0009781314860321806], [-0.6802778366614692, -1.1529550366460506, -0.22106263782960547, -0.2993025146586206], [-0.716370131592429, -0.5794401196114114, 0.3146882711188202, -0.21479424229232424], [-0.777658934305379, -0.2558389538646778, 2.3618299129264226, 0.649633748538828], [1.1570242713334136, -0.4498404725794135, 0.6206707453956013, 1.2549369765118785], [-1.2148523936577567, -1.3136612519779496, 0.4335771670545838, -0.3262840714984623], [0.16005974720275806, 1.292591629353859, 1.7626298774101739, 0.6338520832174112], [-0.6435045550336992, 0.12672540851022673, 0.8091409320053491, -0.10584984297673734], [-0.8947886461567949, -1.0075036415891565, 0.323323359349944, -0.22853956370130016], [1.3763019877064129, -0.8920976099434675, 0.6613432624262574, 1.548679585881475], [-1.0663972937530553, -1.0178503892539423, 0.0341104767104178, -0.4897006704718427], [0.6374314216669587, -0.5972153014970691, 0.4843865267913418, 0.8512317958704748], [0.6639899028425703, -0.5809656016389119, 0.8410532145986328, 1.0395936077712558], [2.44817504848623, -0.9176328525777148, 1.8592427486337626, 2.9109936633044216], [1.8455018218088868, -0.9490710474053335, 0.658089461063805, 1.9009670827337466], [-1.2877179702164863, -1.9013697843988977, 0.5970181124146967, -0.14708580720366507], [-0.9649302759282823, -0.9566321322372924, 0.8291643250050567, -0.04679586951595191], [-1.2489017284982846, -1.561120966960746, 0.017090592660666464, -0.48868249851562223], [0.2642507118147733, -0.6761424150938335, 0.10769644598434323, 0.41952688643300884], [-0.47121492074062826, 0.07220600735347023, 1.1939655162184788, 0.21894701105758252], [0.8301506568643462, -0.670106812289375, -0.4197948133517031, 0.5717435938879645], [0.767499880757775, -1.047829427359604, 1.3417631857975705, 1.4784257209022649], [-0.4528282799267433, -0.5512518647554241, -0.11231058459994378, -0.23872128326350453], [-0.5365896436344418, -0.47809505274094427, 0.3208204352249806, -0.10839527286728845], [-1.4334491233339455, -2.082172567310477, 0.270261367900719, -0.3639564338786185], [-1.0786550542956455, -0.8737255003079182, 0.7361806937626644, -0.19595806110224614], [0.28127537923503726, 0.6195224286984272, -2.2912311815868716, -1.0685314275831619], [-1.195784766147061, -1.5290858443832358, 0.5799982283649454, -0.18577634154004175], [-0.9165802204547328, -0.7575898903012508, 1.3681690353159346, 0.1975653999769533], [0.6517321422999803, -0.4644320397989834, -0.15748836505553407, 0.5157441362958404], [0.7647759339705327, -1.4579851168406044, -0.08928368265028017, 0.8894132442287414], [-0.76676314715641, -0.7644877220777746, 0.3189432421312579, -0.20104892088334833], [0.05314483580350062, -1.22193335441129, -0.336197147577924, 0.19349271215207153], [-0.9649302759282823, -1.0263400283635102, 0.16200989949604994, -0.3522474563820835], [-0.12527367876086534, 0.3454662661926878, 0.08229176611596412, -0.14097677546634246], [0.5468601909911546, -1.2462747415457542, 0.9754602401091697, 1.1928284871824317], [0.48557138827820434, -0.7536766972741842, 0.8703374268607049, 0.9693397427920457], [0.8424084174069363, -1.3739509547169908, 0.3442227757933887, 1.1337745137216464], [1.3912836950362453, -0.829353870899317, 1.2106099616494856, 1.808822520695797], [-0.9921697438007046, -1.9696848491087022, -0.7903527300525414, -0.5879542642471148], [0.9322986613859298, -0.4823398722957282, -0.0909105833315064, 0.7560327179638637], [-1.92784546521841, -2.9690745530381513, -0.0911608757440026, -0.6658444188979784], [-0.9390527814494811, -1.780923029531903, -1.0771878347733521, -0.7381346277896295], [0.24177815082002493, -0.5294971645371563, 1.6079491664874328, 1.0925385494947186], [0.19206612195285427, -0.24973702575467585, 0.7652146136122402, 0.5747981097566258], [-0.20631109568132164, -0.13001984924865945, -0.00981584168269056, -0.12010425036382347], [1.261215235945429, -0.7949310373222408, 0.4890169364225241, 1.3562450861558122], [-0.0973532241916325, 0.0973432981544565, 0.34534909164962235, 0.07182116338372918], [0.7620519871832905, -0.8205326052620316, 0.09505667915327773, 0.8105049176216572], [0.4610558671930244, -0.5814298787777163, 0.32169645866871777, 0.6409792869109543], [-0.26215200481978734, -0.051424362179612645, 0.2589982093383835, -0.05086855734083366], [0.5645658451082289, -0.6488827145154552, -0.8497971780204231, 0.1654929833560095], [-1.2325580477748312, -1.3071613720346866, 1.679532796461387, 0.2632374911531716], [-0.7640392003691678, -0.44327426733060704, 1.4224824888276415, 0.25254668561285704], [-0.2199308296175328, -0.05102641034635165, -0.24621702528548817, -0.26519375412523594], [-0.3384225148625697, 0.6318589355295181, -1.7806346600943286, -1.2726749048053598], [-0.3806436900648242, 0.26852891176222843, 0.4489701504231089, -0.12723145405736655], [-1.5614746223343303, -2.6107852524921675, -0.5877410221367503, -0.7345710259428581], [0.5788665657412507, -0.47199312463094234, 0.5440812671717199, 0.805414057840555], [-0.4126500648149204, 0.1301743243984887, 1.1990965106746538, 0.24898308376608547], [1.6214571985582136, -1.0133402684769843, 1.1990965106746538, 2.018056857699097], [0.6844195037468871, -0.7225701289742831, -0.1579889498805267, 0.6063614403994593], [0.39636213099602136, -1.2471369705178197, 0.5850040766148724, 0.8950131899879535], [-0.640780608246457, -0.4376366163594096, 1.052675449364292, 0.16091120955301752], [-0.18520050808019434, 0.5179783859113297, 1.0122532247461324, 0.22200152692624384], [1.328632918929674, -0.34597504409829344, 0.844181869754837, 1.460607711668407], [0.954771222380678, -0.8439454381188869, 1.3941994462155543, 1.5863519482616313], [0.12737238575585133, -0.9281785761591311, -0.9026088770571518, -0.10381349906429646], [1.473002098653512, -0.18387599734998095, 0.7159070083504605, 1.460607711668407], [0.5734186721667662, -0.3788723956478692, 0.9045023411664563, 0.9520308195362982], [0.1498449467505997, 0.38970524499020187, -0.0021819231015520585, 0.006149072207510895], [-1.029624012125285, -0.5447519848121612, 1.2701795558236155, 0.01327627590105397], [1.7379059237128187, -0.7457839859145078, 0.8981198846477993, 1.8867126753466608], [0.9554522090774887, -0.7898903141009349, 0.40929880304243826, 1.0950839793852698], [0.11307166512282962, 1.1817620437906717, 0.973958485634192, 0.24643765387553437], [0.557074991443313, -0.6801219334264433, 0.2839023043817698, 0.7178512696055973], [0.7239167321618992, -0.6017254222740271, -0.32042872559065433, 0.5249076839018243], [-0.09667223749482194, -0.10362237764234668, -0.16900181603036576, -0.12468602416681544], [0.5128108561506267, -0.45262613541224045, -0.16499713743042424, 0.4088360808926943], [0.787248494965281, -1.0941908159345102, -0.016698883026340226, 0.8461409360893726], [-1.0943177483222881, -1.7711732096170085, -0.9017328536134146, -0.7676616145200222], [0.8294696701675356, -0.9783205071500167, 0.7614602274247954, 1.2238827318471552], [-0.5481664174802212, -0.3155980541593707, -0.17651058840525616, -0.39959245234633384], [-1.0663972937530553, -0.829619172121491, 1.1959678555184494, 0.024476167419478775], [0.01432859408529886, -0.5720780106960829, 0.4179338912735623, 0.3620001709065541], [-0.20018221541002662, -1.1251647336233244, 0.342220436493418, 0.31414608896419355], [0.06948851652695398, 0.536483146157966, 0.31531400215006095, 0.06367578773396566], [-0.8750400319492887, -1.103609009321687, 0.24310464114486555, -0.22803047772318996], [-0.932923901178186, -1.481066323169742, 0.024599365035556642, -0.2774118175998812], [-0.9819549433485462, -1.5897734989555377, -0.3042848649846402, -0.4438829324419229], [0.6851004904436976, -1.0435182824992766, 0.6197947219518641, 1.068102422545428], [1.0140170650031968, -0.6055059646900065, 0.05976544899129313, 0.9199584029153545], [0.5550320313528813, -1.0800635258537448, -0.5737246470369551, 0.4042543070897024], [0.3459691154320402, -0.5701545768353214, 0.42406605537972264, 0.6043250964870184], [-0.9662922493219034, -0.9501322522940295, 1.5214731379699458, 0.28614636016813144], [-0.759272293491494, -0.28037931691577256, 1.197845048612172, 0.10440266598278321], [1.8087285401811168, -0.6996215732562322, 0.4787549475101741, 1.7222779044170597], [-0.8995555530344688, -1.1763678695029058, 0.49690114741615904, -0.10330441308618625], [0.12124350548455633, -0.724957839973849, 0.047626266985220475, 0.29938259559899716], [-0.07079474301602078, -0.9590198432368584, -0.018075491295070023, 0.1899291103053], [0.11579561191007186, 0.3804860275196555, 1.1630544032751802, 0.5488347248730046], [0.22815841688381377, -0.6965042838956877, 0.35698768883070237, 0.5193077381426119], [-0.8866168057950682, -0.9952334600636091, 0.6404438459828127, -0.07174108244335266], [-1.1773981253331762, -1.0085648464778525, 1.3537772215973949, 0.06774847555884742], [0.24450209760726713, -0.5733381915014094, 0.2603748176071133, 0.4526174750101732], [-0.038107381569114036, 0.4321534405380415, -0.126201813493491, -0.20104892088334833], [-0.31322600708057907, -0.3907446253401555, -0.20128953724239432, -0.22243053196397752], [-0.41333105151173094, -0.18400864796106797, 0.30755493736267436, -0.1022862411299658], [-0.03538343478187181, -0.5387163820077027, -0.22907199502948852, 0.0036036423169597963], [-0.015634820574365653, -1.1351135294548491, 0.6135374116394556, 0.5819253134501688], [1.3327188391105373, -0.5812309028610858, 1.066316385845343, 1.632169686291551], [-1.0078324378273473, -1.540029519797913, -0.3794977349397916, -0.5121004535086922], [0.05042088901625839, -0.9182961056331498, -0.25360065145413024, 0.15276583390325402], [-0.057855995776620185, -1.0922010567682052, -0.2790053313225094, 0.10745718185144452], [-0.26691891169746124, -0.2112683485394462, -0.23094918812321116, -0.24992117478192938], [1.1624721649078982, -0.8755162835575927, 1.0907198960637368, 1.597551839780056], [-0.371790863006287, -0.778349710936366, -0.762570272265447, -0.43624664277026964], [2.3569228311136152, -0.9349437573245681, 1.2808169833547103, 2.5688878860143545], [-0.4010732909691409, 0.5648040516250403, 1.7446088237104367, 0.4088360808926943], [-0.19541530853235273, 0.11412360045696185, -0.00030473000782962504, -0.1710128481748454], [-0.70547434444346, -0.7955279650721323, 0.16826720980845863, -0.2214123600077571], [1.980337187777377, -1.0241512932805747, 0.7435643199313067, 2.059801907904135], [1.04261850626924, -0.7167998273919987, 0.8901105274479163, 1.3725358374553391], [-0.7878737347575374, -1.0772778630209177, 0.3156894407688055, -0.1363950016633505], [-0.10688703794698032, -1.2771160086234816, 0.03360989188542517, 0.2718919527810453], [0.6108729404913469, -1.0785380438262444, -0.06250239451317124, 0.6923969707000863], [-0.1402553860906976, -0.6395971717393654, 0.782234497661992, 0.44447209936040966], [1.3463385730467485, -0.31778678924230624, 0.47975611716015937, 1.2895548230233735], [1.2673441162167238, -1.1963981117770428, 0.4721221985790209, 1.4570441098216356], [0.23020137697424545, -0.55496608186586, -0.9496638506064646, -0.1496312370942162], [0.8403654573165046, -1.1852554604457348, 0.49727658603490354, 1.1577015546928267], [-0.9158992337579221, -1.2214027519669421, 0.1820332924957575, -0.25653929249736224], [1.1018643488917585, -0.9202858647994547, 1.0991046918823644, 1.569552110983994], [-1.4334491233339455, -1.9541647276115233, 0.18816545660191789, -0.4367557287483798], [1.7460777640745455, -0.6592957874857845, 0.9432976651033896, 1.8923126211058732], [0.9248078077210137, -0.43757029105386613, 0.6827432636946948, 1.1139201605753477], [0.2642507118147733, -0.6094191577170731, 0.6859970650571473, 0.682215251137882], [-1.1508396441575643, -1.1367053367878932, 0.9178929852350107, -0.09159543558965119], [-1.1494776707639431, -1.38038450935471, 0.6345619742891485, -0.16388564448130233], [-0.13616946590983425, -0.7843853137408245, 0.09067656193459167, 0.1497113180345927], [-1.3292581587219303, -1.7547245338422208, 0.9247760265786602, -0.05595941712193586], [0.5264305900868378, -0.6464950035158892, 0.43044851189837946, 0.7575599758981945], [0.9500043155030042, -0.6758771138716594, 1.197094171374683, 1.4432987884126596], [1.5833219435368224, -0.41031059047548785, 0.6724812747823447, 1.5782065726118677], [2.1124486069586252, -0.8851334528614001, 1.436123425308692, 2.454852626917665], [-0.7871927480607268, -1.1853881110568218, -0.6155234799238446, -0.5589363634948324], [-1.3694363738337532, -2.2903013761059783, -0.26248603209775045, -0.5217730870927865], [-1.5158485136480229, -2.095636604335808, 0.5166742480033701, -0.30032068661484107], [-0.043555275143598485, -0.571547408251735, 0.31256078561260114, 0.26883743691238393], [-1.5492168617917401, -1.9426241244469544, 0.47312336822900636, -0.3858471309373579], [-0.6584862623635315, -0.6437756659886057, 0.1349783189464448, -0.24330305706649652], [-0.5999214064378235, -0.36249004517862476, 0.8648309937857858, 0.07996653903349266], [-1.0854649212637508, -1.4029351132394998, 0.4090485106299421, -0.2214123600077571], [0.947280368715762, -1.1053997925713615, -0.8959761281259988, 0.5386530053108003], [-0.16068498699501432, -0.9884682788981721, -0.42117142162043303, -0.06308662081547892], [1.5043274867067977, -0.342327152293401, 0.42381576296722645, 1.3827175570175436], [2.1294732743788893, -0.5700882515297779, 1.3601596781160514, 2.34845365749263], [-1.3258532252378776, -1.3401913741953495, 1.4742930182143845, 0.10440266598278321], [0.6939533175022347, -0.21299280648357719, 1.1763199011374863, 1.1276654819843237], [0.10081390458023962, 0.8537170825725237, 0.08003913440349715, -0.1104316167797293], [-1.080698014386077, -1.5347898206599766, 0.36950230945551954, -0.20308526479578923], [1.7998757131225793, -1.130935035205609, 0.389400556248979, 1.7848954797246168], [-0.7047933577466494, -0.7562633841903807, -0.056745669025755174, -0.34053847888554833], [1.8427778750216446, -1.0321103299457948, 1.264047391717455, 2.214564045249642], [0.5223446699059745, -0.7704569995766896, 0.20118066205172794, 0.6755971334224492], [1.0262748255457868, 1.0028163694343102, -0.20454333860484677, 0.3818545240528527], [-0.14297933287793982, 0.21102487185601446, 0.21632335300775662, -0.05341398723138476], [0.9731578631945632, -0.8117113396247462, 0.10431749841564246, 0.9657761409452742], [-0.514798069336504, -0.40082607178276747, -0.2161819357859268, -0.3726108955064922], [-1.6860951878506623, -2.5691992859163935, 0.056761940041337104, -0.5233003450271171], [-0.44057051938415326, -0.7042643446442772, -0.6524416107670554, -0.45151922211357615], [1.33612377259459, -0.5673025886969509, 1.3980789786092478, 1.7920226834181596], [1.2285278744985222, -0.7362331419162439, 0.24122744805114288, 1.1969011750073135], [-0.21039701586218498, 0.6845875534366002, 1.9624883687885046, 0.6211249337646557], [0.015009580782109419, -0.9024443576082534, 0.33145786275607514, 0.4062906510021433], [-0.48551564137365, 0.03877805335954653, 0.5946403344959816, -0.07275925439957309], [1.645291732946583, -0.8938220678875985, 1.0208883129772566, 1.917766920011384], [-1.9203546115534937, -1.6990112771856813, 1.83408836117788, -0.057486675056266506], [-0.015634820574365653, 0.7286275563174838, 0.9843456207527901, 0.2764737265840373], [-0.8709541117684253, -0.9123268281342348, 0.3390917813372136, -0.22803047772318996], [-1.2059995665992194, -1.2467390186845586, 1.0390345128832414, -0.04425043962540081], [-1.2448158083174212, -1.823968152829634, 0.9697035146217539, 0.04483960654388756], [-0.5481664174802212, -0.03729707209884728, 1.5312345420573032, 0.3553820531911213], [-1.1201952428010893, -1.0851705743805942, 0.9087573121788941, -0.08701366178665923], [-1.0949987350190988, -1.4431282483988606, 0.04149410287905988, -0.3965379364776725], [-0.06602783613834687, -1.1190628055133225, -0.6495632480233475, -0.07174108244335266], [0.6851004904436976, -1.1742454597255139, 0.9309081906848206, 1.2529006325994376], [0.8424084174069363, -0.6876166929528589, 0.6132871192269592, 1.0859204317792857], [0.5495841377783968, -0.288139377664362, 1.5130883421513182, 1.2060647226132974], [0.6762476633851604, -0.5405071652573772, 1.0188859736772855, 1.1235927941594421], [0.018414514266162203, -0.7991758568770247, 0.5388251265092966, 0.4826535477186761], [-0.5474854307834106, -0.3335058866561156, 1.16443101154391, 0.2550921155034081], [0.43517837271422316, 1.5664488159429681, 0.6818672402509575, 0.23778319224766065], [0.8342365770452096, -0.36746444309438725, 0.2859046436817405, 0.8374864744614989], [-0.586982659198423, -0.6254035563530564, -0.4614685000323445, -0.4856279826469609], [1.7297340833510921, -0.8701439338085691, 0.830916371892531, 1.8806036436093378], [-1.4824801655043056, -1.7358218217623234, 0.2967923636253315, -0.47646443504097696], [0.4522030401344871, -1.0645434043565658, -0.3082895435845817, 0.4546538189226141], [1.1413615773067707, -1.1053334672658182, 0.7060204580568549, 1.4555168518873047], [-1.5444499549140662, -2.0418467815400296, 0.5612262974277195, -0.3135569220457068], [-0.029254554510576795, 0.2473711392938521, 0.011959598204491355, -0.07988645809311616], [-0.07556164989369467, 0.6642920099402894, 0.8489374255922676, 0.18432916454608764], [-1.3701173605305637, -1.6783177818561095, 0.43557950635455456, -0.34257482279798923], [-1.1542445776416173, -2.104457869973093, -0.8367819725706132, -0.6923168897597098], [-0.3009682465379891, 0.86691581837568, 1.931577255845206, 0.4933443532589907], [-0.44193249277777436, -1.345563723944373, -0.3891339928209009, -0.1577766127439797], [-2.1716387026765895, -3.509559467912128, 0.37726137424290634, -0.4739190051504258], [-1.4429829370892933, -1.5192696991627979, 1.5053292773639313, 0.08200288294593354], [1.6255431187390768, -0.41316257861385836, 0.7784801114745467, 1.6606785010657232], [-1.2257481808067257, -2.1337073297177764, -1.043523505292594, -0.8368973075430122], [-0.40379723775638315, -0.178835274128675, 0.38089061422410336, -0.06105027690303804], [0.6190447808530736, -0.9425711674620706, 0.5216800962532971, 0.9464308737770857], [-1.469541418264905, -2.294081918521958, 0.3567373964182059, -0.2926843969431878], [-2.5461813859223956, -3.4336169930648213, 0.5766192807962448, -0.6678807628104193], [1.8938518772824364, -0.8353894737037756, 0.6002719137771494, 1.8780582137187867], [-1.6935860415155783, -3.0359304610259987, -1.3780393145939585, -1.1026401881165466], [-0.9894457970134624, -0.6486174132932812, 1.4740427258018882, 0.1680384132465606], [0.1437160664793047, 0.38579205196313543, -0.3032836953346547, -0.14352220535689358], [-0.5338656968471995, 0.047201367163570956, 0.9019994170414926, 0.03873057480656492], [-1.0997656418967725, -1.4132818609042859, 0.694632153288271, -0.09057726363343076], [-0.5427185239057368, -0.6307095807965364, -0.4891258116131906, -0.4652645435225521], [-1.1780791120299867, -1.5672228950707479, 0.37213037978673125, -0.2636664961909053], [1.227165901104901, -0.2963637155517559, 0.8984953232665439, 1.400026480273291], [0.44471218646957095, -0.8045482066260483, -0.3137959766595011, 0.3793090941623016], [0.9554522090774887, -0.8688837530032427, 0.2761432395943829, 1.0507934992896806], [-0.7735730141245156, -0.7692631440769067, 0.2537420686759603, -0.23617585337295344], [-0.3683859295222342, -0.6074957238563116, -0.8966018591572396, -0.5426456121953054], [2.1628416225226066, -0.4228460732232092, 2.1284322382735814, 2.7063411001041136], [1.4157992161214255, -0.36839299737199627, 0.6311830267204479, 1.425989865156912], [-0.9758260630772512, -1.9733990662191383, -1.3466276168256672, -0.8450426831927756], [1.1924355795675625, -0.10906105269691363, 0.9599421105343965, 1.3562450861558122], [-1.211447460173704, -1.504014878887793, 0.40754675615496394, -0.28708445118397535], [-0.9404147548431022, -0.6628110286795901, 1.7571234443352541, 0.34418216167269644], [-1.16990727166826, -1.7042509763236176, 0.608781855802025, -0.107377100911068], [-0.8314568833534132, -0.448978243607348, 0.3781373976866435, -0.3013388585710615], [-0.5542952977515162, -0.09407153364408277, 1.089718726413751, 0.15174766194703357], [1.897256810766489, -0.5909143974704367, 0.46186020966667063, 1.7502776332131218], [-0.728627892135019, -0.44891191830180455, 0.4499713200730944, -0.19188537327736438], [-1.4382160302116196, -1.8428045396039878, 0.6940064222570304, -0.2239577898983082], [-0.27509075205918787, -0.3386792604885085, -0.5829854662993198, -0.3934834206090112], [1.1168460562215907, -1.1260269625953898, -0.12782871417471722, 1.0390845217931457], [-0.2662379250006507, -0.018527010630036946, 0.5185514410970928, 0.06367578773396566], [0.893482419667728, -0.3480311285701419, 0.49977951015986694, 0.9790123763761398], [1.5615303692388847, -1.0297226189462287, -0.013445081663887548, 1.390862932667307], [1.5390578082441362, 0.5340954351584, 0.630557295689207, 1.2798821894392793], [1.0514713333277772, -0.9584892407925104, 0.4532251214355469, 1.229991763584478], [-0.24376536400590226, 0.2298612586303683, -0.037598299469784977, -0.25450294858492134], [1.1767728855409196, -0.9588208673202279, 1.6935491715611828, 1.9218396078362658], [-1.6248063851377121, -2.371284574174591, -0.43568838154522094, -0.769188872454353], [-1.159011484519291, -1.4087054148217841, 0.5432052437279826, -0.2081761245768914], [0.30034300674573283, -0.6295820506022969, 0.5258099210594868, 0.635888427129852], [0.6714807565074865, -0.6673874747620915, 0.13297597964647404, 0.72396030134292], [0.2499499911817516, -1.063216898245696, -0.018450929913814557, 0.44854478718529145], [-0.4596381468948489, -0.7943341095723494, -0.9282638493380271, -0.5757362007724696], [-0.5413565505121157, -0.38371414295254463, 0.45209880557931326, -0.07225016842146288], [-0.9213471273324066, -0.6675201253731785, 0.679364316125994, -0.1633765585031921], [-1.6254873718345226, -2.042443709289921, 0.34197014408092175, -0.4785007789534178], [1.9530977199049546, -0.5164310793450869, 0.9782134566466297, 2.0211113735677584], [-0.4364845992032899, -0.10362237764234668, 0.8911116970979016, 0.14360228629727007], [-1.0555015066040865, -1.3911955341583004, -0.22218895368583907, -0.509045937640031], [0.9506853021998147, -0.9289744798256532, 1.2924555805357902, 1.5563158755531283], [0.8315126302579674, -0.8724653195025917, 0.20506019444542112, 0.9281037785651178], [0.970433916407321, -0.7256874183348275, -0.3956415955458059, 0.6990150884155193], [-0.4446564395650166, -0.0684036403987485, 0.8294146174175528, 0.09829363424546057], [-1.056182493300897, -1.5584679547390061, 0.2620017182883395, -0.23108499359185128], [-0.5774488454430752, -0.5273084294542209, 0.6404438459828127, 0.030076113178691192], [-0.545442470692979, 0.015497871113778244, 2.0587258013933494, 0.5997433226840265], [-0.6625721825443949, -0.5243237907047634, 0.9330356761910394, 0.10949352576388541], [0.05314483580350062, -0.9979527975908926, -0.21981117576712378, 0.19145636823963066], [0.8750957788538429, -0.8583380294218264, 1.088967849176262, 1.3842448149518742], [0.4263255456556859, -1.064410753745479, 0.1404847520213642, 0.6537064363637098], [-1.453878724238262, -1.4562606588964735, 1.0790812988826568, -0.14912215111610597], [1.2782399033656928, -1.065206657412001, 1.4908123174391434, 1.9248941237049273], [0.5843144593157351, 1.2500107831949325, 0.22796195018883664, 0.20774711953915767], [-0.8729970718588571, -0.6391328946005609, 0.8579479524421358, -0.049341299406503], [-1.8481700216915748, -1.9896487660772955, 1.463029859652049, -0.10941344482350887], [-0.6673390894220688, -0.32368974143567764, 0.14611633130253196, -0.3273022434546827], [-0.43035571893199487, -1.0098250272831788, 0.7700953156559192, 0.32483689450450814], [1.388559748249003, -0.7216415746966741, 0.8605760227733475, 1.609260817276591], [-1.2230242340194835, -2.0829021456714556, -0.055744499375769904, -0.3695563796378309], [1.5765120765687166, -0.8588023065606308, 0.011709305791994926, 1.3694813215866777], [-1.4198293893977343, -1.7731629687833135, 1.2411456359740396, 0.03618514491601383], [0.6694377964170548, -0.8865926095833571, 0.46924383583531293, 0.942358185952204], [0.5223446699059745, -0.7871709765736514, -0.3248088428093404, 0.42512683219222136], [0.4964671754271733, -1.0571812954412376, 0.24297949493861742, 0.751960030138982], [-0.8219230695980654, -0.2855526907481655, 0.8481865483547785, -0.10890435884539866], [-0.3207168607454952, 0.6671439980786598, 1.2905783874420675, 0.21996518301380297], [-0.879125952130152, -1.1387614212597417, 0.21582276818276397, -0.23464859543862276], [-0.6135411403740347, -1.397098486351672, -1.3368662127383097, -0.7284619942055354], [-1.4960998994405168, -3.042894618108066, -2.0257960781344986, -1.2721658188272496], [-0.8825308856142049, -1.1619752781999666, 0.41155143475490547, -0.13588591568524028], [0.02658635462788889, 1.088972941335316, 1.1686859825563478, 0.30243711146765845], [-1.056182493300897, -1.395108727185367, -0.10555268946254244, -0.4520283080916864], [1.0773488278065784, -0.25013497758793685, 1.194966685868464, 1.4239535212444714], [0.5305165102677012, -0.5086710185964975, 0.6454496942327395, 0.8293410988117355], [1.4226090830895308, -1.0998284669057075, 0.8481865483547785, 1.7263505922419415], [2.5149117447736646, -0.25484407428152533, 0.40003798378007355, 2.0796562610504337], [0.6898673973213714, -0.5163647540395434, -0.7397936627282797, 0.27443738267159645], [-1.403485708674281, -1.4151389694595038, 1.2272544070804925, -0.051377643318943886], [1.9878280414422933, -0.7938035071280014, 0.5510894547216176, 1.9116578882740611], [0.8498992710718524, -1.0784053932151572, 0.5181760024783483, 1.1465016631744018]]\n"
          ]
        }
      ]
    },
    {
      "cell_type": "markdown",
      "metadata": {
        "id": "7ujUWHnegA6t"
      },
      "source": [
        "### Function for Naive Bayes (good one)"
      ]
    },
    {
      "cell_type": "code",
      "metadata": {
        "id": "1zIBJq0WgGGb",
        "colab": {
          "base_uri": "https://localhost:8080/"
        },
        "outputId": "15e57be0-f642-480e-9761-826f1f8c5a9f"
      },
      "source": [
        "def fit_NBayes(X, Y, feat_matrix, bw):\n",
        "    \n",
        "    classes = np.zeros(feat_matrix.shape[0]) #make a matrix with zeros with shape of our dataset rows\n",
        "    #X_0, X_1 = sep_class(X, Y)  #aqui chamamos a nossa funcao que separa as classes        \n",
        "\n",
        "\n",
        "    X_0 = X[Y==0,:] #subset data based on classes, we get all features and class label 0\n",
        "    X_1 = X[Y==1,:] #all features for class label 1\n",
        "\n",
        "\n",
        "    # probabilities in ln to be able to sum later with score_samples, which are also in ln. Easier then multiplying probabilities without log  \n",
        "    log_prob_r0, log_prob_r1 = log_prob_classe(Y_r) #aqui chamamos a funcao que da o log da probabilidade de classe\n",
        "\n",
        "\n",
        "    for feature in range(0, X_0.shape[1]):        #for feature 1 to 4\n",
        "        kde0 = KernelDensity(bandwidth=bw)  #should we use gaussian or other fit here? #kernel{‘gaussian’, ‘tophat’, ‘epanechnikov’, ‘exponential’, ‘linear’, ‘cosine’}, default=’gaussian’\n",
        "        kde0.fit(X_0[:,[feature]])\n",
        "        log_prob_r0 += kde0.score_samples(feat_matrix[:, [feature]]) ####WORKING\n",
        "\n",
        "    for feature in range(0, X_1.shape[1]):        \n",
        "        kde1 = KernelDensity(bandwidth=bw)\n",
        "        kde1.fit(X_1[:,[feature]])\n",
        "        log_prob_r1 += kde1.score_samples(feat_matrix[:, [feature]])  ####WORKING\n",
        "\n",
        "    for ix in range(0, np.shape(classes)[0]):\n",
        "      if log_prob_r1[ix] > log_prob_r0[ix]:\n",
        "        classes[ix] = 1\n",
        "    \n",
        "    return classes\n",
        "\n",
        "a = fit_NBayes(X_r, Y_r, X_t,  0.02)\n",
        "print(a)"
      ],
      "execution_count": 7,
      "outputs": [
        {
          "output_type": "stream",
          "name": "stdout",
          "text": [
            "[0. 0. 1. ... 0. 0. 1.]\n"
          ]
        }
      ]
    },
    {
      "cell_type": "markdown",
      "metadata": {
        "id": "SgCiZ0eNMExg"
      },
      "source": [
        "Função para definir a melhor bandwidth"
      ]
    },
    {
      "cell_type": "code",
      "metadata": {
        "colab": {
          "base_uri": "https://localhost:8080/"
        },
        "id": "peJuEnKlgpcl",
        "outputId": "c6c146fc-b8a0-4660-9e20-2078e1bf33d9"
      },
      "source": [
        "bandwidth_range = np.arange(0.02,0.61,0.02) # To optimize the gamma parameter of the SVM try values from 0.2 to 6 with a step of 0.2\n",
        "\n",
        "train_err=[]\n",
        "valid_err=[]\n",
        "folds = 5\n",
        "kf = StratifiedKFold(n_splits=folds)\n",
        "\n",
        "for bw in bandwidth_range:\n",
        "  tr_err = va_err = 0\n",
        "\n",
        "  for tr_ix,va_ix in kf.split(Y_r,Y_r):\n",
        "\n",
        "    x_t = X_r[tr_ix]\n",
        "    y_t = Y_r[tr_ix]\n",
        "    x_v = X_r[va_ix]\n",
        "    y_v = Y_r[va_ix]\n",
        "\n",
        "    c_t = fit_NBayes(x_t, y_t, x_t, bw)  ##X, Y, bw, feat_matrix\n",
        "    \n",
        "    c_v = fit_NBayes(x_t, y_t, x_v, bw)\n",
        "\n",
        "    nb_t_error = 1-metrics.accuracy_score(y_t, c_t) #calculate error with training set for that fold\n",
        "    tr_err += nb_t_error\n",
        "\n",
        "\n",
        "    nb_v_error = 1-metrics.accuracy_score(y_v, c_v) #calculate validation error for that fold with a validation dataset\n",
        "    va_err += nb_v_error\n",
        "\n",
        "\n",
        "    #r,v = calc_fold(feats,X_r,Y_r,tr_ix,va_ix)\n",
        "    #tr_err += r\n",
        "    #va_err += v\n",
        "\n",
        "  train_err.append(tr_err/folds)\n",
        "  valid_err.append(va_err/folds)\n",
        "  print(str(np.round(bw,2)),':', tr_err/folds,va_err/folds)"
      ],
      "execution_count": 16,
      "outputs": [
        {
          "output_type": "stream",
          "name": "stdout",
          "text": [
            "0.02 : 0.03932580875155589 0.06179277108433734\n",
            "0.04 : 0.050761924327198484 0.06099277108433734\n",
            "0.06 : 0.0545737614449775 0.061799196787148604\n",
            "0.08 : 0.05537657148151283 0.0609991967871486\n",
            "0.1 : 0.05597898112006703 0.06019598393574297\n",
            "0.12 : 0.056781791156602354 0.06260562248995985\n",
            "0.14 : 0.05718279335999967 0.06340883534136547\n",
            "0.16 : 0.05858740881278372 0.06260883534136548\n",
            "0.18 : 0.05939001744188388 0.06260883534136548\n",
            "0.2 : 0.06039322787640029 0.06340883534136546\n",
            "0.22 : 0.06119563509806527 0.06340883534136547\n",
            "0.24 : 0.06179764192174919 0.06340883534136547\n",
            "0.26 : 0.06239964874543311 0.06340883534136547\n",
            "0.28 : 0.06340306058738465 0.06340883534136547\n",
            "0.3 : 0.06320245878196842 0.06260562248995986\n",
            "0.32 : 0.06280105376370075 0.0609991967871486\n",
            "0.34 : 0.0628008523562656 0.0609991967871486\n",
            "0.36 : 0.06320225737453325 0.06180240963855423\n",
            "0.38 : 0.0634028591799495 0.06260562248995986\n",
            "0.4 : 0.06380386138334684 0.0642088353413655\n",
            "0.42 : 0.06360325957793059 0.06500883534136548\n",
            "0.44 : 0.06440627102190104 0.06581204819277109\n",
            "0.46 : 0.06440627102190107 0.06581204819277109\n",
            "0.48 : 0.06480747463273358 0.0666152610441767\n",
            "0.5 : 0.06500787503071466 0.06581204819277106\n",
            "0.52 : 0.06520867824356606 0.06741847389558234\n",
            "0.54 : 0.06561008326183371 0.06581204819277106\n",
            "0.56 : 0.06621209008551761 0.06661526104417667\n",
            "0.58 : 0.06621229149295275 0.06661526104417667\n",
            "0.6 : 0.06681409690920151 0.06661526104417667\n"
          ]
        }
      ]
    },
    {
      "cell_type": "markdown",
      "metadata": {
        "id": "eIGY6wZ0MLs4"
      },
      "source": [
        "Plot do gráfico para comparar o erro de teste e treino para diferentes bandwidh"
      ]
    },
    {
      "cell_type": "code",
      "metadata": {
        "id": "rAZaVfbKMK1e",
        "colab": {
          "base_uri": "https://localhost:8080/",
          "height": 295
        },
        "outputId": "e4e18823-4b78-4d10-a090-b9fc562aa37c"
      },
      "source": [
        "#PLOT DO ERRO DE TREINO E TESTE    \n",
        "plt.plot(bandwidth_range, train_err,'b',label = 'Training Error') #o \"b\" é a cor\n",
        "plt.plot(bandwidth_range,valid_err,'r',label = 'Validation Error')\n",
        "plt.title('Training Error and Validation Error Using Naive Bayes Classifier with Kernel Density Estimation for Different Bandwidths') \n",
        "plt.xlabel('Bandwidth')\n",
        "plt.ylabel('Error')\n",
        "plt.legend(loc='upper right',frameon=False)\n",
        "plt.show()\n",
        "#plt.savefig('NB.png', dpi=300)\n",
        "plt.close()\n",
        "    "
      ],
      "execution_count": 17,
      "outputs": [
        {
          "output_type": "display_data",
          "data": {
            "image/png": "[encoded data removed]",
            "text/plain": [
              "<Figure size 432x288 with 1 Axes>"
            ]
          },
          "metadata": {
            "needs_background": "light"
          }
        }
      ]
    },
    {
      "cell_type": "markdown",
      "metadata": {
        "id": "BKOiYEF_vqMp"
      },
      "source": [
        "Show best bandwidth"
      ]
    },
    {
      "cell_type": "code",
      "metadata": {
        "colab": {
          "base_uri": "https://localhost:8080/"
        },
        "id": "_YXZ4O0Vvqmf",
        "outputId": "6e3979d4-7186-4445-e792-ab6f68555af2"
      },
      "source": [
        "print(\"smallest validation error is: \"+ str(np.min(valid_err)))\n",
        "\n",
        "#which corresponds to bandwidth: \n",
        "best_bw = bandwidth_range[np.argmin(valid_err)]\n",
        "print(\"best bandwith is: \", best_bw)\n"
      ],
      "execution_count": 20,
      "outputs": [
        {
          "output_type": "stream",
          "name": "stdout",
          "text": [
            "smallest validation error is: 0.06019598393574297\n",
            "best bandwith is:  0.1\n"
          ]
        }
      ]
    },
    {
      "cell_type": "markdown",
      "metadata": {
        "id": "DsUlTQpqwHIo"
      },
      "source": [
        "Calculate True error with a test dataset"
      ]
    },
    {
      "cell_type": "code",
      "metadata": {
        "colab": {
          "base_uri": "https://localhost:8080/"
        },
        "id": "h5yfrb7ExIkI",
        "outputId": "271526d3-d238-4e1b-80fe-b46d64e0fe61"
      },
      "source": [
        "bayes_full_training = fit_NBayes(X_r, Y_r, X_t, bw=best_bw)  ##X, Y, feat_matrix, best_bw\n",
        "bayes_true_error= 1-metrics.accuracy_score(Y_t, bayes_full_training)\n",
        "print ('Bayes true error is: ', np.round(bayes_true_error,6))"
      ],
      "execution_count": 24,
      "outputs": [
        {
          "output_type": "stream",
          "name": "stdout",
          "text": [
            "Bayes true error is:  0.106656\n"
          ]
        }
      ]
    },
    {
      "cell_type": "markdown",
      "metadata": {
        "id": "UkCvzy4ZSHek"
      },
      "source": [
        "## Gaussian Bayes"
      ]
    },
    {
      "cell_type": "code",
      "metadata": {
        "id": "kSYl8pAqSLIA"
      },
      "source": [
        "NB_gaussian = GaussianNB() #criar o modelo do Naive Bayes usando Gaussiana\n",
        "NB_gaussian.fit(X_r, Y_r) #usar os nossos dados de treino para fazer fit ao modelo\n",
        "NB_gaussian_score = NB_gaussian.score(X_r, Y_r) #TODO confirmar q isto está bem!!! #aqui temos o score de avaliacao deste modelo\n",
        "\n",
        "NB_gaussian_probs = NB_gaussian.predict_proba(X_t) #aqui podemos ver as probabilidades de ser classe 0 ou classe 1, sendo que a classe prevista é a q aumenta esta probabilidade\n",
        "NB_gaussian_predict = NB_gaussian.predict(X_t) #aqui temos as previsoes do nosso modelo para o X de teste, podemos comparar estes resultados com o Y_t "
      ],
      "execution_count": 10,
      "outputs": []
    },
    {
      "cell_type": "markdown",
      "metadata": {
        "id": "qPjAP4t5PtqO"
      },
      "source": [
        "# SVM classifier"
      ]
    },
    {
      "cell_type": "markdown",
      "metadata": {
        "id": "x7md0yEh7QPn"
      },
      "source": [
        "Notes: use a Support Vector Machine with a Gaussian radial basis function, available in the sklearn.svm.SVC class. Use a regularization factor C = 1 and optimize the gamma parameter with cross-validation on the training set. The SVM classifier you will use has two adjustable parameters, gamma and C. In this assignment we fixed parameter C at a value of 1 but you can try to improve the performance of this classifier by adjusting simultaneously these two parameters. This is an optional exercise, worth only 1/20 of the assignment grade: optimize both parameters, compare the optimized SVM with the previous classifiers and discuss whether this additional optimization was useful in this case. Use 5 folds for cross validation"
      ]
    },
    {
      "cell_type": "markdown",
      "metadata": {
        "id": "tulcxKHsGeFB"
      },
      "source": [
        "##### Make a function to caculate best gamma"
      ]
    },
    {
      "cell_type": "code",
      "metadata": {
        "id": "cLkq7zviP1EO",
        "colab": {
          "base_uri": "https://localhost:8080/"
        },
        "outputId": "a5f50f4c-f3e7-44ef-a4f0-43600dacabd5"
      },
      "source": [
        "from sklearn.svm import SVC\n",
        "\n",
        "gamma_range = np.arange(0.2,6.2,0.2) # To optimize the gamma parameter of the SVM try values from 0.2 to 6 with a step of 0.2\n",
        "#c_range = np.arrange(0.1, 10.0, 0.1)\n",
        "\n",
        "train_err=[]\n",
        "valid_err=[]\n",
        "folds = 5\n",
        "kf = StratifiedKFold(n_splits=folds)\n",
        "\n",
        "for gamma in gamma_range:\n",
        "  tr_err = va_err = 0\n",
        "\n",
        "  for tr_ix,va_ix in kf.split(Y_r,Y_r):\n",
        "\n",
        "    x_t = X_r[tr_ix]\n",
        "    y_t = Y_r[tr_ix]\n",
        "    x_v = X_r[va_ix]\n",
        "    y_v = Y_r[va_ix]\n",
        "\n",
        "    svm = SVC(C=1, gamma = gamma) \n",
        "    svm.fit(x_t,y_t) #re-fit all training data with training dataset\n",
        "\n",
        "\n",
        "    svm_t_error = 1-svm.score(x_t,y_t) #calculate error with training set for that fold\n",
        "    tr_err += svm_t_error\n",
        "\n",
        "\n",
        "    svm_v_error = 1-svm.score(x_v,y_v) #calculate validation error for that fold with a validation dataset\n",
        "    va_err += svm_v_error\n",
        "\n",
        "\n",
        "    #r,v = calc_fold(feats,X_r,Y_r,tr_ix,va_ix)\n",
        "    #tr_err += r\n",
        "    #va_err += v\n",
        "\n",
        "  train_err.append(tr_err/folds)\n",
        "  valid_err.append(va_err/folds)\n",
        "  print(str(np.round(gamma,2)),':', tr_err/folds,va_err/folds)"
      ],
      "execution_count": 11,
      "outputs": [
        {
          "output_type": "stream",
          "name": "stdout",
          "text": [
            "0.2 : 0.03390835156070622 0.034512449799196786\n",
            "0.4 : 0.03049751664632454 0.03210281124497991\n",
            "0.6 : 0.029695109424659517 0.032902811244979915\n",
            "0.8 : 0.02869189899014315 0.033706024096385546\n",
            "1.0 : 0.028290292564440312 0.032902811244979915\n",
            "1.2 : 0.026083269889991233 0.032902811244979915\n",
            "1.4 : 0.025882668084575 0.03129638554216867\n",
            "1.6 : 0.02508026086291002 0.03049317269076306\n",
            "1.8 : 0.02427745082637469 0.032099598393574305\n",
            "2.0 : 0.023675645410125967 0.031296385542168695\n",
            "2.2 : 0.023274441799293454 0.031296385542168695\n",
            "2.4 : 0.02207062955936081 0.032099598393574305\n",
            "2.6 : 0.021870027753944577 0.03129638554216867\n",
            "2.8 : 0.02166942594852832 0.03129638554216867\n",
            "3.0 : 0.021468824143112065 0.03049317269076306\n",
            "3.2 : 0.02126822233769581 0.029693172690763058\n",
            "3.4 : 0.020465613708595676 0.030496385542168693\n",
            "3.6 : 0.02006441009776321 0.031296385542168695\n",
            "3.8 : 0.02006441009776321 0.0328995983935743\n",
            "4.0 : 0.019863808292346952 0.03370281124497994\n",
            "4.2 : 0.019663206486930696 0.03370281124497994\n",
            "4.4 : 0.019663206486930696 0.03370281124497994\n",
            "4.6 : 0.01946260468151444 0.03370281124497994\n",
            "4.8 : 0.019061401070681928 0.03370281124497994\n",
            "5.0 : 0.018860597857830518 0.03370281124497994\n",
            "5.2 : 0.018459394246998006 0.03370281124497994\n",
            "5.4 : 0.018258792441581774 0.03450602409638555\n",
            "5.6 : 0.018058190636165518 0.03450602409638555\n",
            "5.8 : 0.01725538059963021 0.03450602409638555\n",
            "6.0 : 0.01725538059963021 0.03450602409638555\n"
          ]
        }
      ]
    },
    {
      "cell_type": "markdown",
      "metadata": {
        "id": "NGP3_cejvYWJ"
      },
      "source": [
        "##### Best gamma"
      ]
    },
    {
      "cell_type": "code",
      "metadata": {
        "colab": {
          "base_uri": "https://localhost:8080/"
        },
        "id": "R7VnjViYvZBR",
        "outputId": "d0e7d8c6-9086-4373-eb59-c89b7c01e968"
      },
      "source": [
        "print(\"smallest validation error is: \"+ str(np.min(valid_err)))\n",
        "\n",
        "#which corresponds to gamma: \n",
        "print(\"best gamma is: \", np.round(gamma_range[np.argmin(valid_err)]),5)\n",
        "\n",
        "\n",
        "best_gamma = gamma_range[np.argmin(valid_err)]"
      ],
      "execution_count": 15,
      "outputs": [
        {
          "output_type": "stream",
          "name": "stdout",
          "text": [
            "smallest validation error is: 0.029693172690763058\n",
            "best gamma is:  3.0 5\n"
          ]
        }
      ]
    },
    {
      "cell_type": "markdown",
      "metadata": {
        "id": "7il7xmv3DVqK"
      },
      "source": [
        "##### Now plot training and validation errors for different gamma"
      ]
    },
    {
      "cell_type": "code",
      "metadata": {
        "id": "tbckP1qjP2ln",
        "colab": {
          "base_uri": "https://localhost:8080/",
          "height": 513
        },
        "outputId": "418ed8ab-b8fc-4e68-8eb5-fa08ae941694"
      },
      "source": [
        "gamma_range = np.arange(0.2,6.2,0.2)\n",
        "plt.figure(figsize=(12, 8))\n",
        "plt.plot(gamma_range, train_err, c='b', label = 'Training Error')\n",
        "plt.plot(gamma_range, valid_err, c='r', label = 'Validation Error')\n",
        "plt.axis([0, 6,0.0,0.04])\n",
        "plt.title('Training and validation errors for different gamma')\n",
        "plt.xlabel('Gamma')\n",
        "plt.ylabel('Error')\n",
        "plt.legend(loc='upper right',frameon=False)\n",
        "plt.show()\n",
        "#plt.savefig('NB.png', dpi=300)\n",
        "plt.close()\n"
      ],
      "execution_count": 13,
      "outputs": [
        {
          "output_type": "display_data",
          "data": {
            "image/png": "[encoded data removed]",
            "text/plain": [
              "<Figure size 864x576 with 1 Axes>"
            ]
          },
          "metadata": {
            "needs_background": "light"
          }
        }
      ]
    },
    {
      "cell_type": "markdown",
      "metadata": {
        "id": "6A7pgV0gDnOw"
      },
      "source": [
        "##### Best gamma for SVC is:"
      ]
    },
    {
      "cell_type": "code",
      "metadata": {
        "id": "dBe1d1xsDssH",
        "colab": {
          "base_uri": "https://localhost:8080/"
        },
        "outputId": "37fa190c-75c9-460f-ec18-1c5e20580a97"
      },
      "source": [
        "print(\"smallest validation error is: \"+ str(np.min(valid_err)))\n",
        "\n",
        "#which corresponds to gamma: \n",
        "print(\"best gamma is: \", np.round(gamma_range[np.argmin(valid_err)]),5)\n",
        "\n",
        "\n",
        "best_gamma = gamma_range[np.argmin(valid_err)]"
      ],
      "execution_count": 14,
      "outputs": [
        {
          "output_type": "stream",
          "name": "stdout",
          "text": [
            "smallest validation error is: 0.029693172690763058\n",
            "best gamma is:  3.0 5\n"
          ]
        }
      ]
    },
    {
      "cell_type": "markdown",
      "metadata": {
        "id": "6E2xyT2tDiYd"
      },
      "source": [
        "##### Calculate test error based on the model with best gamma"
      ]
    },
    {
      "cell_type": "code",
      "metadata": {
        "id": "QNSKv0cOD2C1",
        "colab": {
          "base_uri": "https://localhost:8080/"
        },
        "outputId": "a62d32f8-c379-435e-d1e3-5f9719c114de"
      },
      "source": [
        "svm = SVC(C=1, gamma = best_gamma) #change gamma number here after\n",
        "svm.fit(X_r,Y_r) #re-fit all training data with training dataset \n",
        "#svm_prob = svm.fit.predict_proba(X_t) # do not forget to calculate error with test!!! dataset\n",
        "svm_true_error= 1 - svm.score(X_t, Y_t)\n",
        "print ('SVM true error is: ', np.round(svm_true_error,6))"
      ],
      "execution_count": null,
      "outputs": [
        {
          "output_type": "stream",
          "name": "stdout",
          "text": [
            "SVM true error is:  0.071371\n"
          ]
        }
      ]
    },
    {
      "cell_type": "markdown",
      "metadata": {
        "id": "fMJ81CurP3na"
      },
      "source": [
        "# Comparison of classifiers"
      ]
    },
    {
      "cell_type": "markdown",
      "metadata": {
        "id": "DfeRK4cTP_mp"
      },
      "source": [
        "Here we can do accuracy, precision, recall, F1 metric and ROC "
      ]
    },
    {
      "cell_type": "code",
      "metadata": {
        "id": "SXFwqQGMP-Ah"
      },
      "source": [
        ""
      ],
      "execution_count": null,
      "outputs": []
    },
    {
      "cell_type": "markdown",
      "metadata": {
        "id": "OLG_xce_P-1F"
      },
      "source": [
        "Calculate "
      ]
    },
    {
      "cell_type": "markdown",
      "metadata": {
        "id": "DeJar1laVeE5"
      },
      "source": [
        ""
      ]
    }
  ]
}